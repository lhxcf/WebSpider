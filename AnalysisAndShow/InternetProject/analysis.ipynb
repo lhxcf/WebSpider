{
 "cells": [
  {
   "cell_type": "code",
   "execution_count": 1,
   "metadata": {
    "ExecuteTime": {
     "start_time": "2023-12-07T09:28:52.565733Z",
     "end_time": "2023-12-07T09:29:06.017207Z"
    },
    "collapsed": true,
    "jupyter": {
     "outputs_hidden": true
    }
   },
   "outputs": [],
   "source": [
    "import pandas as pd\n",
    "import matplotlib as pl\n"
   ]
  },
  {
   "cell_type": "code",
   "execution_count": 11,
   "metadata": {
    "ExecuteTime": {
     "end_time": "2023-12-06T15:26:34.699856Z",
     "start_time": "2023-12-06T15:26:34.683878Z"
    },
    "collapsed": false,
    "jupyter": {
     "outputs_hidden": false
    }
   },
   "outputs": [
    {
     "data": {
      "text/html": [
       "<div>\n",
       "<style scoped>\n",
       "    .dataframe tbody tr th:only-of-type {\n",
       "        vertical-align: middle;\n",
       "    }\n",
       "\n",
       "    .dataframe tbody tr th {\n",
       "        vertical-align: top;\n",
       "    }\n",
       "\n",
       "    .dataframe thead th {\n",
       "        text-align: right;\n",
       "    }\n",
       "</style>\n",
       "<table border=\"1\" class=\"dataframe\">\n",
       "  <thead>\n",
       "    <tr style=\"text-align: right;\">\n",
       "      <th></th>\n",
       "      <th>姓名</th>\n",
       "      <th>性别</th>\n",
       "      <th>年龄</th>\n",
       "      <th>职业</th>\n",
       "      <th>疾病名称</th>\n",
       "      <th>发病日期</th>\n",
       "      <th>诊断日期</th>\n",
       "      <th>医生</th>\n",
       "      <th>初/复诊</th>\n",
       "      <th>家庭地址</th>\n",
       "    </tr>\n",
       "  </thead>\n",
       "  <tbody>\n",
       "    <tr>\n",
       "      <th>1</th>\n",
       "      <td>翁承熙</td>\n",
       "      <td>男</td>\n",
       "      <td>17岁</td>\n",
       "      <td>NaN</td>\n",
       "      <td>粉刺</td>\n",
       "      <td>20200111</td>\n",
       "      <td>20200111</td>\n",
       "      <td>陈伯仪</td>\n",
       "      <td>初诊</td>\n",
       "      <td>福建省</td>\n",
       "    </tr>\n",
       "    <tr>\n",
       "      <th>2</th>\n",
       "      <td>陈枭</td>\n",
       "      <td>男</td>\n",
       "      <td>17岁</td>\n",
       "      <td>NaN</td>\n",
       "      <td>粉刺</td>\n",
       "      <td>20200112</td>\n",
       "      <td>20200112</td>\n",
       "      <td>陈伯仪</td>\n",
       "      <td>初诊</td>\n",
       "      <td>福建省</td>\n",
       "    </tr>\n",
       "    <tr>\n",
       "      <th>3</th>\n",
       "      <td>池禧灵</td>\n",
       "      <td>女</td>\n",
       "      <td>19岁</td>\n",
       "      <td>NaN</td>\n",
       "      <td>粉刺</td>\n",
       "      <td>20200112</td>\n",
       "      <td>20200112</td>\n",
       "      <td>陈伯仪</td>\n",
       "      <td>初诊</td>\n",
       "      <td>福建省</td>\n",
       "    </tr>\n",
       "    <tr>\n",
       "      <th>4</th>\n",
       "      <td>林婷</td>\n",
       "      <td>女</td>\n",
       "      <td>30岁</td>\n",
       "      <td>NaN</td>\n",
       "      <td>粉刺</td>\n",
       "      <td>20200118</td>\n",
       "      <td>20200118</td>\n",
       "      <td>陈伯仪</td>\n",
       "      <td>初诊</td>\n",
       "      <td>福建省</td>\n",
       "    </tr>\n",
       "    <tr>\n",
       "      <th>5</th>\n",
       "      <td>林莹</td>\n",
       "      <td>女</td>\n",
       "      <td>27岁</td>\n",
       "      <td>NaN</td>\n",
       "      <td>粉刺</td>\n",
       "      <td>20200118</td>\n",
       "      <td>20200118</td>\n",
       "      <td>陈伯仪</td>\n",
       "      <td>初诊</td>\n",
       "      <td>福建省</td>\n",
       "    </tr>\n",
       "    <tr>\n",
       "      <th>...</th>\n",
       "      <td>...</td>\n",
       "      <td>...</td>\n",
       "      <td>...</td>\n",
       "      <td>...</td>\n",
       "      <td>...</td>\n",
       "      <td>...</td>\n",
       "      <td>...</td>\n",
       "      <td>...</td>\n",
       "      <td>...</td>\n",
       "      <td>...</td>\n",
       "    </tr>\n",
       "    <tr>\n",
       "      <th>440</th>\n",
       "      <td>葛璐维</td>\n",
       "      <td>女</td>\n",
       "      <td>18岁</td>\n",
       "      <td>NaN</td>\n",
       "      <td>粉刺</td>\n",
       "      <td>20230708</td>\n",
       "      <td>20230708</td>\n",
       "      <td>陈伯仪</td>\n",
       "      <td>初诊</td>\n",
       "      <td>福建省</td>\n",
       "    </tr>\n",
       "    <tr>\n",
       "      <th>441</th>\n",
       "      <td>陈璐柠</td>\n",
       "      <td>女</td>\n",
       "      <td>19岁</td>\n",
       "      <td>NaN</td>\n",
       "      <td>粉刺</td>\n",
       "      <td>20230709</td>\n",
       "      <td>20230709</td>\n",
       "      <td>陈伯仪</td>\n",
       "      <td>初诊</td>\n",
       "      <td>福建省</td>\n",
       "    </tr>\n",
       "    <tr>\n",
       "      <th>442</th>\n",
       "      <td>陈璐柠</td>\n",
       "      <td>女</td>\n",
       "      <td>19岁</td>\n",
       "      <td>NaN</td>\n",
       "      <td>粉刺</td>\n",
       "      <td>20230719</td>\n",
       "      <td>20230719</td>\n",
       "      <td>陈伯仪</td>\n",
       "      <td>复诊</td>\n",
       "      <td>福建省</td>\n",
       "    </tr>\n",
       "    <tr>\n",
       "      <th>443</th>\n",
       "      <td>许博</td>\n",
       "      <td>男</td>\n",
       "      <td>0天</td>\n",
       "      <td>NaN</td>\n",
       "      <td>粉刺</td>\n",
       "      <td>20230801</td>\n",
       "      <td>20230802</td>\n",
       "      <td>陈伯仪</td>\n",
       "      <td>初诊</td>\n",
       "      <td>福建省</td>\n",
       "    </tr>\n",
       "    <tr>\n",
       "      <th>444</th>\n",
       "      <td>陈桂岚</td>\n",
       "      <td>女</td>\n",
       "      <td>26岁</td>\n",
       "      <td>NaN</td>\n",
       "      <td>粉刺</td>\n",
       "      <td>20231102</td>\n",
       "      <td>20231102</td>\n",
       "      <td>陈伯仪</td>\n",
       "      <td>初诊</td>\n",
       "      <td>NaN</td>\n",
       "    </tr>\n",
       "  </tbody>\n",
       "</table>\n",
       "<p>444 rows × 10 columns</p>\n",
       "</div>"
      ],
      "text/plain": [
       "0     姓名 性别   年龄   职业 疾病名称      发病日期      诊断日期   医生 初/复诊 家庭地址\n",
       "1    翁承熙  男  17岁  NaN   粉刺  20200111  20200111  陈伯仪   初诊  福建省\n",
       "2     陈枭  男  17岁  NaN   粉刺  20200112  20200112  陈伯仪   初诊  福建省\n",
       "3    池禧灵  女  19岁  NaN   粉刺  20200112  20200112  陈伯仪   初诊  福建省\n",
       "4     林婷  女  30岁  NaN   粉刺  20200118  20200118  陈伯仪   初诊  福建省\n",
       "5     林莹  女  27岁  NaN   粉刺  20200118  20200118  陈伯仪   初诊  福建省\n",
       "..   ... ..  ...  ...  ...       ...       ...  ...  ...  ...\n",
       "440  葛璐维  女  18岁  NaN   粉刺  20230708  20230708  陈伯仪   初诊  福建省\n",
       "441  陈璐柠  女  19岁  NaN   粉刺  20230709  20230709  陈伯仪   初诊  福建省\n",
       "442  陈璐柠  女  19岁  NaN   粉刺  20230719  20230719  陈伯仪   复诊  福建省\n",
       "443   许博  男   0天  NaN   粉刺  20230801  20230802  陈伯仪   初诊  福建省\n",
       "444  陈桂岚  女  26岁  NaN   粉刺  20231102  20231102  陈伯仪   初诊  NaN\n",
       "\n",
       "[444 rows x 10 columns]"
      ]
     },
     "execution_count": 11,
     "metadata": {},
     "output_type": "execute_result"
    }
   ],
   "source": [
    "# 读取数据\n",
    "data = pd.read_excel('福建中医药大学国医堂门诊部粉刺疾病登记表.xlsx')\n",
    "data.columns = data.loc[0]\n",
    "data.drop(0, axis=0,inplace=True)\n",
    "data"
   ]
  },
  {
   "cell_type": "code",
   "execution_count": 12,
   "metadata": {
    "ExecuteTime": {
     "end_time": "2023-12-06T15:26:36.953434Z",
     "start_time": "2023-12-06T15:26:36.937303Z"
    },
    "collapsed": false,
    "jupyter": {
     "outputs_hidden": false
    }
   },
   "outputs": [
    {
     "data": {
      "text/html": [
       "<div>\n",
       "<style scoped>\n",
       "    .dataframe tbody tr th:only-of-type {\n",
       "        vertical-align: middle;\n",
       "    }\n",
       "\n",
       "    .dataframe tbody tr th {\n",
       "        vertical-align: top;\n",
       "    }\n",
       "\n",
       "    .dataframe thead th {\n",
       "        text-align: right;\n",
       "    }\n",
       "</style>\n",
       "<table border=\"1\" class=\"dataframe\">\n",
       "  <thead>\n",
       "    <tr style=\"text-align: right;\">\n",
       "      <th></th>\n",
       "      <th>姓名</th>\n",
       "      <th>性别</th>\n",
       "      <th>年龄</th>\n",
       "      <th>职业</th>\n",
       "      <th>疾病名称</th>\n",
       "      <th>发病日期</th>\n",
       "      <th>诊断日期</th>\n",
       "      <th>医生</th>\n",
       "      <th>初/复诊</th>\n",
       "      <th>家庭地址</th>\n",
       "    </tr>\n",
       "  </thead>\n",
       "  <tbody>\n",
       "    <tr>\n",
       "      <th>1</th>\n",
       "      <td>翁承熙</td>\n",
       "      <td>男</td>\n",
       "      <td>17</td>\n",
       "      <td>NaN</td>\n",
       "      <td>粉刺</td>\n",
       "      <td>20200111</td>\n",
       "      <td>20200111</td>\n",
       "      <td>陈伯仪</td>\n",
       "      <td>初诊</td>\n",
       "      <td>福建省</td>\n",
       "    </tr>\n",
       "    <tr>\n",
       "      <th>2</th>\n",
       "      <td>陈枭</td>\n",
       "      <td>男</td>\n",
       "      <td>17</td>\n",
       "      <td>NaN</td>\n",
       "      <td>粉刺</td>\n",
       "      <td>20200112</td>\n",
       "      <td>20200112</td>\n",
       "      <td>陈伯仪</td>\n",
       "      <td>初诊</td>\n",
       "      <td>福建省</td>\n",
       "    </tr>\n",
       "    <tr>\n",
       "      <th>3</th>\n",
       "      <td>池禧灵</td>\n",
       "      <td>女</td>\n",
       "      <td>19</td>\n",
       "      <td>NaN</td>\n",
       "      <td>粉刺</td>\n",
       "      <td>20200112</td>\n",
       "      <td>20200112</td>\n",
       "      <td>陈伯仪</td>\n",
       "      <td>初诊</td>\n",
       "      <td>福建省</td>\n",
       "    </tr>\n",
       "    <tr>\n",
       "      <th>4</th>\n",
       "      <td>林婷</td>\n",
       "      <td>女</td>\n",
       "      <td>30</td>\n",
       "      <td>NaN</td>\n",
       "      <td>粉刺</td>\n",
       "      <td>20200118</td>\n",
       "      <td>20200118</td>\n",
       "      <td>陈伯仪</td>\n",
       "      <td>初诊</td>\n",
       "      <td>福建省</td>\n",
       "    </tr>\n",
       "    <tr>\n",
       "      <th>5</th>\n",
       "      <td>林莹</td>\n",
       "      <td>女</td>\n",
       "      <td>27</td>\n",
       "      <td>NaN</td>\n",
       "      <td>粉刺</td>\n",
       "      <td>20200118</td>\n",
       "      <td>20200118</td>\n",
       "      <td>陈伯仪</td>\n",
       "      <td>初诊</td>\n",
       "      <td>福建省</td>\n",
       "    </tr>\n",
       "    <tr>\n",
       "      <th>...</th>\n",
       "      <td>...</td>\n",
       "      <td>...</td>\n",
       "      <td>...</td>\n",
       "      <td>...</td>\n",
       "      <td>...</td>\n",
       "      <td>...</td>\n",
       "      <td>...</td>\n",
       "      <td>...</td>\n",
       "      <td>...</td>\n",
       "      <td>...</td>\n",
       "    </tr>\n",
       "    <tr>\n",
       "      <th>440</th>\n",
       "      <td>葛璐维</td>\n",
       "      <td>女</td>\n",
       "      <td>18</td>\n",
       "      <td>NaN</td>\n",
       "      <td>粉刺</td>\n",
       "      <td>20230708</td>\n",
       "      <td>20230708</td>\n",
       "      <td>陈伯仪</td>\n",
       "      <td>初诊</td>\n",
       "      <td>福建省</td>\n",
       "    </tr>\n",
       "    <tr>\n",
       "      <th>441</th>\n",
       "      <td>陈璐柠</td>\n",
       "      <td>女</td>\n",
       "      <td>19</td>\n",
       "      <td>NaN</td>\n",
       "      <td>粉刺</td>\n",
       "      <td>20230709</td>\n",
       "      <td>20230709</td>\n",
       "      <td>陈伯仪</td>\n",
       "      <td>初诊</td>\n",
       "      <td>福建省</td>\n",
       "    </tr>\n",
       "    <tr>\n",
       "      <th>442</th>\n",
       "      <td>陈璐柠</td>\n",
       "      <td>女</td>\n",
       "      <td>19</td>\n",
       "      <td>NaN</td>\n",
       "      <td>粉刺</td>\n",
       "      <td>20230719</td>\n",
       "      <td>20230719</td>\n",
       "      <td>陈伯仪</td>\n",
       "      <td>复诊</td>\n",
       "      <td>福建省</td>\n",
       "    </tr>\n",
       "    <tr>\n",
       "      <th>443</th>\n",
       "      <td>许博</td>\n",
       "      <td>男</td>\n",
       "      <td>0天</td>\n",
       "      <td>NaN</td>\n",
       "      <td>粉刺</td>\n",
       "      <td>20230801</td>\n",
       "      <td>20230802</td>\n",
       "      <td>陈伯仪</td>\n",
       "      <td>初诊</td>\n",
       "      <td>福建省</td>\n",
       "    </tr>\n",
       "    <tr>\n",
       "      <th>444</th>\n",
       "      <td>陈桂岚</td>\n",
       "      <td>女</td>\n",
       "      <td>26</td>\n",
       "      <td>NaN</td>\n",
       "      <td>粉刺</td>\n",
       "      <td>20231102</td>\n",
       "      <td>20231102</td>\n",
       "      <td>陈伯仪</td>\n",
       "      <td>初诊</td>\n",
       "      <td>NaN</td>\n",
       "    </tr>\n",
       "  </tbody>\n",
       "</table>\n",
       "<p>444 rows × 10 columns</p>\n",
       "</div>"
      ],
      "text/plain": [
       "0     姓名 性别  年龄   职业 疾病名称      发病日期      诊断日期   医生 初/复诊 家庭地址\n",
       "1    翁承熙  男  17  NaN   粉刺  20200111  20200111  陈伯仪   初诊  福建省\n",
       "2     陈枭  男  17  NaN   粉刺  20200112  20200112  陈伯仪   初诊  福建省\n",
       "3    池禧灵  女  19  NaN   粉刺  20200112  20200112  陈伯仪   初诊  福建省\n",
       "4     林婷  女  30  NaN   粉刺  20200118  20200118  陈伯仪   初诊  福建省\n",
       "5     林莹  女  27  NaN   粉刺  20200118  20200118  陈伯仪   初诊  福建省\n",
       "..   ... ..  ..  ...  ...       ...       ...  ...  ...  ...\n",
       "440  葛璐维  女  18  NaN   粉刺  20230708  20230708  陈伯仪   初诊  福建省\n",
       "441  陈璐柠  女  19  NaN   粉刺  20230709  20230709  陈伯仪   初诊  福建省\n",
       "442  陈璐柠  女  19  NaN   粉刺  20230719  20230719  陈伯仪   复诊  福建省\n",
       "443   许博  男  0天  NaN   粉刺  20230801  20230802  陈伯仪   初诊  福建省\n",
       "444  陈桂岚  女  26  NaN   粉刺  20231102  20231102  陈伯仪   初诊  NaN\n",
       "\n",
       "[444 rows x 10 columns]"
      ]
     },
     "execution_count": 12,
     "metadata": {},
     "output_type": "execute_result"
    }
   ],
   "source": [
    "data['年龄'] = data['年龄'].astype('str').str[:2] # 删除”岁“\n",
    "data"
   ]
  },
  {
   "cell_type": "code",
   "execution_count": 2,
   "metadata": {
    "ExecuteTime": {
     "start_time": "2023-12-07T09:29:18.909680Z",
     "end_time": "2023-12-07T09:29:20.057961Z"
    },
    "collapsed": false,
    "jupyter": {
     "outputs_hidden": false
    }
   },
   "outputs": [
    {
     "data": {
      "text/plain": "     Unnamed: 0.1  Unnamed: 0   姓名 性别  年龄  职业 疾病名称      发病日期      诊断日期   医生  \\\n0               0           1  翁承熙  男  17 NaN   粉刺  20200111  20200111  陈伯仪   \n1               1           2   陈枭  男  17 NaN   粉刺  20200112  20200112  陈伯仪   \n2               2           3  池禧灵  女  19 NaN   粉刺  20200112  20200112  陈伯仪   \n3               3           4   林婷  女  30 NaN   粉刺  20200118  20200118  陈伯仪   \n4               4           5   林莹  女  27 NaN   粉刺  20200118  20200118  陈伯仪   \n..            ...         ...  ... ..  ..  ..  ...       ...       ...  ...   \n438           438         439  张姚中  男  14 NaN   粉刺  20230607  20230607  陈伯仪   \n439           439         440  葛璐维  女  18 NaN   粉刺  20230708  20230708  陈伯仪   \n440           440         441  陈璐柠  女  19 NaN   粉刺  20230709  20230709  陈伯仪   \n441           441         442  陈璐柠  女  19 NaN   粉刺  20230719  20230719  陈伯仪   \n442           443         444  陈桂岚  女  26 NaN   粉刺  20231102  20231102  陈伯仪   \n\n    初/复诊 家庭地址  \n0     初诊  福建省  \n1     初诊  福建省  \n2     初诊  福建省  \n3     初诊  福建省  \n4     初诊  福建省  \n..   ...  ...  \n438   初诊  福建省  \n439   初诊  福建省  \n440   初诊  福建省  \n441   复诊  福建省  \n442   初诊  NaN  \n\n[443 rows x 12 columns]",
      "text/html": "<div>\n<style scoped>\n    .dataframe tbody tr th:only-of-type {\n        vertical-align: middle;\n    }\n\n    .dataframe tbody tr th {\n        vertical-align: top;\n    }\n\n    .dataframe thead th {\n        text-align: right;\n    }\n</style>\n<table border=\"1\" class=\"dataframe\">\n  <thead>\n    <tr style=\"text-align: right;\">\n      <th></th>\n      <th>Unnamed: 0.1</th>\n      <th>Unnamed: 0</th>\n      <th>姓名</th>\n      <th>性别</th>\n      <th>年龄</th>\n      <th>职业</th>\n      <th>疾病名称</th>\n      <th>发病日期</th>\n      <th>诊断日期</th>\n      <th>医生</th>\n      <th>初/复诊</th>\n      <th>家庭地址</th>\n    </tr>\n  </thead>\n  <tbody>\n    <tr>\n      <th>0</th>\n      <td>0</td>\n      <td>1</td>\n      <td>翁承熙</td>\n      <td>男</td>\n      <td>17</td>\n      <td>NaN</td>\n      <td>粉刺</td>\n      <td>20200111</td>\n      <td>20200111</td>\n      <td>陈伯仪</td>\n      <td>初诊</td>\n      <td>福建省</td>\n    </tr>\n    <tr>\n      <th>1</th>\n      <td>1</td>\n      <td>2</td>\n      <td>陈枭</td>\n      <td>男</td>\n      <td>17</td>\n      <td>NaN</td>\n      <td>粉刺</td>\n      <td>20200112</td>\n      <td>20200112</td>\n      <td>陈伯仪</td>\n      <td>初诊</td>\n      <td>福建省</td>\n    </tr>\n    <tr>\n      <th>2</th>\n      <td>2</td>\n      <td>3</td>\n      <td>池禧灵</td>\n      <td>女</td>\n      <td>19</td>\n      <td>NaN</td>\n      <td>粉刺</td>\n      <td>20200112</td>\n      <td>20200112</td>\n      <td>陈伯仪</td>\n      <td>初诊</td>\n      <td>福建省</td>\n    </tr>\n    <tr>\n      <th>3</th>\n      <td>3</td>\n      <td>4</td>\n      <td>林婷</td>\n      <td>女</td>\n      <td>30</td>\n      <td>NaN</td>\n      <td>粉刺</td>\n      <td>20200118</td>\n      <td>20200118</td>\n      <td>陈伯仪</td>\n      <td>初诊</td>\n      <td>福建省</td>\n    </tr>\n    <tr>\n      <th>4</th>\n      <td>4</td>\n      <td>5</td>\n      <td>林莹</td>\n      <td>女</td>\n      <td>27</td>\n      <td>NaN</td>\n      <td>粉刺</td>\n      <td>20200118</td>\n      <td>20200118</td>\n      <td>陈伯仪</td>\n      <td>初诊</td>\n      <td>福建省</td>\n    </tr>\n    <tr>\n      <th>...</th>\n      <td>...</td>\n      <td>...</td>\n      <td>...</td>\n      <td>...</td>\n      <td>...</td>\n      <td>...</td>\n      <td>...</td>\n      <td>...</td>\n      <td>...</td>\n      <td>...</td>\n      <td>...</td>\n      <td>...</td>\n    </tr>\n    <tr>\n      <th>438</th>\n      <td>438</td>\n      <td>439</td>\n      <td>张姚中</td>\n      <td>男</td>\n      <td>14</td>\n      <td>NaN</td>\n      <td>粉刺</td>\n      <td>20230607</td>\n      <td>20230607</td>\n      <td>陈伯仪</td>\n      <td>初诊</td>\n      <td>福建省</td>\n    </tr>\n    <tr>\n      <th>439</th>\n      <td>439</td>\n      <td>440</td>\n      <td>葛璐维</td>\n      <td>女</td>\n      <td>18</td>\n      <td>NaN</td>\n      <td>粉刺</td>\n      <td>20230708</td>\n      <td>20230708</td>\n      <td>陈伯仪</td>\n      <td>初诊</td>\n      <td>福建省</td>\n    </tr>\n    <tr>\n      <th>440</th>\n      <td>440</td>\n      <td>441</td>\n      <td>陈璐柠</td>\n      <td>女</td>\n      <td>19</td>\n      <td>NaN</td>\n      <td>粉刺</td>\n      <td>20230709</td>\n      <td>20230709</td>\n      <td>陈伯仪</td>\n      <td>初诊</td>\n      <td>福建省</td>\n    </tr>\n    <tr>\n      <th>441</th>\n      <td>441</td>\n      <td>442</td>\n      <td>陈璐柠</td>\n      <td>女</td>\n      <td>19</td>\n      <td>NaN</td>\n      <td>粉刺</td>\n      <td>20230719</td>\n      <td>20230719</td>\n      <td>陈伯仪</td>\n      <td>复诊</td>\n      <td>福建省</td>\n    </tr>\n    <tr>\n      <th>442</th>\n      <td>443</td>\n      <td>444</td>\n      <td>陈桂岚</td>\n      <td>女</td>\n      <td>26</td>\n      <td>NaN</td>\n      <td>粉刺</td>\n      <td>20231102</td>\n      <td>20231102</td>\n      <td>陈伯仪</td>\n      <td>初诊</td>\n      <td>NaN</td>\n    </tr>\n  </tbody>\n</table>\n<p>443 rows × 12 columns</p>\n</div>"
     },
     "execution_count": 2,
     "metadata": {},
     "output_type": "execute_result"
    }
   ],
   "source": [
    "# 读取处理后的文件\n",
    "data = pd.read_excel(\"年龄更新后.xlsx\")\n",
    "data"
   ]
  },
  {
   "cell_type": "code",
   "execution_count": 3,
   "metadata": {
    "ExecuteTime": {
     "start_time": "2023-12-07T09:29:23.512830Z",
     "end_time": "2023-12-07T09:29:23.540456Z"
    },
    "collapsed": false,
    "jupyter": {
     "outputs_hidden": false
    }
   },
   "outputs": [
    {
     "data": {
      "text/plain": "     Unnamed: 0.1  Unnamed: 0   姓名 性别  年龄  职业 疾病名称      发病日期      诊断日期   医生  \\\n0               0           1  翁承熙  男  17 NaN   粉刺  20200111  20200111  陈伯仪   \n1               1           2   陈枭  男  17 NaN   粉刺  20200112  20200112  陈伯仪   \n2               2           3  池禧灵  女  19 NaN   粉刺  20200112  20200112  陈伯仪   \n3               3           4   林婷  女  30 NaN   粉刺  20200118  20200118  陈伯仪   \n4               4           5   林莹  女  27 NaN   粉刺  20200118  20200118  陈伯仪   \n..            ...         ...  ... ..  ..  ..  ...       ...       ...  ...   \n438           438         439  张姚中  男  14 NaN   粉刺  20230607  20230607  陈伯仪   \n439           439         440  葛璐维  女  18 NaN   粉刺  20230708  20230708  陈伯仪   \n440           440         441  陈璐柠  女  19 NaN   粉刺  20230709  20230709  陈伯仪   \n441           441         442  陈璐柠  女  19 NaN   粉刺  20230719  20230719  陈伯仪   \n442           443         444  陈桂岚  女  26 NaN   粉刺  20231102  20231102  陈伯仪   \n\n    初/复诊 家庭地址  \n0     初诊  福建省  \n1     初诊  福建省  \n2     初诊  福建省  \n3     初诊  福建省  \n4     初诊  福建省  \n..   ...  ...  \n438   初诊  福建省  \n439   初诊  福建省  \n440   初诊  福建省  \n441   复诊  福建省  \n442   初诊  NaN  \n\n[443 rows x 12 columns]",
      "text/html": "<div>\n<style scoped>\n    .dataframe tbody tr th:only-of-type {\n        vertical-align: middle;\n    }\n\n    .dataframe tbody tr th {\n        vertical-align: top;\n    }\n\n    .dataframe thead th {\n        text-align: right;\n    }\n</style>\n<table border=\"1\" class=\"dataframe\">\n  <thead>\n    <tr style=\"text-align: right;\">\n      <th></th>\n      <th>Unnamed: 0.1</th>\n      <th>Unnamed: 0</th>\n      <th>姓名</th>\n      <th>性别</th>\n      <th>年龄</th>\n      <th>职业</th>\n      <th>疾病名称</th>\n      <th>发病日期</th>\n      <th>诊断日期</th>\n      <th>医生</th>\n      <th>初/复诊</th>\n      <th>家庭地址</th>\n    </tr>\n  </thead>\n  <tbody>\n    <tr>\n      <th>0</th>\n      <td>0</td>\n      <td>1</td>\n      <td>翁承熙</td>\n      <td>男</td>\n      <td>17</td>\n      <td>NaN</td>\n      <td>粉刺</td>\n      <td>20200111</td>\n      <td>20200111</td>\n      <td>陈伯仪</td>\n      <td>初诊</td>\n      <td>福建省</td>\n    </tr>\n    <tr>\n      <th>1</th>\n      <td>1</td>\n      <td>2</td>\n      <td>陈枭</td>\n      <td>男</td>\n      <td>17</td>\n      <td>NaN</td>\n      <td>粉刺</td>\n      <td>20200112</td>\n      <td>20200112</td>\n      <td>陈伯仪</td>\n      <td>初诊</td>\n      <td>福建省</td>\n    </tr>\n    <tr>\n      <th>2</th>\n      <td>2</td>\n      <td>3</td>\n      <td>池禧灵</td>\n      <td>女</td>\n      <td>19</td>\n      <td>NaN</td>\n      <td>粉刺</td>\n      <td>20200112</td>\n      <td>20200112</td>\n      <td>陈伯仪</td>\n      <td>初诊</td>\n      <td>福建省</td>\n    </tr>\n    <tr>\n      <th>3</th>\n      <td>3</td>\n      <td>4</td>\n      <td>林婷</td>\n      <td>女</td>\n      <td>30</td>\n      <td>NaN</td>\n      <td>粉刺</td>\n      <td>20200118</td>\n      <td>20200118</td>\n      <td>陈伯仪</td>\n      <td>初诊</td>\n      <td>福建省</td>\n    </tr>\n    <tr>\n      <th>4</th>\n      <td>4</td>\n      <td>5</td>\n      <td>林莹</td>\n      <td>女</td>\n      <td>27</td>\n      <td>NaN</td>\n      <td>粉刺</td>\n      <td>20200118</td>\n      <td>20200118</td>\n      <td>陈伯仪</td>\n      <td>初诊</td>\n      <td>福建省</td>\n    </tr>\n    <tr>\n      <th>...</th>\n      <td>...</td>\n      <td>...</td>\n      <td>...</td>\n      <td>...</td>\n      <td>...</td>\n      <td>...</td>\n      <td>...</td>\n      <td>...</td>\n      <td>...</td>\n      <td>...</td>\n      <td>...</td>\n      <td>...</td>\n    </tr>\n    <tr>\n      <th>438</th>\n      <td>438</td>\n      <td>439</td>\n      <td>张姚中</td>\n      <td>男</td>\n      <td>14</td>\n      <td>NaN</td>\n      <td>粉刺</td>\n      <td>20230607</td>\n      <td>20230607</td>\n      <td>陈伯仪</td>\n      <td>初诊</td>\n      <td>福建省</td>\n    </tr>\n    <tr>\n      <th>439</th>\n      <td>439</td>\n      <td>440</td>\n      <td>葛璐维</td>\n      <td>女</td>\n      <td>18</td>\n      <td>NaN</td>\n      <td>粉刺</td>\n      <td>20230708</td>\n      <td>20230708</td>\n      <td>陈伯仪</td>\n      <td>初诊</td>\n      <td>福建省</td>\n    </tr>\n    <tr>\n      <th>440</th>\n      <td>440</td>\n      <td>441</td>\n      <td>陈璐柠</td>\n      <td>女</td>\n      <td>19</td>\n      <td>NaN</td>\n      <td>粉刺</td>\n      <td>20230709</td>\n      <td>20230709</td>\n      <td>陈伯仪</td>\n      <td>初诊</td>\n      <td>福建省</td>\n    </tr>\n    <tr>\n      <th>441</th>\n      <td>441</td>\n      <td>442</td>\n      <td>陈璐柠</td>\n      <td>女</td>\n      <td>19</td>\n      <td>NaN</td>\n      <td>粉刺</td>\n      <td>20230719</td>\n      <td>20230719</td>\n      <td>陈伯仪</td>\n      <td>复诊</td>\n      <td>福建省</td>\n    </tr>\n    <tr>\n      <th>442</th>\n      <td>443</td>\n      <td>444</td>\n      <td>陈桂岚</td>\n      <td>女</td>\n      <td>26</td>\n      <td>NaN</td>\n      <td>粉刺</td>\n      <td>20231102</td>\n      <td>20231102</td>\n      <td>陈伯仪</td>\n      <td>初诊</td>\n      <td>NaN</td>\n    </tr>\n  </tbody>\n</table>\n<p>443 rows × 12 columns</p>\n</div>"
     },
     "execution_count": 3,
     "metadata": {},
     "output_type": "execute_result"
    }
   ],
   "source": [
    "# 分段统计\n",
    "data = data.dropna(subset=['年龄'])\n",
    "data['年龄'].astype(int)\n",
    "data"
   ]
  },
  {
   "cell_type": "code",
   "execution_count": 4,
   "metadata": {
    "ExecuteTime": {
     "start_time": "2023-12-07T09:29:27.493711Z",
     "end_time": "2023-12-07T09:29:27.498050Z"
    },
    "collapsed": false,
    "jupyter": {
     "outputs_hidden": false
    }
   },
   "outputs": [
    {
     "data": {
      "text/plain": "age_group\n青年     263\n青少年    152\n少儿      25\n婴幼儿      2\n中年       1\n老年       0\nName: count, dtype: int64"
     },
     "execution_count": 4,
     "metadata": {},
     "output_type": "execute_result"
    }
   ],
   "source": [
    "data['age_group'] = pd.cut(data['年龄'], bins=[0, 6, 12, 17, 45, 69, 70], labels=['婴幼儿', '少儿', '青少年', '青年', '中年', '老年'])\n",
    "\n",
    "# 统计个数\n",
    "df = data['age_group'].value_counts()\n",
    "df\n",
    "\n"
   ]
  },
  {
   "cell_type": "code",
   "execution_count": 5,
   "metadata": {
    "ExecuteTime": {
     "start_time": "2023-12-07T09:29:30.801101Z",
     "end_time": "2023-12-07T09:29:30.810073Z"
    },
    "collapsed": false,
    "jupyter": {
     "outputs_hidden": false
    }
   },
   "outputs": [
    {
     "data": {
      "text/plain": "Unnamed: 0.1    443\nUnnamed: 0      443\n姓名              242\n性别                2\n年龄               36\n职业                0\n疾病名称              1\n发病日期            287\n诊断日期            286\n医生                1\n初/复诊              2\n家庭地址              4\nage_group         5\ndtype: int64"
     },
     "execution_count": 5,
     "metadata": {},
     "output_type": "execute_result"
    }
   ],
   "source": [
    "# 数据表每列数据类别统计统计\n",
    "data.nunique()"
   ]
  },
  {
   "cell_type": "code",
   "execution_count": 6,
   "metadata": {
    "ExecuteTime": {
     "start_time": "2023-12-07T09:29:34.859619Z",
     "end_time": "2023-12-07T09:29:34.869051Z"
    },
    "collapsed": false,
    "jupyter": {
     "outputs_hidden": false
    }
   },
   "outputs": [
    {
     "data": {
      "text/plain": "count    443.000000\nmean      20.216704\nstd        6.291414\nmin        1.000000\n25%       16.000000\n50%       19.000000\n75%       23.000000\nmax       46.000000\nName: 年龄, dtype: float64"
     },
     "execution_count": 6,
     "metadata": {},
     "output_type": "execute_result"
    }
   ],
   "source": [
    "# 年龄基本数据情况查看\n",
    "df = data\n",
    "df['年龄'].describe()"
   ]
  },
  {
   "cell_type": "code",
   "execution_count": 7,
   "metadata": {
    "ExecuteTime": {
     "start_time": "2023-12-07T09:29:38.565872Z",
     "end_time": "2023-12-07T09:29:38.575935Z"
    },
    "collapsed": false,
    "jupyter": {
     "outputs_hidden": false
    }
   },
   "outputs": [
    {
     "data": {
      "text/plain": "     Unnamed: 0.1  Unnamed: 0   姓名 性别  年龄  职业 疾病名称      发病日期      诊断日期   医生  \\\n0               0           1  翁承熙  男  17 NaN   粉刺  20200111  20200111  陈伯仪   \n1               1           2   陈枭  男  17 NaN   粉刺  20200112  20200112  陈伯仪   \n2               2           3  池禧灵  女  19 NaN   粉刺  20200112  20200112  陈伯仪   \n3               3           4   林婷  女  30 NaN   粉刺  20200118  20200118  陈伯仪   \n4               4           5   林莹  女  27 NaN   粉刺  20200118  20200118  陈伯仪   \n..            ...         ...  ... ..  ..  ..  ...       ...       ...  ...   \n438           438         439  张姚中  男  14 NaN   粉刺  20230607  20230607  陈伯仪   \n439           439         440  葛璐维  女  18 NaN   粉刺  20230708  20230708  陈伯仪   \n440           440         441  陈璐柠  女  19 NaN   粉刺  20230709  20230709  陈伯仪   \n441           441         442  陈璐柠  女  19 NaN   粉刺  20230719  20230719  陈伯仪   \n442           443         444  陈桂岚  女  26 NaN   粉刺  20231102  20231102  陈伯仪   \n\n    初/复诊 家庭地址 age_group  \n0     初诊  福建省       青少年  \n1     初诊  福建省       青少年  \n2     初诊  福建省        青年  \n3     初诊  福建省        青年  \n4     初诊  福建省        青年  \n..   ...  ...       ...  \n438   初诊  福建省       青少年  \n439   初诊  福建省        青年  \n440   初诊  福建省        青年  \n441   复诊  福建省        青年  \n442   初诊  NaN        青年  \n\n[443 rows x 13 columns]",
      "text/html": "<div>\n<style scoped>\n    .dataframe tbody tr th:only-of-type {\n        vertical-align: middle;\n    }\n\n    .dataframe tbody tr th {\n        vertical-align: top;\n    }\n\n    .dataframe thead th {\n        text-align: right;\n    }\n</style>\n<table border=\"1\" class=\"dataframe\">\n  <thead>\n    <tr style=\"text-align: right;\">\n      <th></th>\n      <th>Unnamed: 0.1</th>\n      <th>Unnamed: 0</th>\n      <th>姓名</th>\n      <th>性别</th>\n      <th>年龄</th>\n      <th>职业</th>\n      <th>疾病名称</th>\n      <th>发病日期</th>\n      <th>诊断日期</th>\n      <th>医生</th>\n      <th>初/复诊</th>\n      <th>家庭地址</th>\n      <th>age_group</th>\n    </tr>\n  </thead>\n  <tbody>\n    <tr>\n      <th>0</th>\n      <td>0</td>\n      <td>1</td>\n      <td>翁承熙</td>\n      <td>男</td>\n      <td>17</td>\n      <td>NaN</td>\n      <td>粉刺</td>\n      <td>20200111</td>\n      <td>20200111</td>\n      <td>陈伯仪</td>\n      <td>初诊</td>\n      <td>福建省</td>\n      <td>青少年</td>\n    </tr>\n    <tr>\n      <th>1</th>\n      <td>1</td>\n      <td>2</td>\n      <td>陈枭</td>\n      <td>男</td>\n      <td>17</td>\n      <td>NaN</td>\n      <td>粉刺</td>\n      <td>20200112</td>\n      <td>20200112</td>\n      <td>陈伯仪</td>\n      <td>初诊</td>\n      <td>福建省</td>\n      <td>青少年</td>\n    </tr>\n    <tr>\n      <th>2</th>\n      <td>2</td>\n      <td>3</td>\n      <td>池禧灵</td>\n      <td>女</td>\n      <td>19</td>\n      <td>NaN</td>\n      <td>粉刺</td>\n      <td>20200112</td>\n      <td>20200112</td>\n      <td>陈伯仪</td>\n      <td>初诊</td>\n      <td>福建省</td>\n      <td>青年</td>\n    </tr>\n    <tr>\n      <th>3</th>\n      <td>3</td>\n      <td>4</td>\n      <td>林婷</td>\n      <td>女</td>\n      <td>30</td>\n      <td>NaN</td>\n      <td>粉刺</td>\n      <td>20200118</td>\n      <td>20200118</td>\n      <td>陈伯仪</td>\n      <td>初诊</td>\n      <td>福建省</td>\n      <td>青年</td>\n    </tr>\n    <tr>\n      <th>4</th>\n      <td>4</td>\n      <td>5</td>\n      <td>林莹</td>\n      <td>女</td>\n      <td>27</td>\n      <td>NaN</td>\n      <td>粉刺</td>\n      <td>20200118</td>\n      <td>20200118</td>\n      <td>陈伯仪</td>\n      <td>初诊</td>\n      <td>福建省</td>\n      <td>青年</td>\n    </tr>\n    <tr>\n      <th>...</th>\n      <td>...</td>\n      <td>...</td>\n      <td>...</td>\n      <td>...</td>\n      <td>...</td>\n      <td>...</td>\n      <td>...</td>\n      <td>...</td>\n      <td>...</td>\n      <td>...</td>\n      <td>...</td>\n      <td>...</td>\n      <td>...</td>\n    </tr>\n    <tr>\n      <th>438</th>\n      <td>438</td>\n      <td>439</td>\n      <td>张姚中</td>\n      <td>男</td>\n      <td>14</td>\n      <td>NaN</td>\n      <td>粉刺</td>\n      <td>20230607</td>\n      <td>20230607</td>\n      <td>陈伯仪</td>\n      <td>初诊</td>\n      <td>福建省</td>\n      <td>青少年</td>\n    </tr>\n    <tr>\n      <th>439</th>\n      <td>439</td>\n      <td>440</td>\n      <td>葛璐维</td>\n      <td>女</td>\n      <td>18</td>\n      <td>NaN</td>\n      <td>粉刺</td>\n      <td>20230708</td>\n      <td>20230708</td>\n      <td>陈伯仪</td>\n      <td>初诊</td>\n      <td>福建省</td>\n      <td>青年</td>\n    </tr>\n    <tr>\n      <th>440</th>\n      <td>440</td>\n      <td>441</td>\n      <td>陈璐柠</td>\n      <td>女</td>\n      <td>19</td>\n      <td>NaN</td>\n      <td>粉刺</td>\n      <td>20230709</td>\n      <td>20230709</td>\n      <td>陈伯仪</td>\n      <td>初诊</td>\n      <td>福建省</td>\n      <td>青年</td>\n    </tr>\n    <tr>\n      <th>441</th>\n      <td>441</td>\n      <td>442</td>\n      <td>陈璐柠</td>\n      <td>女</td>\n      <td>19</td>\n      <td>NaN</td>\n      <td>粉刺</td>\n      <td>20230719</td>\n      <td>20230719</td>\n      <td>陈伯仪</td>\n      <td>复诊</td>\n      <td>福建省</td>\n      <td>青年</td>\n    </tr>\n    <tr>\n      <th>442</th>\n      <td>443</td>\n      <td>444</td>\n      <td>陈桂岚</td>\n      <td>女</td>\n      <td>26</td>\n      <td>NaN</td>\n      <td>粉刺</td>\n      <td>20231102</td>\n      <td>20231102</td>\n      <td>陈伯仪</td>\n      <td>初诊</td>\n      <td>NaN</td>\n      <td>青年</td>\n    </tr>\n  </tbody>\n</table>\n<p>443 rows × 13 columns</p>\n</div>"
     },
     "execution_count": 7,
     "metadata": {},
     "output_type": "execute_result"
    }
   ],
   "source": [
    "df['性别'].value_counts()\n",
    "df"
   ]
  },
  {
   "cell_type": "code",
   "execution_count": 8,
   "metadata": {
    "ExecuteTime": {
     "start_time": "2023-12-07T09:29:42.396357Z",
     "end_time": "2023-12-07T09:29:42.405297Z"
    },
    "collapsed": false,
    "jupyter": {
     "outputs_hidden": false
    }
   },
   "outputs": [],
   "source": [
    "# 删除职业列\n",
    "df.drop('职业', inplace=True, axis=1)"
   ]
  },
  {
   "cell_type": "code",
   "execution_count": 9,
   "metadata": {
    "ExecuteTime": {
     "start_time": "2023-12-07T09:29:44.859413Z",
     "end_time": "2023-12-07T09:29:44.870092Z"
    },
    "collapsed": false,
    "jupyter": {
     "outputs_hidden": false
    }
   },
   "outputs": [
    {
     "data": {
      "text/plain": "姓名\n丁添     1\n严恩昕    1\n何光浩    1\n何宸熙    1\n何帮路    1\n      ..\n黄金元    1\n黄陆飞    8\n黄骥     2\n龚晴川    1\n龚琴     2\nName: 初/复诊, Length: 242, dtype: int64"
     },
     "execution_count": 9,
     "metadata": {},
     "output_type": "execute_result"
    }
   ],
   "source": [
    "count_name = df['初/复诊'].groupby(df['姓名']).count()\n",
    "count_name"
   ]
  },
  {
   "cell_type": "code",
   "execution_count": 10,
   "metadata": {
    "ExecuteTime": {
     "start_time": "2023-12-07T09:29:49.568781Z",
     "end_time": "2023-12-07T09:29:49.578284Z"
    },
    "collapsed": false,
    "jupyter": {
     "outputs_hidden": false
    }
   },
   "outputs": [
    {
     "data": {
      "text/plain": "count    242.000000\nmean       1.830579\nstd        1.591020\nmin        1.000000\n25%        1.000000\n50%        1.000000\n75%        2.000000\nmax       11.000000\nName: 初/复诊, dtype: float64"
     },
     "execution_count": 10,
     "metadata": {},
     "output_type": "execute_result"
    }
   ],
   "source": [
    "count_name.describe() # 描述性统计"
   ]
  },
  {
   "cell_type": "code",
   "execution_count": 11,
   "metadata": {
    "ExecuteTime": {
     "start_time": "2023-12-07T09:29:52.843108Z",
     "end_time": "2023-12-07T09:29:52.852956Z"
    },
    "collapsed": false,
    "jupyter": {
     "outputs_hidden": false
    }
   },
   "outputs": [
    {
     "data": {
      "text/plain": "     Unnamed: 0.1  Unnamed: 0   姓名 性别  年龄 疾病名称      发病日期      诊断日期   医生 初/复诊  \\\n386           386         387  刘丽清  女  27   粉刺  20220928  20220928  陈伯仪   初诊   \n391           391         392  刘丽清  女  27   粉刺  20221005  20221005  陈伯仪   复诊   \n392           392         393  刘丽清  女  27   粉刺  20221012  20221012  陈伯仪   复诊   \n393           393         394  刘丽清  女  27   粉刺  20221019  20221019  陈伯仪   复诊   \n395           395         396  刘丽清  女  27   粉刺  20221029  20221029  陈伯仪   复诊   \n396           396         397  刘丽清  女  28   粉刺  20221106  20221106  陈伯仪   复诊   \n397           397         398  刘丽清  女  28   粉刺  20221116  20221116  陈伯仪   复诊   \n399           399         400  刘丽清  女  28   粉刺  20221126  20221126  陈伯仪   复诊   \n401           401         402  刘丽清  女  28   粉刺  20221207  20221207  陈伯仪   复诊   \n\n    家庭地址 age_group  \n386  福建省        青年  \n391  福建省        青年  \n392  福建省        青年  \n393  福建省        青年  \n395  福建省        青年  \n396  福建省        青年  \n397  福建省        青年  \n399  福建省        青年  \n401  福建省        青年  ",
      "text/html": "<div>\n<style scoped>\n    .dataframe tbody tr th:only-of-type {\n        vertical-align: middle;\n    }\n\n    .dataframe tbody tr th {\n        vertical-align: top;\n    }\n\n    .dataframe thead th {\n        text-align: right;\n    }\n</style>\n<table border=\"1\" class=\"dataframe\">\n  <thead>\n    <tr style=\"text-align: right;\">\n      <th></th>\n      <th>Unnamed: 0.1</th>\n      <th>Unnamed: 0</th>\n      <th>姓名</th>\n      <th>性别</th>\n      <th>年龄</th>\n      <th>疾病名称</th>\n      <th>发病日期</th>\n      <th>诊断日期</th>\n      <th>医生</th>\n      <th>初/复诊</th>\n      <th>家庭地址</th>\n      <th>age_group</th>\n    </tr>\n  </thead>\n  <tbody>\n    <tr>\n      <th>386</th>\n      <td>386</td>\n      <td>387</td>\n      <td>刘丽清</td>\n      <td>女</td>\n      <td>27</td>\n      <td>粉刺</td>\n      <td>20220928</td>\n      <td>20220928</td>\n      <td>陈伯仪</td>\n      <td>初诊</td>\n      <td>福建省</td>\n      <td>青年</td>\n    </tr>\n    <tr>\n      <th>391</th>\n      <td>391</td>\n      <td>392</td>\n      <td>刘丽清</td>\n      <td>女</td>\n      <td>27</td>\n      <td>粉刺</td>\n      <td>20221005</td>\n      <td>20221005</td>\n      <td>陈伯仪</td>\n      <td>复诊</td>\n      <td>福建省</td>\n      <td>青年</td>\n    </tr>\n    <tr>\n      <th>392</th>\n      <td>392</td>\n      <td>393</td>\n      <td>刘丽清</td>\n      <td>女</td>\n      <td>27</td>\n      <td>粉刺</td>\n      <td>20221012</td>\n      <td>20221012</td>\n      <td>陈伯仪</td>\n      <td>复诊</td>\n      <td>福建省</td>\n      <td>青年</td>\n    </tr>\n    <tr>\n      <th>393</th>\n      <td>393</td>\n      <td>394</td>\n      <td>刘丽清</td>\n      <td>女</td>\n      <td>27</td>\n      <td>粉刺</td>\n      <td>20221019</td>\n      <td>20221019</td>\n      <td>陈伯仪</td>\n      <td>复诊</td>\n      <td>福建省</td>\n      <td>青年</td>\n    </tr>\n    <tr>\n      <th>395</th>\n      <td>395</td>\n      <td>396</td>\n      <td>刘丽清</td>\n      <td>女</td>\n      <td>27</td>\n      <td>粉刺</td>\n      <td>20221029</td>\n      <td>20221029</td>\n      <td>陈伯仪</td>\n      <td>复诊</td>\n      <td>福建省</td>\n      <td>青年</td>\n    </tr>\n    <tr>\n      <th>396</th>\n      <td>396</td>\n      <td>397</td>\n      <td>刘丽清</td>\n      <td>女</td>\n      <td>28</td>\n      <td>粉刺</td>\n      <td>20221106</td>\n      <td>20221106</td>\n      <td>陈伯仪</td>\n      <td>复诊</td>\n      <td>福建省</td>\n      <td>青年</td>\n    </tr>\n    <tr>\n      <th>397</th>\n      <td>397</td>\n      <td>398</td>\n      <td>刘丽清</td>\n      <td>女</td>\n      <td>28</td>\n      <td>粉刺</td>\n      <td>20221116</td>\n      <td>20221116</td>\n      <td>陈伯仪</td>\n      <td>复诊</td>\n      <td>福建省</td>\n      <td>青年</td>\n    </tr>\n    <tr>\n      <th>399</th>\n      <td>399</td>\n      <td>400</td>\n      <td>刘丽清</td>\n      <td>女</td>\n      <td>28</td>\n      <td>粉刺</td>\n      <td>20221126</td>\n      <td>20221126</td>\n      <td>陈伯仪</td>\n      <td>复诊</td>\n      <td>福建省</td>\n      <td>青年</td>\n    </tr>\n    <tr>\n      <th>401</th>\n      <td>401</td>\n      <td>402</td>\n      <td>刘丽清</td>\n      <td>女</td>\n      <td>28</td>\n      <td>粉刺</td>\n      <td>20221207</td>\n      <td>20221207</td>\n      <td>陈伯仪</td>\n      <td>复诊</td>\n      <td>福建省</td>\n      <td>青年</td>\n    </tr>\n  </tbody>\n</table>\n</div>"
     },
     "execution_count": 11,
     "metadata": {},
     "output_type": "execute_result"
    }
   ],
   "source": [
    "df[(df['姓名']=='刘丽清')] # 刘丽清就诊记录查看"
   ]
  },
  {
   "cell_type": "code",
   "execution_count": 12,
   "outputs": [
    {
     "data": {
      "text/plain": "初/复诊    242\ndtype: int64"
     },
     "execution_count": 12,
     "metadata": {},
     "output_type": "execute_result"
    }
   ],
   "source": [
    "df = pd.DataFrame(count_name)\n",
    "df.count()"
   ],
   "metadata": {
    "collapsed": false,
    "ExecuteTime": {
     "start_time": "2023-12-07T09:29:59.566255Z",
     "end_time": "2023-12-07T09:29:59.572707Z"
    }
   }
  },
  {
   "cell_type": "code",
   "execution_count": 13,
   "metadata": {
    "ExecuteTime": {
     "start_time": "2023-12-07T09:30:06.421649Z",
     "end_time": "2023-12-07T09:30:06.429972Z"
    },
    "collapsed": false,
    "jupyter": {
     "outputs_hidden": false
    }
   },
   "outputs": [
    {
     "data": {
      "text/plain": "初/复诊    0.380165\ndtype: float64"
     },
     "execution_count": 13,
     "metadata": {},
     "output_type": "execute_result"
    }
   ],
   "source": [
    "df = pd.DataFrame(count_name)\n",
    "df[(df['初/复诊'] > 1)].count() / df.count() # 总体就诊率"
   ]
  },
  {
   "cell_type": "code",
   "execution_count": 26,
   "metadata": {
    "ExecuteTime": {
     "start_time": "2023-12-07T09:37:42.865520Z",
     "end_time": "2023-12-07T09:37:42.870672Z"
    },
    "collapsed": false,
    "jupyter": {
     "outputs_hidden": false
    }
   },
   "outputs": [
    {
     "data": {
      "text/plain": "      0\n性别     \n女   142\n男   100",
      "text/html": "<div>\n<style scoped>\n    .dataframe tbody tr th:only-of-type {\n        vertical-align: middle;\n    }\n\n    .dataframe tbody tr th {\n        vertical-align: top;\n    }\n\n    .dataframe thead th {\n        text-align: right;\n    }\n</style>\n<table border=\"1\" class=\"dataframe\">\n  <thead>\n    <tr style=\"text-align: right;\">\n      <th></th>\n      <th>0</th>\n    </tr>\n    <tr>\n      <th>性别</th>\n      <th></th>\n    </tr>\n  </thead>\n  <tbody>\n    <tr>\n      <th>女</th>\n      <td>142</td>\n    </tr>\n    <tr>\n      <th>男</th>\n      <td>100</td>\n    </tr>\n  </tbody>\n</table>\n</div>"
     },
     "execution_count": 26,
     "metadata": {},
     "output_type": "execute_result"
    }
   ],
   "source": [
    "df = data\n",
    "count_x = pd.DataFrame(df['姓名'].unique()).groupby(df['性别']).count()\n",
    "# count_x.loc['男', 0]\n",
    "count_x"
   ]
  },
  {
   "cell_type": "code",
   "execution_count": 27,
   "metadata": {
    "ExecuteTime": {
     "start_time": "2023-12-07T09:38:45.320931Z",
     "end_time": "2023-12-07T09:38:45.352269Z"
    },
    "collapsed": false,
    "jupyter": {
     "outputs_hidden": false
    }
   },
   "outputs": [
    {
     "data": {
      "text/plain": "初/复诊    0.35\ndtype: float64"
     },
     "execution_count": 27,
     "metadata": {},
     "output_type": "execute_result"
    }
   ],
   "source": [
    "count_name = df['初/复诊'][df['性别'] == '男'].groupby(df['姓名']).count()\n",
    "count_name = pd.DataFrame(count_name)\n",
    "count_name[count_name['初/复诊'] > 1].count() / count_x.loc['男', 0] # 男性复诊率"
   ]
  },
  {
   "cell_type": "code",
   "execution_count": 28,
   "metadata": {
    "ExecuteTime": {
     "start_time": "2023-12-07T09:38:49.045183Z",
     "end_time": "2023-12-07T09:38:49.061730Z"
    },
    "collapsed": false,
    "jupyter": {
     "outputs_hidden": false
    }
   },
   "outputs": [
    {
     "data": {
      "text/plain": "初/复诊    0.401408\ndtype: float64"
     },
     "execution_count": 28,
     "metadata": {},
     "output_type": "execute_result"
    }
   ],
   "source": [
    "count_name = df['初/复诊'][df['性别'] == '女'].groupby(df['姓名']).count()\n",
    "count_name = pd.DataFrame(count_name)\n",
    "count_name[count_name['初/复诊'] > 1].count() / count_x.loc['女', 0] # 女性复诊率"
   ]
  },
  {
   "cell_type": "code",
   "execution_count": 57,
   "metadata": {
    "ExecuteTime": {
     "start_time": "2023-12-07T09:11:22.581904Z",
     "end_time": "2023-12-07T09:11:22.588916Z"
    },
    "collapsed": false,
    "jupyter": {
     "outputs_hidden": false
    }
   },
   "outputs": [],
   "source": [
    "df = data"
   ]
  },
  {
   "cell_type": "code",
   "execution_count": 58,
   "metadata": {
    "ExecuteTime": {
     "start_time": "2023-12-07T09:11:25.543006Z",
     "end_time": "2023-12-07T09:11:25.554078Z"
    },
    "collapsed": false,
    "jupyter": {
     "outputs_hidden": false
    }
   },
   "outputs": [
    {
     "data": {
      "text/plain": "     Unnamed: 0.1  Unnamed: 0   姓名 性别  年龄 疾病名称      发病日期      诊断日期   医生 初/复诊  \\\n0               0           1  翁承熙  男  17   粉刺  20200111  20200111  陈伯仪   初诊   \n1               1           2   陈枭  男  17   粉刺  20200112  20200112  陈伯仪   初诊   \n2               2           3  池禧灵  女  19   粉刺  20200112  20200112  陈伯仪   初诊   \n3               3           4   林婷  女  30   粉刺  20200118  20200118  陈伯仪   初诊   \n4               4           5   林莹  女  27   粉刺  20200118  20200118  陈伯仪   初诊   \n..            ...         ...  ... ..  ..  ...       ...       ...  ...  ...   \n438           438         439  张姚中  男  14   粉刺  20230607  20230607  陈伯仪   初诊   \n439           439         440  葛璐维  女  18   粉刺  20230708  20230708  陈伯仪   初诊   \n440           440         441  陈璐柠  女  19   粉刺  20230709  20230709  陈伯仪   初诊   \n441           441         442  陈璐柠  女  19   粉刺  20230719  20230719  陈伯仪   复诊   \n442           443         444  陈桂岚  女  26   粉刺  20231102  20231102  陈伯仪   初诊   \n\n    家庭地址 age_group  \n0    福建省       青少年  \n1    福建省       青少年  \n2    福建省        青年  \n3    福建省        青年  \n4    福建省        青年  \n..   ...       ...  \n438  福建省       青少年  \n439  福建省        青年  \n440  福建省        青年  \n441  福建省        青年  \n442  NaN        青年  \n\n[443 rows x 12 columns]",
      "text/html": "<div>\n<style scoped>\n    .dataframe tbody tr th:only-of-type {\n        vertical-align: middle;\n    }\n\n    .dataframe tbody tr th {\n        vertical-align: top;\n    }\n\n    .dataframe thead th {\n        text-align: right;\n    }\n</style>\n<table border=\"1\" class=\"dataframe\">\n  <thead>\n    <tr style=\"text-align: right;\">\n      <th></th>\n      <th>Unnamed: 0.1</th>\n      <th>Unnamed: 0</th>\n      <th>姓名</th>\n      <th>性别</th>\n      <th>年龄</th>\n      <th>疾病名称</th>\n      <th>发病日期</th>\n      <th>诊断日期</th>\n      <th>医生</th>\n      <th>初/复诊</th>\n      <th>家庭地址</th>\n      <th>age_group</th>\n    </tr>\n  </thead>\n  <tbody>\n    <tr>\n      <th>0</th>\n      <td>0</td>\n      <td>1</td>\n      <td>翁承熙</td>\n      <td>男</td>\n      <td>17</td>\n      <td>粉刺</td>\n      <td>20200111</td>\n      <td>20200111</td>\n      <td>陈伯仪</td>\n      <td>初诊</td>\n      <td>福建省</td>\n      <td>青少年</td>\n    </tr>\n    <tr>\n      <th>1</th>\n      <td>1</td>\n      <td>2</td>\n      <td>陈枭</td>\n      <td>男</td>\n      <td>17</td>\n      <td>粉刺</td>\n      <td>20200112</td>\n      <td>20200112</td>\n      <td>陈伯仪</td>\n      <td>初诊</td>\n      <td>福建省</td>\n      <td>青少年</td>\n    </tr>\n    <tr>\n      <th>2</th>\n      <td>2</td>\n      <td>3</td>\n      <td>池禧灵</td>\n      <td>女</td>\n      <td>19</td>\n      <td>粉刺</td>\n      <td>20200112</td>\n      <td>20200112</td>\n      <td>陈伯仪</td>\n      <td>初诊</td>\n      <td>福建省</td>\n      <td>青年</td>\n    </tr>\n    <tr>\n      <th>3</th>\n      <td>3</td>\n      <td>4</td>\n      <td>林婷</td>\n      <td>女</td>\n      <td>30</td>\n      <td>粉刺</td>\n      <td>20200118</td>\n      <td>20200118</td>\n      <td>陈伯仪</td>\n      <td>初诊</td>\n      <td>福建省</td>\n      <td>青年</td>\n    </tr>\n    <tr>\n      <th>4</th>\n      <td>4</td>\n      <td>5</td>\n      <td>林莹</td>\n      <td>女</td>\n      <td>27</td>\n      <td>粉刺</td>\n      <td>20200118</td>\n      <td>20200118</td>\n      <td>陈伯仪</td>\n      <td>初诊</td>\n      <td>福建省</td>\n      <td>青年</td>\n    </tr>\n    <tr>\n      <th>...</th>\n      <td>...</td>\n      <td>...</td>\n      <td>...</td>\n      <td>...</td>\n      <td>...</td>\n      <td>...</td>\n      <td>...</td>\n      <td>...</td>\n      <td>...</td>\n      <td>...</td>\n      <td>...</td>\n      <td>...</td>\n    </tr>\n    <tr>\n      <th>438</th>\n      <td>438</td>\n      <td>439</td>\n      <td>张姚中</td>\n      <td>男</td>\n      <td>14</td>\n      <td>粉刺</td>\n      <td>20230607</td>\n      <td>20230607</td>\n      <td>陈伯仪</td>\n      <td>初诊</td>\n      <td>福建省</td>\n      <td>青少年</td>\n    </tr>\n    <tr>\n      <th>439</th>\n      <td>439</td>\n      <td>440</td>\n      <td>葛璐维</td>\n      <td>女</td>\n      <td>18</td>\n      <td>粉刺</td>\n      <td>20230708</td>\n      <td>20230708</td>\n      <td>陈伯仪</td>\n      <td>初诊</td>\n      <td>福建省</td>\n      <td>青年</td>\n    </tr>\n    <tr>\n      <th>440</th>\n      <td>440</td>\n      <td>441</td>\n      <td>陈璐柠</td>\n      <td>女</td>\n      <td>19</td>\n      <td>粉刺</td>\n      <td>20230709</td>\n      <td>20230709</td>\n      <td>陈伯仪</td>\n      <td>初诊</td>\n      <td>福建省</td>\n      <td>青年</td>\n    </tr>\n    <tr>\n      <th>441</th>\n      <td>441</td>\n      <td>442</td>\n      <td>陈璐柠</td>\n      <td>女</td>\n      <td>19</td>\n      <td>粉刺</td>\n      <td>20230719</td>\n      <td>20230719</td>\n      <td>陈伯仪</td>\n      <td>复诊</td>\n      <td>福建省</td>\n      <td>青年</td>\n    </tr>\n    <tr>\n      <th>442</th>\n      <td>443</td>\n      <td>444</td>\n      <td>陈桂岚</td>\n      <td>女</td>\n      <td>26</td>\n      <td>粉刺</td>\n      <td>20231102</td>\n      <td>20231102</td>\n      <td>陈伯仪</td>\n      <td>初诊</td>\n      <td>NaN</td>\n      <td>青年</td>\n    </tr>\n  </tbody>\n</table>\n<p>443 rows × 12 columns</p>\n</div>"
     },
     "execution_count": 58,
     "metadata": {},
     "output_type": "execute_result"
    }
   ],
   "source": [
    "df"
   ]
  },
  {
   "cell_type": "code",
   "execution_count": 59,
   "metadata": {
    "ExecuteTime": {
     "start_time": "2023-12-07T09:11:29.422810Z",
     "end_time": "2023-12-07T09:11:29.440638Z"
    },
    "collapsed": false,
    "jupyter": {
     "outputs_hidden": false
    }
   },
   "outputs": [
    {
     "name": "stderr",
     "output_type": "stream",
     "text": [
      "C:\\Users\\32858\\AppData\\Local\\Temp\\ipykernel_9016\\3577645168.py:1: FutureWarning: The default of observed=False is deprecated and will be changed to True in a future version of pandas. Pass observed=False to retain current behavior or observed=True to adopt the future default and silence this warning.\n",
      "  df = df.groupby(df['age_group']).count()\n"
     ]
    },
    {
     "data": {
      "text/plain": "           Unnamed: 0.1  Unnamed: 0   姓名   性别   年龄  疾病名称  发病日期  诊断日期   医生  \\\nage_group                                                                   \n婴幼儿                   2           2    2    2    2     2     2     2    2   \n少儿                   25          25   25   25   25    25    25    25   25   \n青少年                 152         152  152  152  152   152   152   152  152   \n青年                  263         263  263  263  263   263   263   263  263   \n中年                    1           1    1    1    1     1     1     1    1   \n老年                    0           0    0    0    0     0     0     0    0   \n\n           初/复诊  家庭地址  \nage_group              \n婴幼儿           2     1  \n少儿           25    24  \n青少年         152   122  \n青年          263   223  \n中年            1     0  \n老年            0     0  ",
      "text/html": "<div>\n<style scoped>\n    .dataframe tbody tr th:only-of-type {\n        vertical-align: middle;\n    }\n\n    .dataframe tbody tr th {\n        vertical-align: top;\n    }\n\n    .dataframe thead th {\n        text-align: right;\n    }\n</style>\n<table border=\"1\" class=\"dataframe\">\n  <thead>\n    <tr style=\"text-align: right;\">\n      <th></th>\n      <th>Unnamed: 0.1</th>\n      <th>Unnamed: 0</th>\n      <th>姓名</th>\n      <th>性别</th>\n      <th>年龄</th>\n      <th>疾病名称</th>\n      <th>发病日期</th>\n      <th>诊断日期</th>\n      <th>医生</th>\n      <th>初/复诊</th>\n      <th>家庭地址</th>\n    </tr>\n    <tr>\n      <th>age_group</th>\n      <th></th>\n      <th></th>\n      <th></th>\n      <th></th>\n      <th></th>\n      <th></th>\n      <th></th>\n      <th></th>\n      <th></th>\n      <th></th>\n      <th></th>\n    </tr>\n  </thead>\n  <tbody>\n    <tr>\n      <th>婴幼儿</th>\n      <td>2</td>\n      <td>2</td>\n      <td>2</td>\n      <td>2</td>\n      <td>2</td>\n      <td>2</td>\n      <td>2</td>\n      <td>2</td>\n      <td>2</td>\n      <td>2</td>\n      <td>1</td>\n    </tr>\n    <tr>\n      <th>少儿</th>\n      <td>25</td>\n      <td>25</td>\n      <td>25</td>\n      <td>25</td>\n      <td>25</td>\n      <td>25</td>\n      <td>25</td>\n      <td>25</td>\n      <td>25</td>\n      <td>25</td>\n      <td>24</td>\n    </tr>\n    <tr>\n      <th>青少年</th>\n      <td>152</td>\n      <td>152</td>\n      <td>152</td>\n      <td>152</td>\n      <td>152</td>\n      <td>152</td>\n      <td>152</td>\n      <td>152</td>\n      <td>152</td>\n      <td>152</td>\n      <td>122</td>\n    </tr>\n    <tr>\n      <th>青年</th>\n      <td>263</td>\n      <td>263</td>\n      <td>263</td>\n      <td>263</td>\n      <td>263</td>\n      <td>263</td>\n      <td>263</td>\n      <td>263</td>\n      <td>263</td>\n      <td>263</td>\n      <td>223</td>\n    </tr>\n    <tr>\n      <th>中年</th>\n      <td>1</td>\n      <td>1</td>\n      <td>1</td>\n      <td>1</td>\n      <td>1</td>\n      <td>1</td>\n      <td>1</td>\n      <td>1</td>\n      <td>1</td>\n      <td>1</td>\n      <td>0</td>\n    </tr>\n    <tr>\n      <th>老年</th>\n      <td>0</td>\n      <td>0</td>\n      <td>0</td>\n      <td>0</td>\n      <td>0</td>\n      <td>0</td>\n      <td>0</td>\n      <td>0</td>\n      <td>0</td>\n      <td>0</td>\n      <td>0</td>\n    </tr>\n  </tbody>\n</table>\n</div>"
     },
     "execution_count": 59,
     "metadata": {},
     "output_type": "execute_result"
    }
   ],
   "source": [
    "df = df.groupby(df['age_group']).count()\n",
    "df"
   ]
  },
  {
   "cell_type": "code",
   "execution_count": 60,
   "metadata": {
    "ExecuteTime": {
     "start_time": "2023-12-07T09:11:33.184234Z",
     "end_time": "2023-12-07T09:11:33.203355Z"
    },
    "collapsed": false,
    "jupyter": {
     "outputs_hidden": false
    }
   },
   "outputs": [
    {
     "data": {
      "text/plain": "     Unnamed: 0.1  Unnamed: 0   姓名 性别  年龄 疾病名称      发病日期      诊断日期   医生 初/复诊  \\\n0               0           1  翁承熙  男  17   粉刺  20200111  20200111  陈伯仪   初诊   \n1               1           2   陈枭  男  17   粉刺  20200112  20200112  陈伯仪   初诊   \n2               2           3  池禧灵  女  19   粉刺  20200112  20200112  陈伯仪   初诊   \n3               3           4   林婷  女  30   粉刺  20200118  20200118  陈伯仪   初诊   \n4               4           5   林莹  女  27   粉刺  20200118  20200118  陈伯仪   初诊   \n..            ...         ...  ... ..  ..  ...       ...       ...  ...  ...   \n438           438         439  张姚中  男  14   粉刺  20230607  20230607  陈伯仪   初诊   \n439           439         440  葛璐维  女  18   粉刺  20230708  20230708  陈伯仪   初诊   \n440           440         441  陈璐柠  女  19   粉刺  20230709  20230709  陈伯仪   初诊   \n441           441         442  陈璐柠  女  19   粉刺  20230719  20230719  陈伯仪   复诊   \n442           443         444  陈桂岚  女  26   粉刺  20231102  20231102  陈伯仪   初诊   \n\n    家庭地址 age_group  \n0    福建省       青少年  \n1    福建省       青少年  \n2    福建省        青年  \n3    福建省        青年  \n4    福建省        青年  \n..   ...       ...  \n438  福建省       青少年  \n439  福建省        青年  \n440  福建省        青年  \n441  福建省        青年  \n442  NaN        青年  \n\n[443 rows x 12 columns]",
      "text/html": "<div>\n<style scoped>\n    .dataframe tbody tr th:only-of-type {\n        vertical-align: middle;\n    }\n\n    .dataframe tbody tr th {\n        vertical-align: top;\n    }\n\n    .dataframe thead th {\n        text-align: right;\n    }\n</style>\n<table border=\"1\" class=\"dataframe\">\n  <thead>\n    <tr style=\"text-align: right;\">\n      <th></th>\n      <th>Unnamed: 0.1</th>\n      <th>Unnamed: 0</th>\n      <th>姓名</th>\n      <th>性别</th>\n      <th>年龄</th>\n      <th>疾病名称</th>\n      <th>发病日期</th>\n      <th>诊断日期</th>\n      <th>医生</th>\n      <th>初/复诊</th>\n      <th>家庭地址</th>\n      <th>age_group</th>\n    </tr>\n  </thead>\n  <tbody>\n    <tr>\n      <th>0</th>\n      <td>0</td>\n      <td>1</td>\n      <td>翁承熙</td>\n      <td>男</td>\n      <td>17</td>\n      <td>粉刺</td>\n      <td>20200111</td>\n      <td>20200111</td>\n      <td>陈伯仪</td>\n      <td>初诊</td>\n      <td>福建省</td>\n      <td>青少年</td>\n    </tr>\n    <tr>\n      <th>1</th>\n      <td>1</td>\n      <td>2</td>\n      <td>陈枭</td>\n      <td>男</td>\n      <td>17</td>\n      <td>粉刺</td>\n      <td>20200112</td>\n      <td>20200112</td>\n      <td>陈伯仪</td>\n      <td>初诊</td>\n      <td>福建省</td>\n      <td>青少年</td>\n    </tr>\n    <tr>\n      <th>2</th>\n      <td>2</td>\n      <td>3</td>\n      <td>池禧灵</td>\n      <td>女</td>\n      <td>19</td>\n      <td>粉刺</td>\n      <td>20200112</td>\n      <td>20200112</td>\n      <td>陈伯仪</td>\n      <td>初诊</td>\n      <td>福建省</td>\n      <td>青年</td>\n    </tr>\n    <tr>\n      <th>3</th>\n      <td>3</td>\n      <td>4</td>\n      <td>林婷</td>\n      <td>女</td>\n      <td>30</td>\n      <td>粉刺</td>\n      <td>20200118</td>\n      <td>20200118</td>\n      <td>陈伯仪</td>\n      <td>初诊</td>\n      <td>福建省</td>\n      <td>青年</td>\n    </tr>\n    <tr>\n      <th>4</th>\n      <td>4</td>\n      <td>5</td>\n      <td>林莹</td>\n      <td>女</td>\n      <td>27</td>\n      <td>粉刺</td>\n      <td>20200118</td>\n      <td>20200118</td>\n      <td>陈伯仪</td>\n      <td>初诊</td>\n      <td>福建省</td>\n      <td>青年</td>\n    </tr>\n    <tr>\n      <th>...</th>\n      <td>...</td>\n      <td>...</td>\n      <td>...</td>\n      <td>...</td>\n      <td>...</td>\n      <td>...</td>\n      <td>...</td>\n      <td>...</td>\n      <td>...</td>\n      <td>...</td>\n      <td>...</td>\n      <td>...</td>\n    </tr>\n    <tr>\n      <th>438</th>\n      <td>438</td>\n      <td>439</td>\n      <td>张姚中</td>\n      <td>男</td>\n      <td>14</td>\n      <td>粉刺</td>\n      <td>20230607</td>\n      <td>20230607</td>\n      <td>陈伯仪</td>\n      <td>初诊</td>\n      <td>福建省</td>\n      <td>青少年</td>\n    </tr>\n    <tr>\n      <th>439</th>\n      <td>439</td>\n      <td>440</td>\n      <td>葛璐维</td>\n      <td>女</td>\n      <td>18</td>\n      <td>粉刺</td>\n      <td>20230708</td>\n      <td>20230708</td>\n      <td>陈伯仪</td>\n      <td>初诊</td>\n      <td>福建省</td>\n      <td>青年</td>\n    </tr>\n    <tr>\n      <th>440</th>\n      <td>440</td>\n      <td>441</td>\n      <td>陈璐柠</td>\n      <td>女</td>\n      <td>19</td>\n      <td>粉刺</td>\n      <td>20230709</td>\n      <td>20230709</td>\n      <td>陈伯仪</td>\n      <td>初诊</td>\n      <td>福建省</td>\n      <td>青年</td>\n    </tr>\n    <tr>\n      <th>441</th>\n      <td>441</td>\n      <td>442</td>\n      <td>陈璐柠</td>\n      <td>女</td>\n      <td>19</td>\n      <td>粉刺</td>\n      <td>20230719</td>\n      <td>20230719</td>\n      <td>陈伯仪</td>\n      <td>复诊</td>\n      <td>福建省</td>\n      <td>青年</td>\n    </tr>\n    <tr>\n      <th>442</th>\n      <td>443</td>\n      <td>444</td>\n      <td>陈桂岚</td>\n      <td>女</td>\n      <td>26</td>\n      <td>粉刺</td>\n      <td>20231102</td>\n      <td>20231102</td>\n      <td>陈伯仪</td>\n      <td>初诊</td>\n      <td>NaN</td>\n      <td>青年</td>\n    </tr>\n  </tbody>\n</table>\n<p>443 rows × 12 columns</p>\n</div>"
     },
     "execution_count": 60,
     "metadata": {},
     "output_type": "execute_result"
    }
   ],
   "source": [
    "df = data\n",
    "df"
   ]
  },
  {
   "cell_type": "code",
   "execution_count": 61,
   "metadata": {
    "ExecuteTime": {
     "start_time": "2023-12-07T09:11:37.591093Z",
     "end_time": "2023-12-07T09:11:37.607222Z"
    },
    "collapsed": false,
    "jupyter": {
     "outputs_hidden": false
    }
   },
   "outputs": [
    {
     "name": "stderr",
     "output_type": "stream",
     "text": [
      "C:\\Users\\32858\\AppData\\Local\\Temp\\ipykernel_9016\\2419416690.py:1: FutureWarning: The default of observed=False is deprecated and will be changed to True in a future version of pandas. Pass observed=False to retain current behavior or observed=True to adopt the future default and silence this warning.\n",
      "  df = df.groupby('age_group')['初/复诊'].value_counts()\n"
     ]
    },
    {
     "data": {
      "text/plain": "age_group  初/复诊\n婴幼儿        初诊        2\n           复诊        0\n少儿         初诊       16\n           复诊        9\n青少年        初诊       78\n           复诊       74\n青年         初诊      145\n           复诊      118\n中年         初诊        1\n           复诊        0\n老年         初诊        0\n           复诊        0\nName: count, dtype: int64"
     },
     "execution_count": 61,
     "metadata": {},
     "output_type": "execute_result"
    }
   ],
   "source": [
    "df = df.groupby('age_group')['初/复诊'].value_counts()\n",
    "df"
   ]
  },
  {
   "cell_type": "code",
   "execution_count": 62,
   "metadata": {
    "ExecuteTime": {
     "start_time": "2023-12-07T09:11:41.034645Z",
     "end_time": "2023-12-07T09:11:41.050362Z"
    },
    "collapsed": false,
    "jupyter": {
     "outputs_hidden": false
    }
   },
   "outputs": [
    {
     "data": {
      "text/plain": "     Unnamed: 0.1  Unnamed: 0   姓名 性别  年龄 疾病名称      发病日期      诊断日期   医生 初/复诊  \\\n0               0           1  翁承熙  男  17   粉刺  20200111  20200111  陈伯仪   初诊   \n1               1           2   陈枭  男  17   粉刺  20200112  20200112  陈伯仪   初诊   \n2               2           3  池禧灵  女  19   粉刺  20200112  20200112  陈伯仪   初诊   \n3               3           4   林婷  女  30   粉刺  20200118  20200118  陈伯仪   初诊   \n4               4           5   林莹  女  27   粉刺  20200118  20200118  陈伯仪   初诊   \n..            ...         ...  ... ..  ..  ...       ...       ...  ...  ...   \n438           438         439  张姚中  男  14   粉刺  20230607  20230607  陈伯仪   初诊   \n439           439         440  葛璐维  女  18   粉刺  20230708  20230708  陈伯仪   初诊   \n440           440         441  陈璐柠  女  19   粉刺  20230709  20230709  陈伯仪   初诊   \n441           441         442  陈璐柠  女  19   粉刺  20230719  20230719  陈伯仪   复诊   \n442           443         444  陈桂岚  女  26   粉刺  20231102  20231102  陈伯仪   初诊   \n\n    家庭地址 age_group  \n0    福建省       青少年  \n1    福建省       青少年  \n2    福建省        青年  \n3    福建省        青年  \n4    福建省        青年  \n..   ...       ...  \n438  福建省       青少年  \n439  福建省        青年  \n440  福建省        青年  \n441  福建省        青年  \n442  NaN        青年  \n\n[443 rows x 12 columns]",
      "text/html": "<div>\n<style scoped>\n    .dataframe tbody tr th:only-of-type {\n        vertical-align: middle;\n    }\n\n    .dataframe tbody tr th {\n        vertical-align: top;\n    }\n\n    .dataframe thead th {\n        text-align: right;\n    }\n</style>\n<table border=\"1\" class=\"dataframe\">\n  <thead>\n    <tr style=\"text-align: right;\">\n      <th></th>\n      <th>Unnamed: 0.1</th>\n      <th>Unnamed: 0</th>\n      <th>姓名</th>\n      <th>性别</th>\n      <th>年龄</th>\n      <th>疾病名称</th>\n      <th>发病日期</th>\n      <th>诊断日期</th>\n      <th>医生</th>\n      <th>初/复诊</th>\n      <th>家庭地址</th>\n      <th>age_group</th>\n    </tr>\n  </thead>\n  <tbody>\n    <tr>\n      <th>0</th>\n      <td>0</td>\n      <td>1</td>\n      <td>翁承熙</td>\n      <td>男</td>\n      <td>17</td>\n      <td>粉刺</td>\n      <td>20200111</td>\n      <td>20200111</td>\n      <td>陈伯仪</td>\n      <td>初诊</td>\n      <td>福建省</td>\n      <td>青少年</td>\n    </tr>\n    <tr>\n      <th>1</th>\n      <td>1</td>\n      <td>2</td>\n      <td>陈枭</td>\n      <td>男</td>\n      <td>17</td>\n      <td>粉刺</td>\n      <td>20200112</td>\n      <td>20200112</td>\n      <td>陈伯仪</td>\n      <td>初诊</td>\n      <td>福建省</td>\n      <td>青少年</td>\n    </tr>\n    <tr>\n      <th>2</th>\n      <td>2</td>\n      <td>3</td>\n      <td>池禧灵</td>\n      <td>女</td>\n      <td>19</td>\n      <td>粉刺</td>\n      <td>20200112</td>\n      <td>20200112</td>\n      <td>陈伯仪</td>\n      <td>初诊</td>\n      <td>福建省</td>\n      <td>青年</td>\n    </tr>\n    <tr>\n      <th>3</th>\n      <td>3</td>\n      <td>4</td>\n      <td>林婷</td>\n      <td>女</td>\n      <td>30</td>\n      <td>粉刺</td>\n      <td>20200118</td>\n      <td>20200118</td>\n      <td>陈伯仪</td>\n      <td>初诊</td>\n      <td>福建省</td>\n      <td>青年</td>\n    </tr>\n    <tr>\n      <th>4</th>\n      <td>4</td>\n      <td>5</td>\n      <td>林莹</td>\n      <td>女</td>\n      <td>27</td>\n      <td>粉刺</td>\n      <td>20200118</td>\n      <td>20200118</td>\n      <td>陈伯仪</td>\n      <td>初诊</td>\n      <td>福建省</td>\n      <td>青年</td>\n    </tr>\n    <tr>\n      <th>...</th>\n      <td>...</td>\n      <td>...</td>\n      <td>...</td>\n      <td>...</td>\n      <td>...</td>\n      <td>...</td>\n      <td>...</td>\n      <td>...</td>\n      <td>...</td>\n      <td>...</td>\n      <td>...</td>\n      <td>...</td>\n    </tr>\n    <tr>\n      <th>438</th>\n      <td>438</td>\n      <td>439</td>\n      <td>张姚中</td>\n      <td>男</td>\n      <td>14</td>\n      <td>粉刺</td>\n      <td>20230607</td>\n      <td>20230607</td>\n      <td>陈伯仪</td>\n      <td>初诊</td>\n      <td>福建省</td>\n      <td>青少年</td>\n    </tr>\n    <tr>\n      <th>439</th>\n      <td>439</td>\n      <td>440</td>\n      <td>葛璐维</td>\n      <td>女</td>\n      <td>18</td>\n      <td>粉刺</td>\n      <td>20230708</td>\n      <td>20230708</td>\n      <td>陈伯仪</td>\n      <td>初诊</td>\n      <td>福建省</td>\n      <td>青年</td>\n    </tr>\n    <tr>\n      <th>440</th>\n      <td>440</td>\n      <td>441</td>\n      <td>陈璐柠</td>\n      <td>女</td>\n      <td>19</td>\n      <td>粉刺</td>\n      <td>20230709</td>\n      <td>20230709</td>\n      <td>陈伯仪</td>\n      <td>初诊</td>\n      <td>福建省</td>\n      <td>青年</td>\n    </tr>\n    <tr>\n      <th>441</th>\n      <td>441</td>\n      <td>442</td>\n      <td>陈璐柠</td>\n      <td>女</td>\n      <td>19</td>\n      <td>粉刺</td>\n      <td>20230719</td>\n      <td>20230719</td>\n      <td>陈伯仪</td>\n      <td>复诊</td>\n      <td>福建省</td>\n      <td>青年</td>\n    </tr>\n    <tr>\n      <th>442</th>\n      <td>443</td>\n      <td>444</td>\n      <td>陈桂岚</td>\n      <td>女</td>\n      <td>26</td>\n      <td>粉刺</td>\n      <td>20231102</td>\n      <td>20231102</td>\n      <td>陈伯仪</td>\n      <td>初诊</td>\n      <td>NaN</td>\n      <td>青年</td>\n    </tr>\n  </tbody>\n</table>\n<p>443 rows × 12 columns</p>\n</div>"
     },
     "execution_count": 62,
     "metadata": {},
     "output_type": "execute_result"
    }
   ],
   "source": [
    "df = data\n",
    "df"
   ]
  },
  {
   "cell_type": "code",
   "execution_count": 69,
   "outputs": [
    {
     "name": "stderr",
     "output_type": "stream",
     "text": [
      "C:\\Users\\32858\\AppData\\Local\\Temp\\ipykernel_9016\\3210531031.py:1: UserWarning: Boolean Series key will be reindexed to match DataFrame index.\n",
      "  count1 = len(df[df['姓名'].isin(df['姓名'].value_counts().where(lambda x: x > 1).dropna().index)][df['age_group'] == f'青少年']['姓名'].unique())\n"
     ]
    },
    {
     "data": {
      "text/plain": "0.38461538461538464"
     },
     "execution_count": 69,
     "metadata": {},
     "output_type": "execute_result"
    }
   ],
   "source": [
    "count1 = len(df[df['姓名'].isin(df['姓名'].value_counts().where(lambda x: x > 1).dropna().index)][df['age_group'] == f'青少年']['姓名'].unique())\n",
    "count2 = len(df[(df['age_group'] == f'青少年')]['姓名'].unique())\n",
    "count1 / count2"
   ],
   "metadata": {
    "collapsed": false,
    "ExecuteTime": {
     "start_time": "2023-12-07T09:17:26.325155Z",
     "end_time": "2023-12-07T09:17:26.327065Z"
    }
   }
  },
  {
   "cell_type": "code",
   "execution_count": 73,
   "metadata": {
    "ExecuteTime": {
     "start_time": "2023-12-07T09:19:24.781817Z",
     "end_time": "2023-12-07T09:19:24.798856Z"
    },
    "collapsed": false,
    "jupyter": {
     "outputs_hidden": false
    }
   },
   "outputs": [
    {
     "name": "stdout",
     "output_type": "stream",
     "text": [
      "[0.38461538461538464, 0.41379310344827586, 0.125, 0.0, 0.0]\n",
      "['青少年', '青年', '少儿', '婴幼儿', '中年']\n"
     ]
    },
    {
     "name": "stderr",
     "output_type": "stream",
     "text": [
      "C:\\Users\\32858\\AppData\\Local\\Temp\\ipykernel_9016\\3066024996.py:3: UserWarning: Boolean Series key will be reindexed to match DataFrame index.\n",
      "  count1 = len(df[df['姓名'].isin(df['姓名'].value_counts().where(lambda x: x > 1).dropna().index)][df['age_group'] == f'{i}']['姓名'].unique())\n",
      "C:\\Users\\32858\\AppData\\Local\\Temp\\ipykernel_9016\\3066024996.py:3: UserWarning: Boolean Series key will be reindexed to match DataFrame index.\n",
      "  count1 = len(df[df['姓名'].isin(df['姓名'].value_counts().where(lambda x: x > 1).dropna().index)][df['age_group'] == f'{i}']['姓名'].unique())\n",
      "C:\\Users\\32858\\AppData\\Local\\Temp\\ipykernel_9016\\3066024996.py:3: UserWarning: Boolean Series key will be reindexed to match DataFrame index.\n",
      "  count1 = len(df[df['姓名'].isin(df['姓名'].value_counts().where(lambda x: x > 1).dropna().index)][df['age_group'] == f'{i}']['姓名'].unique())\n",
      "C:\\Users\\32858\\AppData\\Local\\Temp\\ipykernel_9016\\3066024996.py:3: UserWarning: Boolean Series key will be reindexed to match DataFrame index.\n",
      "  count1 = len(df[df['姓名'].isin(df['姓名'].value_counts().where(lambda x: x > 1).dropna().index)][df['age_group'] == f'{i}']['姓名'].unique())\n",
      "C:\\Users\\32858\\AppData\\Local\\Temp\\ipykernel_9016\\3066024996.py:3: UserWarning: Boolean Series key will be reindexed to match DataFrame index.\n",
      "  count1 = len(df[df['姓名'].isin(df['姓名'].value_counts().where(lambda x: x > 1).dropna().index)][df['age_group'] == f'{i}']['姓名'].unique())\n"
     ]
    }
   ],
   "source": [
    "ans = []\n",
    "for i in df['age_group'].unique().tolist():\n",
    "    count1 = len(df[df['姓名'].isin(df['姓名'].value_counts().where(lambda x: x > 1).dropna().index)][df['age_group'] == f'{i}']['姓名'].unique())\n",
    "    count2 = len(df[(df['age_group'] == f'{i}')]['姓名'].unique())\n",
    "\n",
    "\n",
    "    # count_q = len(df[(df['age_group'] == f'{i}')]['姓名'].unique())\n",
    "    # count_a = df[(df['age_group'] == f'{i}')]['姓名'].count()\n",
    "    res = count1 / count2\n",
    "    ans.append(res)\n",
    "print(ans) # 不同年龄段复诊率\n",
    "print(df['age_group'].unique().tolist())"
   ]
  },
  {
   "cell_type": "code",
   "execution_count": null,
   "outputs": [],
   "source": [],
   "metadata": {
    "collapsed": false
   }
  }
 ],
 "metadata": {
  "kernelspec": {
   "display_name": "Python 3 (ipykernel)",
   "language": "python",
   "name": "python3"
  },
  "language_info": {
   "codemirror_mode": {
    "name": "ipython",
    "version": 3
   },
   "file_extension": ".py",
   "mimetype": "text/x-python",
   "name": "python",
   "nbconvert_exporter": "python",
   "pygments_lexer": "ipython3",
   "version": "3.11.5"
  }
 },
 "nbformat": 4,
 "nbformat_minor": 4
}
