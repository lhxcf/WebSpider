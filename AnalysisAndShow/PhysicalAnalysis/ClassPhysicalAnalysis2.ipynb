{
 "cells": [
  {
   "cell_type": "code",
   "execution_count": 1,
   "metadata": {
    "ExecuteTime": {
     "start_time": "2024-06-02T12:24:41.714966Z",
     "end_time": "2024-06-02T12:24:42.304973Z"
    },
    "collapsed": false,
    "jupyter": {
     "outputs_hidden": false
    }
   },
   "outputs": [],
   "source": [
    "import pandas as pd\n",
    "import matplotlib.pyplot as plt"
   ]
  },
  {
   "cell_type": "code",
   "execution_count": 2,
   "metadata": {
    "ExecuteTime": {
     "start_time": "2024-06-02T12:24:42.304973Z",
     "end_time": "2024-06-02T12:24:42.513844Z"
    },
    "collapsed": false,
    "jupyter": {
     "outputs_hidden": false
    }
   },
   "outputs": [
    {
     "data": {
      "text/plain": "    序号        1、学号 2、姓名  3、年龄  4、性别  5、身高（cm）  6、体重（kg）  7、你每个月的平均生活费大概是多少？  \\\n0    1  3210707038   陈俊    22     1       170        55                   4   \n1    4  3210707052   杨铝    21     1       170        72                   3   \n2    6  3210707053   焦航    21     1       177        69                   2   \n3    7  3210707031  何端锴    21     1       172        60                   4   \n4   17  3210707057  王益民    19     1       183        55                   3   \n5   20  3210707015  官祥杰    21     1       180        74                   3   \n6   21  3210707047  张轶文    22     1       163        75                   4   \n7   23  3210707008  刘浩雄    21     1       178        64                   4   \n8   25  3210707040   何伟    21     1       164        50                   3   \n9   26  3210707049   朱康    22     1       180        75                   3   \n10  27  3210707034  陈海林    22     1       171        52                   4   \n11  30  3210707003  吴争宇    20     1       173        58                   3   \n12  32  3210707023  刘远龙    22     1       180        55                   4   \n13  33  3210707019  李海智    20     1       178        71                   3   \n14  34  3210707011  陈伟平    22     1       171        68                   3   \n15  35  3210707055  王耀鹏    21     1       180        90                   3   \n16  36  3210707009  程琨耀    22     1       185        66                   1   \n17  37  3210707018  蔡世鹏    20     1       162        63                   3   \n18  38  3210707043  马海鹏    20     1       175        65                   4   \n19  39  3210707056  黎东康    21     1       175        59                   4   \n20  40  3210707045  林皓宇    21     1       178        64                   3   \n21  41  3210707026  黄建锐    21     1       170        63                   4   \n22  42  3120707060  陈剑峰    21     1       170        56                   4   \n23  43  3210707042   郑豹    21     1       175        75                   3   \n24  44  3210707059  冯子斌    21     1       175        75                   5   \n25  45  3210707010  李健铭    22     1       173        76                   3   \n26  46  3210707041  蔡洲鹏    18     1       175        62                   3   \n27   2  3210707004  廖丽珍    20     2       160        49                   4   \n28   3  3210707007  谢晓丹    21     2       167        45                   3   \n29   5  3210707012  胡羽心    20     2       154        44                   5   \n30   8  3210707046  郝怡容    22     2       167        60                   3   \n31   9         (空)    慈    21     2       156        43                   2   \n32  10  3210707006  罗清香    20     2       161        52                   3   \n33  11  3210707030  郑美珠    21     2       165        56                   3   \n34  12  3210707029  杜思婷    21     2       169        60                   4   \n35  13  3210707050  张怡菲    20     2       160        48                   5   \n36  14  3210707014  钟稚琴    22     2       160        48                   4   \n37  15  3210707017  张丽瑄    20     2       161        45                   3   \n38  16  3210707005  王诗琴    20     2       166        48                   4   \n39  18  3210707028  黄梅娟    21     2       165        55                   5   \n40  19  3210707013  李佳佳    20     2       163        60                   4   \n41  22  3210707001  田杰红    22     2       155        57                   4   \n42  24  3210707002   刘兰    21     2       159        44                   3   \n43  28  3210707021   陈红    21     2       155        56                   4   \n44  29  3210707033  郑婉玲    21     2       165        50                   4   \n45  31  3210707020  余昕玥    20     2       172        62                   3   \n46  47  3210707027  王嘉欣    20     2       159        55                   4   \n47  48  3210707044  许雪敏    21     2       170        56                   2   \n48  49  3210707022  侯晨露    20     2       165        48                   2   \n49  50  3210707024  胡远媛    21     2       155        47                   3   \n50  51  3210707037  刘晓丹    21     2       156        45                   2   \n\n    8、您精力充沛吗？  9、您容易疲劳吗？  ...  特禀质转化分  平和质（是/否）  气虚质（是/否）  阳虚质（是/否）  阴虚质（是/否）  \\\n0           2          2  ...      29         否         是       倾向是       倾向是   \n1           4          2  ...      29         否       倾向是       倾向是         是   \n2           4          4  ...      25         否         是         否       倾向是   \n3           3          3  ...      25         是         否         否         否   \n4           4          3  ...      18         否         是         是         是   \n5           3          3  ...      25         否         是         否         否   \n6           3          3  ...      11         是         否         否         否   \n7           3          1  ...      11         否         否         是         否   \n8           4          3  ...      11         是         否         否         否   \n9           4          2  ...      50         否       倾向是         否       倾向是   \n10          2          2  ...       0       倾向是         否         否         否   \n11          3          2  ...      25         是         否         否         否   \n12          3          2  ...       4         否         否         否         否   \n13          3          3  ...      21       倾向是         否         否       倾向是   \n14          4          3  ...      18         是         否         否         否   \n15          3          3  ...      29         否         是         否         否   \n16          4          4  ...      39         否         否         否       倾向是   \n17          4          4  ...       0         是         否         否         否   \n18          3          2  ...      50         否         是         是         是   \n19          4          4  ...       0         否         是         是         是   \n20          3          1  ...      25         是         否         否         否   \n21          2          1  ...      21         否         否         否         是   \n22          1          1  ...       7         是         否         否         否   \n23          3          4  ...      43         否         是       倾向是       倾向是   \n24          2          1  ...      32       倾向是         否         否         否   \n25          3          1  ...      21         是         否         否         否   \n26          3          1  ...      39         否         是         是         是   \n27          3          2  ...      18         否         是         是         是   \n28          3          1  ...      46         否         是         是         是   \n29          1          1  ...      32         否       倾向是         否         否   \n30          3          3  ...      25       倾向是       倾向是       倾向是         否   \n31          3          2  ...      25         否         是         是         是   \n32          2          2  ...      36         否       倾向是         是       倾向是   \n33          3          1  ...      39       倾向是         否         否         否   \n34          4          2  ...      32         否         否         否         是   \n35          1          1  ...      18         否       倾向是       倾向是         是   \n36          3          1  ...      54         否         是         是       倾向是   \n37          3          3  ...      32         否         是         否         是   \n38          4          3  ...      14         否       倾向是         是       倾向是   \n39          2          2  ...      39         否         是         否         是   \n40          1          1  ...      21         否       倾向是         是         是   \n41          2          1  ...      14       倾向是         否       倾向是         否   \n42          3          3  ...      21         否         是         是       倾向是   \n43          2          2  ...      11       倾向是         否         否       倾向是   \n44          1          1  ...      18         否         否         是         否   \n45          3          3  ...      25         否         是       倾向是         是   \n46          3          2  ...      32         否       倾向是         是       倾向是   \n47          3          2  ...      14         否       倾向是       倾向是       倾向是   \n48          4          3  ...      32         否         是         是       倾向是   \n49          4          3  ...      61         否         是         是         是   \n50          4          4  ...      32         否         是         是         是   \n\n    痰湿质（是/否）  湿热质（是/否）  淤血质（是/否）  气郁质（是/否）  特禀质（是/否）  \n0        倾向是       倾向是         否       倾向是         否  \n1          否         否         否         否         否  \n2          否         否       倾向是         是         否  \n3          否         否         否         否         否  \n4          是       倾向是         是         是         否  \n5          否         否         否         否         否  \n6          否         否         否         否         否  \n7          否         是         是         否         否  \n8          否         否         否         否         否  \n9          否       倾向是       倾向是         否         是  \n10         否         否         否       倾向是         否  \n11         否         否         否         否         否  \n12         否         否         否         否         否  \n13         否         否         否         否         否  \n14         否         否         否         否         否  \n15       倾向是         否         否         否         否  \n16       倾向是       倾向是         是         否       倾向是  \n17         否         否         否         否         否  \n18         是         是         是         是         是  \n19         是         否       倾向是         是         否  \n20         否         否         否         否         否  \n21         是       倾向是       倾向是         是         否  \n22         否         否         否         否         否  \n23         是         是         否         是         是  \n24         否         否       倾向是       倾向是       倾向是  \n25         否         否         否         否         否  \n26         是         是         是       倾向是       倾向是  \n27         否       倾向是         是         是         否  \n28       倾向是       倾向是         是         是         是  \n29         是         是       倾向是         是       倾向是  \n30         否       倾向是       倾向是         否         否  \n31       倾向是       倾向是         是       倾向是         否  \n32         否       倾向是         是         是       倾向是  \n33         否         否       倾向是         否       倾向是  \n34         否       倾向是       倾向是       倾向是       倾向是  \n35         否         否         是       倾向是         否  \n36         否       倾向是         是       倾向是         是  \n37         否         否         是         是       倾向是  \n38         否         否       倾向是         否         否  \n39         否         否         是         是       倾向是  \n40       倾向是         是         是       倾向是         否  \n41         否       倾向是       倾向是         否         否  \n42       倾向是         否       倾向是       倾向是         否  \n43         否       倾向是         否         否         否  \n44         否         否         否         否         否  \n45       倾向是         否         是       倾向是         否  \n46         否         是       倾向是         否       倾向是  \n47         是       倾向是       倾向是         是         否  \n48         是       倾向是         是         是       倾向是  \n49       倾向是       倾向是         是         是         是  \n50       倾向是         是         是         是       倾向是  \n\n[51 rows x 86 columns]",
      "text/html": "<div>\n<style scoped>\n    .dataframe tbody tr th:only-of-type {\n        vertical-align: middle;\n    }\n\n    .dataframe tbody tr th {\n        vertical-align: top;\n    }\n\n    .dataframe thead th {\n        text-align: right;\n    }\n</style>\n<table border=\"1\" class=\"dataframe\">\n  <thead>\n    <tr style=\"text-align: right;\">\n      <th></th>\n      <th>序号</th>\n      <th>1、学号</th>\n      <th>2、姓名</th>\n      <th>3、年龄</th>\n      <th>4、性别</th>\n      <th>5、身高（cm）</th>\n      <th>6、体重（kg）</th>\n      <th>7、你每个月的平均生活费大概是多少？</th>\n      <th>8、您精力充沛吗？</th>\n      <th>9、您容易疲劳吗？</th>\n      <th>...</th>\n      <th>特禀质转化分</th>\n      <th>平和质（是/否）</th>\n      <th>气虚质（是/否）</th>\n      <th>阳虚质（是/否）</th>\n      <th>阴虚质（是/否）</th>\n      <th>痰湿质（是/否）</th>\n      <th>湿热质（是/否）</th>\n      <th>淤血质（是/否）</th>\n      <th>气郁质（是/否）</th>\n      <th>特禀质（是/否）</th>\n    </tr>\n  </thead>\n  <tbody>\n    <tr>\n      <th>0</th>\n      <td>1</td>\n      <td>3210707038</td>\n      <td>陈俊</td>\n      <td>22</td>\n      <td>1</td>\n      <td>170</td>\n      <td>55</td>\n      <td>4</td>\n      <td>2</td>\n      <td>2</td>\n      <td>...</td>\n      <td>29</td>\n      <td>否</td>\n      <td>是</td>\n      <td>倾向是</td>\n      <td>倾向是</td>\n      <td>倾向是</td>\n      <td>倾向是</td>\n      <td>否</td>\n      <td>倾向是</td>\n      <td>否</td>\n    </tr>\n    <tr>\n      <th>1</th>\n      <td>4</td>\n      <td>3210707052</td>\n      <td>杨铝</td>\n      <td>21</td>\n      <td>1</td>\n      <td>170</td>\n      <td>72</td>\n      <td>3</td>\n      <td>4</td>\n      <td>2</td>\n      <td>...</td>\n      <td>29</td>\n      <td>否</td>\n      <td>倾向是</td>\n      <td>倾向是</td>\n      <td>是</td>\n      <td>否</td>\n      <td>否</td>\n      <td>否</td>\n      <td>否</td>\n      <td>否</td>\n    </tr>\n    <tr>\n      <th>2</th>\n      <td>6</td>\n      <td>3210707053</td>\n      <td>焦航</td>\n      <td>21</td>\n      <td>1</td>\n      <td>177</td>\n      <td>69</td>\n      <td>2</td>\n      <td>4</td>\n      <td>4</td>\n      <td>...</td>\n      <td>25</td>\n      <td>否</td>\n      <td>是</td>\n      <td>否</td>\n      <td>倾向是</td>\n      <td>否</td>\n      <td>否</td>\n      <td>倾向是</td>\n      <td>是</td>\n      <td>否</td>\n    </tr>\n    <tr>\n      <th>3</th>\n      <td>7</td>\n      <td>3210707031</td>\n      <td>何端锴</td>\n      <td>21</td>\n      <td>1</td>\n      <td>172</td>\n      <td>60</td>\n      <td>4</td>\n      <td>3</td>\n      <td>3</td>\n      <td>...</td>\n      <td>25</td>\n      <td>是</td>\n      <td>否</td>\n      <td>否</td>\n      <td>否</td>\n      <td>否</td>\n      <td>否</td>\n      <td>否</td>\n      <td>否</td>\n      <td>否</td>\n    </tr>\n    <tr>\n      <th>4</th>\n      <td>17</td>\n      <td>3210707057</td>\n      <td>王益民</td>\n      <td>19</td>\n      <td>1</td>\n      <td>183</td>\n      <td>55</td>\n      <td>3</td>\n      <td>4</td>\n      <td>3</td>\n      <td>...</td>\n      <td>18</td>\n      <td>否</td>\n      <td>是</td>\n      <td>是</td>\n      <td>是</td>\n      <td>是</td>\n      <td>倾向是</td>\n      <td>是</td>\n      <td>是</td>\n      <td>否</td>\n    </tr>\n    <tr>\n      <th>5</th>\n      <td>20</td>\n      <td>3210707015</td>\n      <td>官祥杰</td>\n      <td>21</td>\n      <td>1</td>\n      <td>180</td>\n      <td>74</td>\n      <td>3</td>\n      <td>3</td>\n      <td>3</td>\n      <td>...</td>\n      <td>25</td>\n      <td>否</td>\n      <td>是</td>\n      <td>否</td>\n      <td>否</td>\n      <td>否</td>\n      <td>否</td>\n      <td>否</td>\n      <td>否</td>\n      <td>否</td>\n    </tr>\n    <tr>\n      <th>6</th>\n      <td>21</td>\n      <td>3210707047</td>\n      <td>张轶文</td>\n      <td>22</td>\n      <td>1</td>\n      <td>163</td>\n      <td>75</td>\n      <td>4</td>\n      <td>3</td>\n      <td>3</td>\n      <td>...</td>\n      <td>11</td>\n      <td>是</td>\n      <td>否</td>\n      <td>否</td>\n      <td>否</td>\n      <td>否</td>\n      <td>否</td>\n      <td>否</td>\n      <td>否</td>\n      <td>否</td>\n    </tr>\n    <tr>\n      <th>7</th>\n      <td>23</td>\n      <td>3210707008</td>\n      <td>刘浩雄</td>\n      <td>21</td>\n      <td>1</td>\n      <td>178</td>\n      <td>64</td>\n      <td>4</td>\n      <td>3</td>\n      <td>1</td>\n      <td>...</td>\n      <td>11</td>\n      <td>否</td>\n      <td>否</td>\n      <td>是</td>\n      <td>否</td>\n      <td>否</td>\n      <td>是</td>\n      <td>是</td>\n      <td>否</td>\n      <td>否</td>\n    </tr>\n    <tr>\n      <th>8</th>\n      <td>25</td>\n      <td>3210707040</td>\n      <td>何伟</td>\n      <td>21</td>\n      <td>1</td>\n      <td>164</td>\n      <td>50</td>\n      <td>3</td>\n      <td>4</td>\n      <td>3</td>\n      <td>...</td>\n      <td>11</td>\n      <td>是</td>\n      <td>否</td>\n      <td>否</td>\n      <td>否</td>\n      <td>否</td>\n      <td>否</td>\n      <td>否</td>\n      <td>否</td>\n      <td>否</td>\n    </tr>\n    <tr>\n      <th>9</th>\n      <td>26</td>\n      <td>3210707049</td>\n      <td>朱康</td>\n      <td>22</td>\n      <td>1</td>\n      <td>180</td>\n      <td>75</td>\n      <td>3</td>\n      <td>4</td>\n      <td>2</td>\n      <td>...</td>\n      <td>50</td>\n      <td>否</td>\n      <td>倾向是</td>\n      <td>否</td>\n      <td>倾向是</td>\n      <td>否</td>\n      <td>倾向是</td>\n      <td>倾向是</td>\n      <td>否</td>\n      <td>是</td>\n    </tr>\n    <tr>\n      <th>10</th>\n      <td>27</td>\n      <td>3210707034</td>\n      <td>陈海林</td>\n      <td>22</td>\n      <td>1</td>\n      <td>171</td>\n      <td>52</td>\n      <td>4</td>\n      <td>2</td>\n      <td>2</td>\n      <td>...</td>\n      <td>0</td>\n      <td>倾向是</td>\n      <td>否</td>\n      <td>否</td>\n      <td>否</td>\n      <td>否</td>\n      <td>否</td>\n      <td>否</td>\n      <td>倾向是</td>\n      <td>否</td>\n    </tr>\n    <tr>\n      <th>11</th>\n      <td>30</td>\n      <td>3210707003</td>\n      <td>吴争宇</td>\n      <td>20</td>\n      <td>1</td>\n      <td>173</td>\n      <td>58</td>\n      <td>3</td>\n      <td>3</td>\n      <td>2</td>\n      <td>...</td>\n      <td>25</td>\n      <td>是</td>\n      <td>否</td>\n      <td>否</td>\n      <td>否</td>\n      <td>否</td>\n      <td>否</td>\n      <td>否</td>\n      <td>否</td>\n      <td>否</td>\n    </tr>\n    <tr>\n      <th>12</th>\n      <td>32</td>\n      <td>3210707023</td>\n      <td>刘远龙</td>\n      <td>22</td>\n      <td>1</td>\n      <td>180</td>\n      <td>55</td>\n      <td>4</td>\n      <td>3</td>\n      <td>2</td>\n      <td>...</td>\n      <td>4</td>\n      <td>否</td>\n      <td>否</td>\n      <td>否</td>\n      <td>否</td>\n      <td>否</td>\n      <td>否</td>\n      <td>否</td>\n      <td>否</td>\n      <td>否</td>\n    </tr>\n    <tr>\n      <th>13</th>\n      <td>33</td>\n      <td>3210707019</td>\n      <td>李海智</td>\n      <td>20</td>\n      <td>1</td>\n      <td>178</td>\n      <td>71</td>\n      <td>3</td>\n      <td>3</td>\n      <td>3</td>\n      <td>...</td>\n      <td>21</td>\n      <td>倾向是</td>\n      <td>否</td>\n      <td>否</td>\n      <td>倾向是</td>\n      <td>否</td>\n      <td>否</td>\n      <td>否</td>\n      <td>否</td>\n      <td>否</td>\n    </tr>\n    <tr>\n      <th>14</th>\n      <td>34</td>\n      <td>3210707011</td>\n      <td>陈伟平</td>\n      <td>22</td>\n      <td>1</td>\n      <td>171</td>\n      <td>68</td>\n      <td>3</td>\n      <td>4</td>\n      <td>3</td>\n      <td>...</td>\n      <td>18</td>\n      <td>是</td>\n      <td>否</td>\n      <td>否</td>\n      <td>否</td>\n      <td>否</td>\n      <td>否</td>\n      <td>否</td>\n      <td>否</td>\n      <td>否</td>\n    </tr>\n    <tr>\n      <th>15</th>\n      <td>35</td>\n      <td>3210707055</td>\n      <td>王耀鹏</td>\n      <td>21</td>\n      <td>1</td>\n      <td>180</td>\n      <td>90</td>\n      <td>3</td>\n      <td>3</td>\n      <td>3</td>\n      <td>...</td>\n      <td>29</td>\n      <td>否</td>\n      <td>是</td>\n      <td>否</td>\n      <td>否</td>\n      <td>倾向是</td>\n      <td>否</td>\n      <td>否</td>\n      <td>否</td>\n      <td>否</td>\n    </tr>\n    <tr>\n      <th>16</th>\n      <td>36</td>\n      <td>3210707009</td>\n      <td>程琨耀</td>\n      <td>22</td>\n      <td>1</td>\n      <td>185</td>\n      <td>66</td>\n      <td>1</td>\n      <td>4</td>\n      <td>4</td>\n      <td>...</td>\n      <td>39</td>\n      <td>否</td>\n      <td>否</td>\n      <td>否</td>\n      <td>倾向是</td>\n      <td>倾向是</td>\n      <td>倾向是</td>\n      <td>是</td>\n      <td>否</td>\n      <td>倾向是</td>\n    </tr>\n    <tr>\n      <th>17</th>\n      <td>37</td>\n      <td>3210707018</td>\n      <td>蔡世鹏</td>\n      <td>20</td>\n      <td>1</td>\n      <td>162</td>\n      <td>63</td>\n      <td>3</td>\n      <td>4</td>\n      <td>4</td>\n      <td>...</td>\n      <td>0</td>\n      <td>是</td>\n      <td>否</td>\n      <td>否</td>\n      <td>否</td>\n      <td>否</td>\n      <td>否</td>\n      <td>否</td>\n      <td>否</td>\n      <td>否</td>\n    </tr>\n    <tr>\n      <th>18</th>\n      <td>38</td>\n      <td>3210707043</td>\n      <td>马海鹏</td>\n      <td>20</td>\n      <td>1</td>\n      <td>175</td>\n      <td>65</td>\n      <td>4</td>\n      <td>3</td>\n      <td>2</td>\n      <td>...</td>\n      <td>50</td>\n      <td>否</td>\n      <td>是</td>\n      <td>是</td>\n      <td>是</td>\n      <td>是</td>\n      <td>是</td>\n      <td>是</td>\n      <td>是</td>\n      <td>是</td>\n    </tr>\n    <tr>\n      <th>19</th>\n      <td>39</td>\n      <td>3210707056</td>\n      <td>黎东康</td>\n      <td>21</td>\n      <td>1</td>\n      <td>175</td>\n      <td>59</td>\n      <td>4</td>\n      <td>4</td>\n      <td>4</td>\n      <td>...</td>\n      <td>0</td>\n      <td>否</td>\n      <td>是</td>\n      <td>是</td>\n      <td>是</td>\n      <td>是</td>\n      <td>否</td>\n      <td>倾向是</td>\n      <td>是</td>\n      <td>否</td>\n    </tr>\n    <tr>\n      <th>20</th>\n      <td>40</td>\n      <td>3210707045</td>\n      <td>林皓宇</td>\n      <td>21</td>\n      <td>1</td>\n      <td>178</td>\n      <td>64</td>\n      <td>3</td>\n      <td>3</td>\n      <td>1</td>\n      <td>...</td>\n      <td>25</td>\n      <td>是</td>\n      <td>否</td>\n      <td>否</td>\n      <td>否</td>\n      <td>否</td>\n      <td>否</td>\n      <td>否</td>\n      <td>否</td>\n      <td>否</td>\n    </tr>\n    <tr>\n      <th>21</th>\n      <td>41</td>\n      <td>3210707026</td>\n      <td>黄建锐</td>\n      <td>21</td>\n      <td>1</td>\n      <td>170</td>\n      <td>63</td>\n      <td>4</td>\n      <td>2</td>\n      <td>1</td>\n      <td>...</td>\n      <td>21</td>\n      <td>否</td>\n      <td>否</td>\n      <td>否</td>\n      <td>是</td>\n      <td>是</td>\n      <td>倾向是</td>\n      <td>倾向是</td>\n      <td>是</td>\n      <td>否</td>\n    </tr>\n    <tr>\n      <th>22</th>\n      <td>42</td>\n      <td>3120707060</td>\n      <td>陈剑峰</td>\n      <td>21</td>\n      <td>1</td>\n      <td>170</td>\n      <td>56</td>\n      <td>4</td>\n      <td>1</td>\n      <td>1</td>\n      <td>...</td>\n      <td>7</td>\n      <td>是</td>\n      <td>否</td>\n      <td>否</td>\n      <td>否</td>\n      <td>否</td>\n      <td>否</td>\n      <td>否</td>\n      <td>否</td>\n      <td>否</td>\n    </tr>\n    <tr>\n      <th>23</th>\n      <td>43</td>\n      <td>3210707042</td>\n      <td>郑豹</td>\n      <td>21</td>\n      <td>1</td>\n      <td>175</td>\n      <td>75</td>\n      <td>3</td>\n      <td>3</td>\n      <td>4</td>\n      <td>...</td>\n      <td>43</td>\n      <td>否</td>\n      <td>是</td>\n      <td>倾向是</td>\n      <td>倾向是</td>\n      <td>是</td>\n      <td>是</td>\n      <td>否</td>\n      <td>是</td>\n      <td>是</td>\n    </tr>\n    <tr>\n      <th>24</th>\n      <td>44</td>\n      <td>3210707059</td>\n      <td>冯子斌</td>\n      <td>21</td>\n      <td>1</td>\n      <td>175</td>\n      <td>75</td>\n      <td>5</td>\n      <td>2</td>\n      <td>1</td>\n      <td>...</td>\n      <td>32</td>\n      <td>倾向是</td>\n      <td>否</td>\n      <td>否</td>\n      <td>否</td>\n      <td>否</td>\n      <td>否</td>\n      <td>倾向是</td>\n      <td>倾向是</td>\n      <td>倾向是</td>\n    </tr>\n    <tr>\n      <th>25</th>\n      <td>45</td>\n      <td>3210707010</td>\n      <td>李健铭</td>\n      <td>22</td>\n      <td>1</td>\n      <td>173</td>\n      <td>76</td>\n      <td>3</td>\n      <td>3</td>\n      <td>1</td>\n      <td>...</td>\n      <td>21</td>\n      <td>是</td>\n      <td>否</td>\n      <td>否</td>\n      <td>否</td>\n      <td>否</td>\n      <td>否</td>\n      <td>否</td>\n      <td>否</td>\n      <td>否</td>\n    </tr>\n    <tr>\n      <th>26</th>\n      <td>46</td>\n      <td>3210707041</td>\n      <td>蔡洲鹏</td>\n      <td>18</td>\n      <td>1</td>\n      <td>175</td>\n      <td>62</td>\n      <td>3</td>\n      <td>3</td>\n      <td>1</td>\n      <td>...</td>\n      <td>39</td>\n      <td>否</td>\n      <td>是</td>\n      <td>是</td>\n      <td>是</td>\n      <td>是</td>\n      <td>是</td>\n      <td>是</td>\n      <td>倾向是</td>\n      <td>倾向是</td>\n    </tr>\n    <tr>\n      <th>27</th>\n      <td>2</td>\n      <td>3210707004</td>\n      <td>廖丽珍</td>\n      <td>20</td>\n      <td>2</td>\n      <td>160</td>\n      <td>49</td>\n      <td>4</td>\n      <td>3</td>\n      <td>2</td>\n      <td>...</td>\n      <td>18</td>\n      <td>否</td>\n      <td>是</td>\n      <td>是</td>\n      <td>是</td>\n      <td>否</td>\n      <td>倾向是</td>\n      <td>是</td>\n      <td>是</td>\n      <td>否</td>\n    </tr>\n    <tr>\n      <th>28</th>\n      <td>3</td>\n      <td>3210707007</td>\n      <td>谢晓丹</td>\n      <td>21</td>\n      <td>2</td>\n      <td>167</td>\n      <td>45</td>\n      <td>3</td>\n      <td>3</td>\n      <td>1</td>\n      <td>...</td>\n      <td>46</td>\n      <td>否</td>\n      <td>是</td>\n      <td>是</td>\n      <td>是</td>\n      <td>倾向是</td>\n      <td>倾向是</td>\n      <td>是</td>\n      <td>是</td>\n      <td>是</td>\n    </tr>\n    <tr>\n      <th>29</th>\n      <td>5</td>\n      <td>3210707012</td>\n      <td>胡羽心</td>\n      <td>20</td>\n      <td>2</td>\n      <td>154</td>\n      <td>44</td>\n      <td>5</td>\n      <td>1</td>\n      <td>1</td>\n      <td>...</td>\n      <td>32</td>\n      <td>否</td>\n      <td>倾向是</td>\n      <td>否</td>\n      <td>否</td>\n      <td>是</td>\n      <td>是</td>\n      <td>倾向是</td>\n      <td>是</td>\n      <td>倾向是</td>\n    </tr>\n    <tr>\n      <th>30</th>\n      <td>8</td>\n      <td>3210707046</td>\n      <td>郝怡容</td>\n      <td>22</td>\n      <td>2</td>\n      <td>167</td>\n      <td>60</td>\n      <td>3</td>\n      <td>3</td>\n      <td>3</td>\n      <td>...</td>\n      <td>25</td>\n      <td>倾向是</td>\n      <td>倾向是</td>\n      <td>倾向是</td>\n      <td>否</td>\n      <td>否</td>\n      <td>倾向是</td>\n      <td>倾向是</td>\n      <td>否</td>\n      <td>否</td>\n    </tr>\n    <tr>\n      <th>31</th>\n      <td>9</td>\n      <td>(空)</td>\n      <td>慈</td>\n      <td>21</td>\n      <td>2</td>\n      <td>156</td>\n      <td>43</td>\n      <td>2</td>\n      <td>3</td>\n      <td>2</td>\n      <td>...</td>\n      <td>25</td>\n      <td>否</td>\n      <td>是</td>\n      <td>是</td>\n      <td>是</td>\n      <td>倾向是</td>\n      <td>倾向是</td>\n      <td>是</td>\n      <td>倾向是</td>\n      <td>否</td>\n    </tr>\n    <tr>\n      <th>32</th>\n      <td>10</td>\n      <td>3210707006</td>\n      <td>罗清香</td>\n      <td>20</td>\n      <td>2</td>\n      <td>161</td>\n      <td>52</td>\n      <td>3</td>\n      <td>2</td>\n      <td>2</td>\n      <td>...</td>\n      <td>36</td>\n      <td>否</td>\n      <td>倾向是</td>\n      <td>是</td>\n      <td>倾向是</td>\n      <td>否</td>\n      <td>倾向是</td>\n      <td>是</td>\n      <td>是</td>\n      <td>倾向是</td>\n    </tr>\n    <tr>\n      <th>33</th>\n      <td>11</td>\n      <td>3210707030</td>\n      <td>郑美珠</td>\n      <td>21</td>\n      <td>2</td>\n      <td>165</td>\n      <td>56</td>\n      <td>3</td>\n      <td>3</td>\n      <td>1</td>\n      <td>...</td>\n      <td>39</td>\n      <td>倾向是</td>\n      <td>否</td>\n      <td>否</td>\n      <td>否</td>\n      <td>否</td>\n      <td>否</td>\n      <td>倾向是</td>\n      <td>否</td>\n      <td>倾向是</td>\n    </tr>\n    <tr>\n      <th>34</th>\n      <td>12</td>\n      <td>3210707029</td>\n      <td>杜思婷</td>\n      <td>21</td>\n      <td>2</td>\n      <td>169</td>\n      <td>60</td>\n      <td>4</td>\n      <td>4</td>\n      <td>2</td>\n      <td>...</td>\n      <td>32</td>\n      <td>否</td>\n      <td>否</td>\n      <td>否</td>\n      <td>是</td>\n      <td>否</td>\n      <td>倾向是</td>\n      <td>倾向是</td>\n      <td>倾向是</td>\n      <td>倾向是</td>\n    </tr>\n    <tr>\n      <th>35</th>\n      <td>13</td>\n      <td>3210707050</td>\n      <td>张怡菲</td>\n      <td>20</td>\n      <td>2</td>\n      <td>160</td>\n      <td>48</td>\n      <td>5</td>\n      <td>1</td>\n      <td>1</td>\n      <td>...</td>\n      <td>18</td>\n      <td>否</td>\n      <td>倾向是</td>\n      <td>倾向是</td>\n      <td>是</td>\n      <td>否</td>\n      <td>否</td>\n      <td>是</td>\n      <td>倾向是</td>\n      <td>否</td>\n    </tr>\n    <tr>\n      <th>36</th>\n      <td>14</td>\n      <td>3210707014</td>\n      <td>钟稚琴</td>\n      <td>22</td>\n      <td>2</td>\n      <td>160</td>\n      <td>48</td>\n      <td>4</td>\n      <td>3</td>\n      <td>1</td>\n      <td>...</td>\n      <td>54</td>\n      <td>否</td>\n      <td>是</td>\n      <td>是</td>\n      <td>倾向是</td>\n      <td>否</td>\n      <td>倾向是</td>\n      <td>是</td>\n      <td>倾向是</td>\n      <td>是</td>\n    </tr>\n    <tr>\n      <th>37</th>\n      <td>15</td>\n      <td>3210707017</td>\n      <td>张丽瑄</td>\n      <td>20</td>\n      <td>2</td>\n      <td>161</td>\n      <td>45</td>\n      <td>3</td>\n      <td>3</td>\n      <td>3</td>\n      <td>...</td>\n      <td>32</td>\n      <td>否</td>\n      <td>是</td>\n      <td>否</td>\n      <td>是</td>\n      <td>否</td>\n      <td>否</td>\n      <td>是</td>\n      <td>是</td>\n      <td>倾向是</td>\n    </tr>\n    <tr>\n      <th>38</th>\n      <td>16</td>\n      <td>3210707005</td>\n      <td>王诗琴</td>\n      <td>20</td>\n      <td>2</td>\n      <td>166</td>\n      <td>48</td>\n      <td>4</td>\n      <td>4</td>\n      <td>3</td>\n      <td>...</td>\n      <td>14</td>\n      <td>否</td>\n      <td>倾向是</td>\n      <td>是</td>\n      <td>倾向是</td>\n      <td>否</td>\n      <td>否</td>\n      <td>倾向是</td>\n      <td>否</td>\n      <td>否</td>\n    </tr>\n    <tr>\n      <th>39</th>\n      <td>18</td>\n      <td>3210707028</td>\n      <td>黄梅娟</td>\n      <td>21</td>\n      <td>2</td>\n      <td>165</td>\n      <td>55</td>\n      <td>5</td>\n      <td>2</td>\n      <td>2</td>\n      <td>...</td>\n      <td>39</td>\n      <td>否</td>\n      <td>是</td>\n      <td>否</td>\n      <td>是</td>\n      <td>否</td>\n      <td>否</td>\n      <td>是</td>\n      <td>是</td>\n      <td>倾向是</td>\n    </tr>\n    <tr>\n      <th>40</th>\n      <td>19</td>\n      <td>3210707013</td>\n      <td>李佳佳</td>\n      <td>20</td>\n      <td>2</td>\n      <td>163</td>\n      <td>60</td>\n      <td>4</td>\n      <td>1</td>\n      <td>1</td>\n      <td>...</td>\n      <td>21</td>\n      <td>否</td>\n      <td>倾向是</td>\n      <td>是</td>\n      <td>是</td>\n      <td>倾向是</td>\n      <td>是</td>\n      <td>是</td>\n      <td>倾向是</td>\n      <td>否</td>\n    </tr>\n    <tr>\n      <th>41</th>\n      <td>22</td>\n      <td>3210707001</td>\n      <td>田杰红</td>\n      <td>22</td>\n      <td>2</td>\n      <td>155</td>\n      <td>57</td>\n      <td>4</td>\n      <td>2</td>\n      <td>1</td>\n      <td>...</td>\n      <td>14</td>\n      <td>倾向是</td>\n      <td>否</td>\n      <td>倾向是</td>\n      <td>否</td>\n      <td>否</td>\n      <td>倾向是</td>\n      <td>倾向是</td>\n      <td>否</td>\n      <td>否</td>\n    </tr>\n    <tr>\n      <th>42</th>\n      <td>24</td>\n      <td>3210707002</td>\n      <td>刘兰</td>\n      <td>21</td>\n      <td>2</td>\n      <td>159</td>\n      <td>44</td>\n      <td>3</td>\n      <td>3</td>\n      <td>3</td>\n      <td>...</td>\n      <td>21</td>\n      <td>否</td>\n      <td>是</td>\n      <td>是</td>\n      <td>倾向是</td>\n      <td>倾向是</td>\n      <td>否</td>\n      <td>倾向是</td>\n      <td>倾向是</td>\n      <td>否</td>\n    </tr>\n    <tr>\n      <th>43</th>\n      <td>28</td>\n      <td>3210707021</td>\n      <td>陈红</td>\n      <td>21</td>\n      <td>2</td>\n      <td>155</td>\n      <td>56</td>\n      <td>4</td>\n      <td>2</td>\n      <td>2</td>\n      <td>...</td>\n      <td>11</td>\n      <td>倾向是</td>\n      <td>否</td>\n      <td>否</td>\n      <td>倾向是</td>\n      <td>否</td>\n      <td>倾向是</td>\n      <td>否</td>\n      <td>否</td>\n      <td>否</td>\n    </tr>\n    <tr>\n      <th>44</th>\n      <td>29</td>\n      <td>3210707033</td>\n      <td>郑婉玲</td>\n      <td>21</td>\n      <td>2</td>\n      <td>165</td>\n      <td>50</td>\n      <td>4</td>\n      <td>1</td>\n      <td>1</td>\n      <td>...</td>\n      <td>18</td>\n      <td>否</td>\n      <td>否</td>\n      <td>是</td>\n      <td>否</td>\n      <td>否</td>\n      <td>否</td>\n      <td>否</td>\n      <td>否</td>\n      <td>否</td>\n    </tr>\n    <tr>\n      <th>45</th>\n      <td>31</td>\n      <td>3210707020</td>\n      <td>余昕玥</td>\n      <td>20</td>\n      <td>2</td>\n      <td>172</td>\n      <td>62</td>\n      <td>3</td>\n      <td>3</td>\n      <td>3</td>\n      <td>...</td>\n      <td>25</td>\n      <td>否</td>\n      <td>是</td>\n      <td>倾向是</td>\n      <td>是</td>\n      <td>倾向是</td>\n      <td>否</td>\n      <td>是</td>\n      <td>倾向是</td>\n      <td>否</td>\n    </tr>\n    <tr>\n      <th>46</th>\n      <td>47</td>\n      <td>3210707027</td>\n      <td>王嘉欣</td>\n      <td>20</td>\n      <td>2</td>\n      <td>159</td>\n      <td>55</td>\n      <td>4</td>\n      <td>3</td>\n      <td>2</td>\n      <td>...</td>\n      <td>32</td>\n      <td>否</td>\n      <td>倾向是</td>\n      <td>是</td>\n      <td>倾向是</td>\n      <td>否</td>\n      <td>是</td>\n      <td>倾向是</td>\n      <td>否</td>\n      <td>倾向是</td>\n    </tr>\n    <tr>\n      <th>47</th>\n      <td>48</td>\n      <td>3210707044</td>\n      <td>许雪敏</td>\n      <td>21</td>\n      <td>2</td>\n      <td>170</td>\n      <td>56</td>\n      <td>2</td>\n      <td>3</td>\n      <td>2</td>\n      <td>...</td>\n      <td>14</td>\n      <td>否</td>\n      <td>倾向是</td>\n      <td>倾向是</td>\n      <td>倾向是</td>\n      <td>是</td>\n      <td>倾向是</td>\n      <td>倾向是</td>\n      <td>是</td>\n      <td>否</td>\n    </tr>\n    <tr>\n      <th>48</th>\n      <td>49</td>\n      <td>3210707022</td>\n      <td>侯晨露</td>\n      <td>20</td>\n      <td>2</td>\n      <td>165</td>\n      <td>48</td>\n      <td>2</td>\n      <td>4</td>\n      <td>3</td>\n      <td>...</td>\n      <td>32</td>\n      <td>否</td>\n      <td>是</td>\n      <td>是</td>\n      <td>倾向是</td>\n      <td>是</td>\n      <td>倾向是</td>\n      <td>是</td>\n      <td>是</td>\n      <td>倾向是</td>\n    </tr>\n    <tr>\n      <th>49</th>\n      <td>50</td>\n      <td>3210707024</td>\n      <td>胡远媛</td>\n      <td>21</td>\n      <td>2</td>\n      <td>155</td>\n      <td>47</td>\n      <td>3</td>\n      <td>4</td>\n      <td>3</td>\n      <td>...</td>\n      <td>61</td>\n      <td>否</td>\n      <td>是</td>\n      <td>是</td>\n      <td>是</td>\n      <td>倾向是</td>\n      <td>倾向是</td>\n      <td>是</td>\n      <td>是</td>\n      <td>是</td>\n    </tr>\n    <tr>\n      <th>50</th>\n      <td>51</td>\n      <td>3210707037</td>\n      <td>刘晓丹</td>\n      <td>21</td>\n      <td>2</td>\n      <td>156</td>\n      <td>45</td>\n      <td>2</td>\n      <td>4</td>\n      <td>4</td>\n      <td>...</td>\n      <td>32</td>\n      <td>否</td>\n      <td>是</td>\n      <td>是</td>\n      <td>是</td>\n      <td>倾向是</td>\n      <td>是</td>\n      <td>是</td>\n      <td>是</td>\n      <td>倾向是</td>\n    </tr>\n  </tbody>\n</table>\n<p>51 rows × 86 columns</p>\n</div>"
     },
     "execution_count": 2,
     "metadata": {},
     "output_type": "execute_result"
    }
   ],
   "source": [
    "# 读取经过处理的体质表（已经过去重处理，并计算出相应的体质信息）\n",
    "df = pd.read_excel(r\"C:\\Users\\32858\\Desktop\\中医体质问卷分析\\中医体质问卷_21信管_第二轮.xlsx\")\n",
    "df"
   ]
  },
  {
   "cell_type": "markdown",
   "metadata": {
    "collapsed": false,
    "jupyter": {
     "outputs_hidden": false
    }
   },
   "source": [
    "## 检查数据是否有缺失值，由于有缺失值无法获得正确的体质信息，故直接舍去"
   ]
  },
  {
   "cell_type": "code",
   "execution_count": 3,
   "metadata": {
    "ExecuteTime": {
     "start_time": "2024-06-02T12:24:42.513844Z",
     "end_time": "2024-06-02T12:24:42.513844Z"
    },
    "collapsed": false,
    "jupyter": {
     "outputs_hidden": false
    }
   },
   "outputs": [
    {
     "name": "stdout",
     "output_type": "stream",
     "text": [
      "len_df=51\n",
      "len_df=51\n"
     ]
    }
   ],
   "source": [
    "# 截取包含9中体质得分的数据\n",
    "df1 = df[['平和质转化分', '气虚质转化分', '阳虚质转化分', '阴虚质转化分', '痰湿质转化分', '湿热质转化分', '瘀血质转化分', '气郁质转化分', '特禀质转化分']]\n",
    "# 检查、处理缺失值\n",
    "print(f'len_df={len(df)}')\n",
    "df1 = df1.dropna()\n",
    "print(f'len_df={len(df)}')"
   ]
  },
  {
   "cell_type": "markdown",
   "metadata": {
    "collapsed": false,
    "jupyter": {
     "outputs_hidden": false
    }
   },
   "source": [
    "### （1）计算全班9种体质类型的平均分、标准差等基础数据\n",
    "#### count:计数（数据条数）\n",
    "#### mean:均值\n",
    "#### std:标准差\n",
    "#### min:最小值\n",
    "#### 25%:下四分位数\n",
    "#### 50%:中分位数\n",
    "#### 75%:上四分位数\n",
    "#### max:最大值"
   ]
  },
  {
   "cell_type": "code",
   "execution_count": 4,
   "metadata": {
    "ExecuteTime": {
     "start_time": "2024-06-02T12:24:42.513844Z",
     "end_time": "2024-06-02T12:24:42.529630Z"
    },
    "collapsed": false,
    "jupyter": {
     "outputs_hidden": false
    }
   },
   "outputs": [
    {
     "data": {
      "text/plain": "          平和质转化分     气虚质转化分     阳虚质转化分     阴虚质转化分     痰湿质转化分     湿热质转化分  \\\ncount  51.000000  51.000000  51.000000  51.000000  51.000000  51.000000   \nmean   60.843137  34.627451  32.058824  31.686275  25.039216  29.372549   \nstd    14.300171  16.421889  17.697923  13.501837  14.083978  14.197128   \nmin    36.000000   6.000000   0.000000   0.000000   0.000000   0.000000   \n25%    50.000000  22.000000  19.500000  23.500000  16.000000  18.000000   \n50%    61.000000  34.000000  32.000000  31.000000  25.000000  29.000000   \n75%    73.000000  47.000000  43.000000  41.000000  36.000000  39.000000   \nmax    86.000000  69.000000  71.000000  56.000000  50.000000  57.000000   \n\n          瘀血质转化分     气郁质转化分     特禀质转化分  \ncount  51.000000  51.000000  51.000000  \nmean   32.333333  31.411765  25.470588  \nstd    13.693307  14.517819  13.819339  \nmin     0.000000   0.000000   0.000000  \n25%    25.000000  21.000000  18.000000  \n50%    36.000000  32.000000  25.000000  \n75%    43.000000  43.000000  32.000000  \nmax    54.000000  71.000000  61.000000  ",
      "text/html": "<div>\n<style scoped>\n    .dataframe tbody tr th:only-of-type {\n        vertical-align: middle;\n    }\n\n    .dataframe tbody tr th {\n        vertical-align: top;\n    }\n\n    .dataframe thead th {\n        text-align: right;\n    }\n</style>\n<table border=\"1\" class=\"dataframe\">\n  <thead>\n    <tr style=\"text-align: right;\">\n      <th></th>\n      <th>平和质转化分</th>\n      <th>气虚质转化分</th>\n      <th>阳虚质转化分</th>\n      <th>阴虚质转化分</th>\n      <th>痰湿质转化分</th>\n      <th>湿热质转化分</th>\n      <th>瘀血质转化分</th>\n      <th>气郁质转化分</th>\n      <th>特禀质转化分</th>\n    </tr>\n  </thead>\n  <tbody>\n    <tr>\n      <th>count</th>\n      <td>51.000000</td>\n      <td>51.000000</td>\n      <td>51.000000</td>\n      <td>51.000000</td>\n      <td>51.000000</td>\n      <td>51.000000</td>\n      <td>51.000000</td>\n      <td>51.000000</td>\n      <td>51.000000</td>\n    </tr>\n    <tr>\n      <th>mean</th>\n      <td>60.843137</td>\n      <td>34.627451</td>\n      <td>32.058824</td>\n      <td>31.686275</td>\n      <td>25.039216</td>\n      <td>29.372549</td>\n      <td>32.333333</td>\n      <td>31.411765</td>\n      <td>25.470588</td>\n    </tr>\n    <tr>\n      <th>std</th>\n      <td>14.300171</td>\n      <td>16.421889</td>\n      <td>17.697923</td>\n      <td>13.501837</td>\n      <td>14.083978</td>\n      <td>14.197128</td>\n      <td>13.693307</td>\n      <td>14.517819</td>\n      <td>13.819339</td>\n    </tr>\n    <tr>\n      <th>min</th>\n      <td>36.000000</td>\n      <td>6.000000</td>\n      <td>0.000000</td>\n      <td>0.000000</td>\n      <td>0.000000</td>\n      <td>0.000000</td>\n      <td>0.000000</td>\n      <td>0.000000</td>\n      <td>0.000000</td>\n    </tr>\n    <tr>\n      <th>25%</th>\n      <td>50.000000</td>\n      <td>22.000000</td>\n      <td>19.500000</td>\n      <td>23.500000</td>\n      <td>16.000000</td>\n      <td>18.000000</td>\n      <td>25.000000</td>\n      <td>21.000000</td>\n      <td>18.000000</td>\n    </tr>\n    <tr>\n      <th>50%</th>\n      <td>61.000000</td>\n      <td>34.000000</td>\n      <td>32.000000</td>\n      <td>31.000000</td>\n      <td>25.000000</td>\n      <td>29.000000</td>\n      <td>36.000000</td>\n      <td>32.000000</td>\n      <td>25.000000</td>\n    </tr>\n    <tr>\n      <th>75%</th>\n      <td>73.000000</td>\n      <td>47.000000</td>\n      <td>43.000000</td>\n      <td>41.000000</td>\n      <td>36.000000</td>\n      <td>39.000000</td>\n      <td>43.000000</td>\n      <td>43.000000</td>\n      <td>32.000000</td>\n    </tr>\n    <tr>\n      <th>max</th>\n      <td>86.000000</td>\n      <td>69.000000</td>\n      <td>71.000000</td>\n      <td>56.000000</td>\n      <td>50.000000</td>\n      <td>57.000000</td>\n      <td>54.000000</td>\n      <td>71.000000</td>\n      <td>61.000000</td>\n    </tr>\n  </tbody>\n</table>\n</div>"
     },
     "execution_count": 4,
     "metadata": {},
     "output_type": "execute_result"
    }
   ],
   "source": [
    "df1.describe()"
   ]
  },
  {
   "cell_type": "markdown",
   "metadata": {
    "collapsed": false,
    "jupyter": {
     "outputs_hidden": false
    }
   },
   "source": [
    "### 由上述分析结果可知，相交于第一次体质调查的数据，没有了“平和质转化分”中最大值为100，远超上四分位数及其均值的数据\n",
    "### 各体质方差分布于[13.530213，17.697923],分布相对集中"
   ]
  },
  {
   "cell_type": "markdown",
   "metadata": {
    "collapsed": false,
    "jupyter": {
     "outputs_hidden": false
    }
   },
   "source": [
    "### （2）计算全班不同性别同学9种体质类型的平均分、标准差；\n",
    "#### 按性别分组，后计算题均值、方差\n",
    "#### 1:男\n",
    "#### 2:女"
   ]
  },
  {
   "cell_type": "code",
   "execution_count": 5,
   "metadata": {
    "ExecuteTime": {
     "start_time": "2024-06-02T12:24:42.529630Z",
     "end_time": "2024-06-02T12:24:42.576656Z"
    },
    "collapsed": false,
    "jupyter": {
     "outputs_hidden": false
    }
   },
   "outputs": [
    {
     "name": "stdout",
     "output_type": "stream",
     "text": [
      "均值如下：\n",
      "       平和质转化分     气虚质转化分     阳虚质转化分     阴虚质转化分     痰湿质转化分     湿热质转化分  \\\n",
      "性别                                                                     \n",
      "1   64.962963  29.037037  23.777778  26.777778  23.185185  25.444444   \n",
      "2   56.208333  40.916667  41.375000  37.208333  27.125000  33.791667   \n",
      "\n",
      "       瘀血质转化分     气郁质转化分     特禀质转化分  \n",
      "性别                                   \n",
      "1   25.740741  26.333333  22.518519  \n",
      "2   39.750000  37.125000  28.791667  \n",
      "方差如下：\n",
      "       平和质转化分     气虚质转化分     阳虚质转化分     阴虚质转化分     痰湿质转化分     湿热质转化分  \\\n",
      "性别                                                                     \n",
      "1   14.410150  16.256316  15.064817  14.752662  16.165103  15.400633   \n",
      "2   12.941269  14.476117  15.915026   9.495899  11.280273  11.470109   \n",
      "\n",
      "       瘀血质转化分     气郁质转化分     特禀质转化分  \n",
      "性别                                   \n",
      "1   13.971379  14.371446  14.238005  \n",
      "2    8.862476  12.663925  12.816359  \n"
     ]
    }
   ],
   "source": [
    "# df1表添加一列性别信息，用于分组统计\n",
    "df1['性别'] = df['4、性别']\n",
    "\n",
    "# 分组统计\n",
    "group = df1.groupby(df1['性别'])\n",
    "print('均值如下：')\n",
    "print(f'{group.mean()}')\n",
    "print('方差如下：')\n",
    "print(f'{group.std()}')"
   ]
  },
  {
   "cell_type": "code",
   "execution_count": 6,
   "outputs": [
    {
     "data": {
      "text/plain": "    平和质转化分  气虚质转化分  阳虚质转化分  阴虚质转化分  痰湿质转化分  湿热质转化分  瘀血质转化分  气郁质转化分  特禀质转化分\n性别                                                                        \n1       27      27      27      27      27      27      27      27      27\n2       24      24      24      24      24      24      24      24      24",
      "text/html": "<div>\n<style scoped>\n    .dataframe tbody tr th:only-of-type {\n        vertical-align: middle;\n    }\n\n    .dataframe tbody tr th {\n        vertical-align: top;\n    }\n\n    .dataframe thead th {\n        text-align: right;\n    }\n</style>\n<table border=\"1\" class=\"dataframe\">\n  <thead>\n    <tr style=\"text-align: right;\">\n      <th></th>\n      <th>平和质转化分</th>\n      <th>气虚质转化分</th>\n      <th>阳虚质转化分</th>\n      <th>阴虚质转化分</th>\n      <th>痰湿质转化分</th>\n      <th>湿热质转化分</th>\n      <th>瘀血质转化分</th>\n      <th>气郁质转化分</th>\n      <th>特禀质转化分</th>\n    </tr>\n    <tr>\n      <th>性别</th>\n      <th></th>\n      <th></th>\n      <th></th>\n      <th></th>\n      <th></th>\n      <th></th>\n      <th></th>\n      <th></th>\n      <th></th>\n    </tr>\n  </thead>\n  <tbody>\n    <tr>\n      <th>1</th>\n      <td>27</td>\n      <td>27</td>\n      <td>27</td>\n      <td>27</td>\n      <td>27</td>\n      <td>27</td>\n      <td>27</td>\n      <td>27</td>\n      <td>27</td>\n    </tr>\n    <tr>\n      <th>2</th>\n      <td>24</td>\n      <td>24</td>\n      <td>24</td>\n      <td>24</td>\n      <td>24</td>\n      <td>24</td>\n      <td>24</td>\n      <td>24</td>\n      <td>24</td>\n    </tr>\n  </tbody>\n</table>\n</div>"
     },
     "execution_count": 6,
     "metadata": {},
     "output_type": "execute_result"
    }
   ],
   "source": [
    "group.count()"
   ],
   "metadata": {
    "collapsed": false,
    "ExecuteTime": {
     "start_time": "2024-06-02T12:24:42.548998Z",
     "end_time": "2024-06-02T12:24:42.623529Z"
    }
   }
  },
  {
   "cell_type": "markdown",
   "metadata": {
    "collapsed": false,
    "jupyter": {
     "outputs_hidden": false
    }
   },
   "source": [
    "### (3)全班9种体质类型（是、倾向是、否）的频数分布；\n",
    "#### 先从df表中提取有用列，再统计频率"
   ]
  },
  {
   "cell_type": "code",
   "execution_count": 7,
   "metadata": {
    "ExecuteTime": {
     "start_time": "2024-06-02T12:24:42.556134Z",
     "end_time": "2024-06-02T12:24:42.654783Z"
    },
    "collapsed": false,
    "jupyter": {
     "outputs_hidden": false
    }
   },
   "outputs": [
    {
     "name": "stdout",
     "output_type": "stream",
     "text": [
      "len_df=51\n",
      "len_df=51\n"
     ]
    }
   ],
   "source": [
    "# 提取相关的体质信息df2\n",
    "df2 = df[['平和质（是/否）','气虚质（是/否）','阳虚质（是/否）', '阴虚质（是/否）', '痰湿质（是/否）', '湿热质（是/否）', '淤血质（是/否）', '气郁质（是/否）', '特禀质（是/否）']]\n",
    "\n",
    "# 检查、处理缺失值\n",
    "print(f'len_df={len(df)}')\n",
    "df2 = df2.dropna()\n",
    "print(f'len_df={len(df)}')"
   ]
  },
  {
   "cell_type": "markdown",
   "metadata": {
    "collapsed": false,
    "jupyter": {
     "outputs_hidden": false
    }
   },
   "source": [
    "### 数据中的“否”等信息可能末尾或首部有空格，导致分组时分为多组，故下面要处理首位的空格"
   ]
  },
  {
   "cell_type": "code",
   "execution_count": 8,
   "metadata": {
    "ExecuteTime": {
     "start_time": "2024-06-02T12:24:42.561269Z",
     "end_time": "2024-06-02T12:24:42.654783Z"
    },
    "collapsed": false,
    "jupyter": {
     "outputs_hidden": false
    }
   },
   "outputs": [
    {
     "data": {
      "text/plain": "   平和质（是/否） 气虚质（是/否） 阳虚质（是/否） 阴虚质（是/否） 痰湿质（是/否） 湿热质（是/否） 淤血质（是/否） 气郁质（是/否）  \\\n0         否        是      倾向是      倾向是      倾向是      倾向是        否      倾向是   \n1         否      倾向是      倾向是        是        否        否        否        否   \n2         否        是        否      倾向是        否        否      倾向是        是   \n3         是        否        否        否        否        否        否        否   \n4         否        是        是        是        是      倾向是        是        是   \n5         否        是        否        否        否        否        否        否   \n6         是        否        否        否        否        否        否        否   \n7         否        否        是        否        否        是        是        否   \n8         是        否        否        否        否        否        否        否   \n9         否      倾向是        否      倾向是        否      倾向是      倾向是        否   \n10      倾向是        否        否        否        否        否        否      倾向是   \n11        是        否        否        否        否        否        否        否   \n12        否        否        否        否        否        否        否        否   \n13      倾向是        否        否      倾向是        否        否        否        否   \n14        是        否        否        否        否        否        否        否   \n15        否        是        否        否      倾向是        否        否        否   \n16        否        否        否      倾向是      倾向是      倾向是        是        否   \n17        是        否        否        否        否        否        否        否   \n18        否        是        是        是        是        是        是        是   \n19        否        是        是        是        是        否      倾向是        是   \n20        是        否        否        否        否        否        否        否   \n21        否        否        否        是        是      倾向是      倾向是        是   \n22        是        否        否        否        否        否        否        否   \n23        否        是      倾向是      倾向是        是        是        否        是   \n24      倾向是        否        否        否        否        否      倾向是      倾向是   \n25        是        否        否        否        否        否        否        否   \n26        否        是        是        是        是        是        是      倾向是   \n27        否        是        是        是        否      倾向是        是        是   \n28        否        是        是        是      倾向是      倾向是        是        是   \n29        否      倾向是        否        否        是        是      倾向是        是   \n30      倾向是      倾向是      倾向是        否        否      倾向是      倾向是        否   \n31        否        是        是        是      倾向是      倾向是        是      倾向是   \n32        否      倾向是        是      倾向是        否      倾向是        是        是   \n33      倾向是        否        否        否        否        否      倾向是        否   \n34        否        否        否        是        否      倾向是      倾向是      倾向是   \n35        否      倾向是      倾向是        是        否        否        是      倾向是   \n36        否        是        是      倾向是        否      倾向是        是      倾向是   \n37        否        是        否        是        否        否        是        是   \n38        否      倾向是        是      倾向是        否        否      倾向是        否   \n39        否        是        否        是        否        否        是        是   \n40        否      倾向是        是        是      倾向是        是        是      倾向是   \n41      倾向是        否      倾向是        否        否      倾向是      倾向是        否   \n42        否        是        是      倾向是      倾向是        否      倾向是      倾向是   \n43      倾向是        否        否      倾向是        否      倾向是        否        否   \n44        否        否        是        否        否        否        否        否   \n45        否        是      倾向是        是      倾向是        否        是      倾向是   \n46        否      倾向是        是      倾向是        否        是      倾向是        否   \n47        否      倾向是      倾向是      倾向是        是      倾向是      倾向是        是   \n48        否        是        是      倾向是        是      倾向是        是        是   \n49        否        是        是        是      倾向是      倾向是        是        是   \n50        否        是        是        是      倾向是        是        是        是   \n\n   特禀质（是/否）  \n0         否  \n1         否  \n2         否  \n3         否  \n4         否  \n5         否  \n6         否  \n7         否  \n8         否  \n9         是  \n10        否  \n11        否  \n12        否  \n13        否  \n14        否  \n15        否  \n16      倾向是  \n17        否  \n18        是  \n19        否  \n20        否  \n21        否  \n22        否  \n23        是  \n24      倾向是  \n25        否  \n26      倾向是  \n27        否  \n28        是  \n29      倾向是  \n30        否  \n31        否  \n32      倾向是  \n33      倾向是  \n34      倾向是  \n35        否  \n36        是  \n37      倾向是  \n38        否  \n39      倾向是  \n40        否  \n41        否  \n42        否  \n43        否  \n44        否  \n45        否  \n46      倾向是  \n47        否  \n48      倾向是  \n49        是  \n50      倾向是  ",
      "text/html": "<div>\n<style scoped>\n    .dataframe tbody tr th:only-of-type {\n        vertical-align: middle;\n    }\n\n    .dataframe tbody tr th {\n        vertical-align: top;\n    }\n\n    .dataframe thead th {\n        text-align: right;\n    }\n</style>\n<table border=\"1\" class=\"dataframe\">\n  <thead>\n    <tr style=\"text-align: right;\">\n      <th></th>\n      <th>平和质（是/否）</th>\n      <th>气虚质（是/否）</th>\n      <th>阳虚质（是/否）</th>\n      <th>阴虚质（是/否）</th>\n      <th>痰湿质（是/否）</th>\n      <th>湿热质（是/否）</th>\n      <th>淤血质（是/否）</th>\n      <th>气郁质（是/否）</th>\n      <th>特禀质（是/否）</th>\n    </tr>\n  </thead>\n  <tbody>\n    <tr>\n      <th>0</th>\n      <td>否</td>\n      <td>是</td>\n      <td>倾向是</td>\n      <td>倾向是</td>\n      <td>倾向是</td>\n      <td>倾向是</td>\n      <td>否</td>\n      <td>倾向是</td>\n      <td>否</td>\n    </tr>\n    <tr>\n      <th>1</th>\n      <td>否</td>\n      <td>倾向是</td>\n      <td>倾向是</td>\n      <td>是</td>\n      <td>否</td>\n      <td>否</td>\n      <td>否</td>\n      <td>否</td>\n      <td>否</td>\n    </tr>\n    <tr>\n      <th>2</th>\n      <td>否</td>\n      <td>是</td>\n      <td>否</td>\n      <td>倾向是</td>\n      <td>否</td>\n      <td>否</td>\n      <td>倾向是</td>\n      <td>是</td>\n      <td>否</td>\n    </tr>\n    <tr>\n      <th>3</th>\n      <td>是</td>\n      <td>否</td>\n      <td>否</td>\n      <td>否</td>\n      <td>否</td>\n      <td>否</td>\n      <td>否</td>\n      <td>否</td>\n      <td>否</td>\n    </tr>\n    <tr>\n      <th>4</th>\n      <td>否</td>\n      <td>是</td>\n      <td>是</td>\n      <td>是</td>\n      <td>是</td>\n      <td>倾向是</td>\n      <td>是</td>\n      <td>是</td>\n      <td>否</td>\n    </tr>\n    <tr>\n      <th>5</th>\n      <td>否</td>\n      <td>是</td>\n      <td>否</td>\n      <td>否</td>\n      <td>否</td>\n      <td>否</td>\n      <td>否</td>\n      <td>否</td>\n      <td>否</td>\n    </tr>\n    <tr>\n      <th>6</th>\n      <td>是</td>\n      <td>否</td>\n      <td>否</td>\n      <td>否</td>\n      <td>否</td>\n      <td>否</td>\n      <td>否</td>\n      <td>否</td>\n      <td>否</td>\n    </tr>\n    <tr>\n      <th>7</th>\n      <td>否</td>\n      <td>否</td>\n      <td>是</td>\n      <td>否</td>\n      <td>否</td>\n      <td>是</td>\n      <td>是</td>\n      <td>否</td>\n      <td>否</td>\n    </tr>\n    <tr>\n      <th>8</th>\n      <td>是</td>\n      <td>否</td>\n      <td>否</td>\n      <td>否</td>\n      <td>否</td>\n      <td>否</td>\n      <td>否</td>\n      <td>否</td>\n      <td>否</td>\n    </tr>\n    <tr>\n      <th>9</th>\n      <td>否</td>\n      <td>倾向是</td>\n      <td>否</td>\n      <td>倾向是</td>\n      <td>否</td>\n      <td>倾向是</td>\n      <td>倾向是</td>\n      <td>否</td>\n      <td>是</td>\n    </tr>\n    <tr>\n      <th>10</th>\n      <td>倾向是</td>\n      <td>否</td>\n      <td>否</td>\n      <td>否</td>\n      <td>否</td>\n      <td>否</td>\n      <td>否</td>\n      <td>倾向是</td>\n      <td>否</td>\n    </tr>\n    <tr>\n      <th>11</th>\n      <td>是</td>\n      <td>否</td>\n      <td>否</td>\n      <td>否</td>\n      <td>否</td>\n      <td>否</td>\n      <td>否</td>\n      <td>否</td>\n      <td>否</td>\n    </tr>\n    <tr>\n      <th>12</th>\n      <td>否</td>\n      <td>否</td>\n      <td>否</td>\n      <td>否</td>\n      <td>否</td>\n      <td>否</td>\n      <td>否</td>\n      <td>否</td>\n      <td>否</td>\n    </tr>\n    <tr>\n      <th>13</th>\n      <td>倾向是</td>\n      <td>否</td>\n      <td>否</td>\n      <td>倾向是</td>\n      <td>否</td>\n      <td>否</td>\n      <td>否</td>\n      <td>否</td>\n      <td>否</td>\n    </tr>\n    <tr>\n      <th>14</th>\n      <td>是</td>\n      <td>否</td>\n      <td>否</td>\n      <td>否</td>\n      <td>否</td>\n      <td>否</td>\n      <td>否</td>\n      <td>否</td>\n      <td>否</td>\n    </tr>\n    <tr>\n      <th>15</th>\n      <td>否</td>\n      <td>是</td>\n      <td>否</td>\n      <td>否</td>\n      <td>倾向是</td>\n      <td>否</td>\n      <td>否</td>\n      <td>否</td>\n      <td>否</td>\n    </tr>\n    <tr>\n      <th>16</th>\n      <td>否</td>\n      <td>否</td>\n      <td>否</td>\n      <td>倾向是</td>\n      <td>倾向是</td>\n      <td>倾向是</td>\n      <td>是</td>\n      <td>否</td>\n      <td>倾向是</td>\n    </tr>\n    <tr>\n      <th>17</th>\n      <td>是</td>\n      <td>否</td>\n      <td>否</td>\n      <td>否</td>\n      <td>否</td>\n      <td>否</td>\n      <td>否</td>\n      <td>否</td>\n      <td>否</td>\n    </tr>\n    <tr>\n      <th>18</th>\n      <td>否</td>\n      <td>是</td>\n      <td>是</td>\n      <td>是</td>\n      <td>是</td>\n      <td>是</td>\n      <td>是</td>\n      <td>是</td>\n      <td>是</td>\n    </tr>\n    <tr>\n      <th>19</th>\n      <td>否</td>\n      <td>是</td>\n      <td>是</td>\n      <td>是</td>\n      <td>是</td>\n      <td>否</td>\n      <td>倾向是</td>\n      <td>是</td>\n      <td>否</td>\n    </tr>\n    <tr>\n      <th>20</th>\n      <td>是</td>\n      <td>否</td>\n      <td>否</td>\n      <td>否</td>\n      <td>否</td>\n      <td>否</td>\n      <td>否</td>\n      <td>否</td>\n      <td>否</td>\n    </tr>\n    <tr>\n      <th>21</th>\n      <td>否</td>\n      <td>否</td>\n      <td>否</td>\n      <td>是</td>\n      <td>是</td>\n      <td>倾向是</td>\n      <td>倾向是</td>\n      <td>是</td>\n      <td>否</td>\n    </tr>\n    <tr>\n      <th>22</th>\n      <td>是</td>\n      <td>否</td>\n      <td>否</td>\n      <td>否</td>\n      <td>否</td>\n      <td>否</td>\n      <td>否</td>\n      <td>否</td>\n      <td>否</td>\n    </tr>\n    <tr>\n      <th>23</th>\n      <td>否</td>\n      <td>是</td>\n      <td>倾向是</td>\n      <td>倾向是</td>\n      <td>是</td>\n      <td>是</td>\n      <td>否</td>\n      <td>是</td>\n      <td>是</td>\n    </tr>\n    <tr>\n      <th>24</th>\n      <td>倾向是</td>\n      <td>否</td>\n      <td>否</td>\n      <td>否</td>\n      <td>否</td>\n      <td>否</td>\n      <td>倾向是</td>\n      <td>倾向是</td>\n      <td>倾向是</td>\n    </tr>\n    <tr>\n      <th>25</th>\n      <td>是</td>\n      <td>否</td>\n      <td>否</td>\n      <td>否</td>\n      <td>否</td>\n      <td>否</td>\n      <td>否</td>\n      <td>否</td>\n      <td>否</td>\n    </tr>\n    <tr>\n      <th>26</th>\n      <td>否</td>\n      <td>是</td>\n      <td>是</td>\n      <td>是</td>\n      <td>是</td>\n      <td>是</td>\n      <td>是</td>\n      <td>倾向是</td>\n      <td>倾向是</td>\n    </tr>\n    <tr>\n      <th>27</th>\n      <td>否</td>\n      <td>是</td>\n      <td>是</td>\n      <td>是</td>\n      <td>否</td>\n      <td>倾向是</td>\n      <td>是</td>\n      <td>是</td>\n      <td>否</td>\n    </tr>\n    <tr>\n      <th>28</th>\n      <td>否</td>\n      <td>是</td>\n      <td>是</td>\n      <td>是</td>\n      <td>倾向是</td>\n      <td>倾向是</td>\n      <td>是</td>\n      <td>是</td>\n      <td>是</td>\n    </tr>\n    <tr>\n      <th>29</th>\n      <td>否</td>\n      <td>倾向是</td>\n      <td>否</td>\n      <td>否</td>\n      <td>是</td>\n      <td>是</td>\n      <td>倾向是</td>\n      <td>是</td>\n      <td>倾向是</td>\n    </tr>\n    <tr>\n      <th>30</th>\n      <td>倾向是</td>\n      <td>倾向是</td>\n      <td>倾向是</td>\n      <td>否</td>\n      <td>否</td>\n      <td>倾向是</td>\n      <td>倾向是</td>\n      <td>否</td>\n      <td>否</td>\n    </tr>\n    <tr>\n      <th>31</th>\n      <td>否</td>\n      <td>是</td>\n      <td>是</td>\n      <td>是</td>\n      <td>倾向是</td>\n      <td>倾向是</td>\n      <td>是</td>\n      <td>倾向是</td>\n      <td>否</td>\n    </tr>\n    <tr>\n      <th>32</th>\n      <td>否</td>\n      <td>倾向是</td>\n      <td>是</td>\n      <td>倾向是</td>\n      <td>否</td>\n      <td>倾向是</td>\n      <td>是</td>\n      <td>是</td>\n      <td>倾向是</td>\n    </tr>\n    <tr>\n      <th>33</th>\n      <td>倾向是</td>\n      <td>否</td>\n      <td>否</td>\n      <td>否</td>\n      <td>否</td>\n      <td>否</td>\n      <td>倾向是</td>\n      <td>否</td>\n      <td>倾向是</td>\n    </tr>\n    <tr>\n      <th>34</th>\n      <td>否</td>\n      <td>否</td>\n      <td>否</td>\n      <td>是</td>\n      <td>否</td>\n      <td>倾向是</td>\n      <td>倾向是</td>\n      <td>倾向是</td>\n      <td>倾向是</td>\n    </tr>\n    <tr>\n      <th>35</th>\n      <td>否</td>\n      <td>倾向是</td>\n      <td>倾向是</td>\n      <td>是</td>\n      <td>否</td>\n      <td>否</td>\n      <td>是</td>\n      <td>倾向是</td>\n      <td>否</td>\n    </tr>\n    <tr>\n      <th>36</th>\n      <td>否</td>\n      <td>是</td>\n      <td>是</td>\n      <td>倾向是</td>\n      <td>否</td>\n      <td>倾向是</td>\n      <td>是</td>\n      <td>倾向是</td>\n      <td>是</td>\n    </tr>\n    <tr>\n      <th>37</th>\n      <td>否</td>\n      <td>是</td>\n      <td>否</td>\n      <td>是</td>\n      <td>否</td>\n      <td>否</td>\n      <td>是</td>\n      <td>是</td>\n      <td>倾向是</td>\n    </tr>\n    <tr>\n      <th>38</th>\n      <td>否</td>\n      <td>倾向是</td>\n      <td>是</td>\n      <td>倾向是</td>\n      <td>否</td>\n      <td>否</td>\n      <td>倾向是</td>\n      <td>否</td>\n      <td>否</td>\n    </tr>\n    <tr>\n      <th>39</th>\n      <td>否</td>\n      <td>是</td>\n      <td>否</td>\n      <td>是</td>\n      <td>否</td>\n      <td>否</td>\n      <td>是</td>\n      <td>是</td>\n      <td>倾向是</td>\n    </tr>\n    <tr>\n      <th>40</th>\n      <td>否</td>\n      <td>倾向是</td>\n      <td>是</td>\n      <td>是</td>\n      <td>倾向是</td>\n      <td>是</td>\n      <td>是</td>\n      <td>倾向是</td>\n      <td>否</td>\n    </tr>\n    <tr>\n      <th>41</th>\n      <td>倾向是</td>\n      <td>否</td>\n      <td>倾向是</td>\n      <td>否</td>\n      <td>否</td>\n      <td>倾向是</td>\n      <td>倾向是</td>\n      <td>否</td>\n      <td>否</td>\n    </tr>\n    <tr>\n      <th>42</th>\n      <td>否</td>\n      <td>是</td>\n      <td>是</td>\n      <td>倾向是</td>\n      <td>倾向是</td>\n      <td>否</td>\n      <td>倾向是</td>\n      <td>倾向是</td>\n      <td>否</td>\n    </tr>\n    <tr>\n      <th>43</th>\n      <td>倾向是</td>\n      <td>否</td>\n      <td>否</td>\n      <td>倾向是</td>\n      <td>否</td>\n      <td>倾向是</td>\n      <td>否</td>\n      <td>否</td>\n      <td>否</td>\n    </tr>\n    <tr>\n      <th>44</th>\n      <td>否</td>\n      <td>否</td>\n      <td>是</td>\n      <td>否</td>\n      <td>否</td>\n      <td>否</td>\n      <td>否</td>\n      <td>否</td>\n      <td>否</td>\n    </tr>\n    <tr>\n      <th>45</th>\n      <td>否</td>\n      <td>是</td>\n      <td>倾向是</td>\n      <td>是</td>\n      <td>倾向是</td>\n      <td>否</td>\n      <td>是</td>\n      <td>倾向是</td>\n      <td>否</td>\n    </tr>\n    <tr>\n      <th>46</th>\n      <td>否</td>\n      <td>倾向是</td>\n      <td>是</td>\n      <td>倾向是</td>\n      <td>否</td>\n      <td>是</td>\n      <td>倾向是</td>\n      <td>否</td>\n      <td>倾向是</td>\n    </tr>\n    <tr>\n      <th>47</th>\n      <td>否</td>\n      <td>倾向是</td>\n      <td>倾向是</td>\n      <td>倾向是</td>\n      <td>是</td>\n      <td>倾向是</td>\n      <td>倾向是</td>\n      <td>是</td>\n      <td>否</td>\n    </tr>\n    <tr>\n      <th>48</th>\n      <td>否</td>\n      <td>是</td>\n      <td>是</td>\n      <td>倾向是</td>\n      <td>是</td>\n      <td>倾向是</td>\n      <td>是</td>\n      <td>是</td>\n      <td>倾向是</td>\n    </tr>\n    <tr>\n      <th>49</th>\n      <td>否</td>\n      <td>是</td>\n      <td>是</td>\n      <td>是</td>\n      <td>倾向是</td>\n      <td>倾向是</td>\n      <td>是</td>\n      <td>是</td>\n      <td>是</td>\n    </tr>\n    <tr>\n      <th>50</th>\n      <td>否</td>\n      <td>是</td>\n      <td>是</td>\n      <td>是</td>\n      <td>倾向是</td>\n      <td>是</td>\n      <td>是</td>\n      <td>是</td>\n      <td>倾向是</td>\n    </tr>\n  </tbody>\n</table>\n</div>"
     },
     "execution_count": 8,
     "metadata": {},
     "output_type": "execute_result"
    }
   ],
   "source": [
    "for col in df2.columns:\n",
    "    df2[col] = df2[col].str.strip()\n",
    "df2"
   ]
  },
  {
   "cell_type": "markdown",
   "metadata": {
    "collapsed": false,
    "jupyter": {
     "outputs_hidden": false
    }
   },
   "source": [
    "### 绘制直方图"
   ]
  },
  {
   "cell_type": "code",
   "execution_count": 9,
   "outputs": [
    {
     "name": "stderr",
     "output_type": "stream",
     "text": [
      "D:\\software\\anaconda\\Lib\\site-packages\\IPython\\core\\pylabtools.py:152: UserWarning: Glyph 24179 (\\N{CJK UNIFIED IDEOGRAPH-5E73}) missing from current font.\n",
      "  fig.canvas.print_figure(bytes_io, **kw)\n",
      "D:\\software\\anaconda\\Lib\\site-packages\\IPython\\core\\pylabtools.py:152: UserWarning: Glyph 21644 (\\N{CJK UNIFIED IDEOGRAPH-548C}) missing from current font.\n",
      "  fig.canvas.print_figure(bytes_io, **kw)\n",
      "D:\\software\\anaconda\\Lib\\site-packages\\IPython\\core\\pylabtools.py:152: UserWarning: Glyph 36136 (\\N{CJK UNIFIED IDEOGRAPH-8D28}) missing from current font.\n",
      "  fig.canvas.print_figure(bytes_io, **kw)\n",
      "D:\\software\\anaconda\\Lib\\site-packages\\IPython\\core\\pylabtools.py:152: UserWarning: Glyph 27668 (\\N{CJK UNIFIED IDEOGRAPH-6C14}) missing from current font.\n",
      "  fig.canvas.print_figure(bytes_io, **kw)\n",
      "D:\\software\\anaconda\\Lib\\site-packages\\IPython\\core\\pylabtools.py:152: UserWarning: Glyph 34394 (\\N{CJK UNIFIED IDEOGRAPH-865A}) missing from current font.\n",
      "  fig.canvas.print_figure(bytes_io, **kw)\n",
      "D:\\software\\anaconda\\Lib\\site-packages\\IPython\\core\\pylabtools.py:152: UserWarning: Glyph 38451 (\\N{CJK UNIFIED IDEOGRAPH-9633}) missing from current font.\n",
      "  fig.canvas.print_figure(bytes_io, **kw)\n",
      "D:\\software\\anaconda\\Lib\\site-packages\\IPython\\core\\pylabtools.py:152: UserWarning: Glyph 38452 (\\N{CJK UNIFIED IDEOGRAPH-9634}) missing from current font.\n",
      "  fig.canvas.print_figure(bytes_io, **kw)\n",
      "D:\\software\\anaconda\\Lib\\site-packages\\IPython\\core\\pylabtools.py:152: UserWarning: Glyph 30192 (\\N{CJK UNIFIED IDEOGRAPH-75F0}) missing from current font.\n",
      "  fig.canvas.print_figure(bytes_io, **kw)\n",
      "D:\\software\\anaconda\\Lib\\site-packages\\IPython\\core\\pylabtools.py:152: UserWarning: Glyph 28287 (\\N{CJK UNIFIED IDEOGRAPH-6E7F}) missing from current font.\n",
      "  fig.canvas.print_figure(bytes_io, **kw)\n",
      "D:\\software\\anaconda\\Lib\\site-packages\\IPython\\core\\pylabtools.py:152: UserWarning: Glyph 28909 (\\N{CJK UNIFIED IDEOGRAPH-70ED}) missing from current font.\n",
      "  fig.canvas.print_figure(bytes_io, **kw)\n",
      "D:\\software\\anaconda\\Lib\\site-packages\\IPython\\core\\pylabtools.py:152: UserWarning: Glyph 28132 (\\N{CJK UNIFIED IDEOGRAPH-6DE4}) missing from current font.\n",
      "  fig.canvas.print_figure(bytes_io, **kw)\n",
      "D:\\software\\anaconda\\Lib\\site-packages\\IPython\\core\\pylabtools.py:152: UserWarning: Glyph 34880 (\\N{CJK UNIFIED IDEOGRAPH-8840}) missing from current font.\n",
      "  fig.canvas.print_figure(bytes_io, **kw)\n",
      "D:\\software\\anaconda\\Lib\\site-packages\\IPython\\core\\pylabtools.py:152: UserWarning: Glyph 37057 (\\N{CJK UNIFIED IDEOGRAPH-90C1}) missing from current font.\n",
      "  fig.canvas.print_figure(bytes_io, **kw)\n",
      "D:\\software\\anaconda\\Lib\\site-packages\\IPython\\core\\pylabtools.py:152: UserWarning: Glyph 29305 (\\N{CJK UNIFIED IDEOGRAPH-7279}) missing from current font.\n",
      "  fig.canvas.print_figure(bytes_io, **kw)\n",
      "D:\\software\\anaconda\\Lib\\site-packages\\IPython\\core\\pylabtools.py:152: UserWarning: Glyph 31104 (\\N{CJK UNIFIED IDEOGRAPH-7980}) missing from current font.\n",
      "  fig.canvas.print_figure(bytes_io, **kw)\n",
      "D:\\software\\anaconda\\Lib\\site-packages\\IPython\\core\\pylabtools.py:152: UserWarning: Glyph 20307 (\\N{CJK UNIFIED IDEOGRAPH-4F53}) missing from current font.\n",
      "  fig.canvas.print_figure(bytes_io, **kw)\n",
      "D:\\software\\anaconda\\Lib\\site-packages\\IPython\\core\\pylabtools.py:152: UserWarning: Glyph 31867 (\\N{CJK UNIFIED IDEOGRAPH-7C7B}) missing from current font.\n",
      "  fig.canvas.print_figure(bytes_io, **kw)\n",
      "D:\\software\\anaconda\\Lib\\site-packages\\IPython\\core\\pylabtools.py:152: UserWarning: Glyph 22411 (\\N{CJK UNIFIED IDEOGRAPH-578B}) missing from current font.\n",
      "  fig.canvas.print_figure(bytes_io, **kw)\n",
      "D:\\software\\anaconda\\Lib\\site-packages\\IPython\\core\\pylabtools.py:152: UserWarning: Glyph 20154 (\\N{CJK UNIFIED IDEOGRAPH-4EBA}) missing from current font.\n",
      "  fig.canvas.print_figure(bytes_io, **kw)\n",
      "D:\\software\\anaconda\\Lib\\site-packages\\IPython\\core\\pylabtools.py:152: UserWarning: Glyph 25968 (\\N{CJK UNIFIED IDEOGRAPH-6570}) missing from current font.\n",
      "  fig.canvas.print_figure(bytes_io, **kw)\n",
      "D:\\software\\anaconda\\Lib\\site-packages\\IPython\\core\\pylabtools.py:152: UserWarning: Glyph 26159 (\\N{CJK UNIFIED IDEOGRAPH-662F}) missing from current font.\n",
      "  fig.canvas.print_figure(bytes_io, **kw)\n",
      "D:\\software\\anaconda\\Lib\\site-packages\\IPython\\core\\pylabtools.py:152: UserWarning: Glyph 20542 (\\N{CJK UNIFIED IDEOGRAPH-503E}) missing from current font.\n",
      "  fig.canvas.print_figure(bytes_io, **kw)\n",
      "D:\\software\\anaconda\\Lib\\site-packages\\IPython\\core\\pylabtools.py:152: UserWarning: Glyph 21521 (\\N{CJK UNIFIED IDEOGRAPH-5411}) missing from current font.\n",
      "  fig.canvas.print_figure(bytes_io, **kw)\n",
      "D:\\software\\anaconda\\Lib\\site-packages\\IPython\\core\\pylabtools.py:152: UserWarning: Glyph 21542 (\\N{CJK UNIFIED IDEOGRAPH-5426}) missing from current font.\n",
      "  fig.canvas.print_figure(bytes_io, **kw)\n"
     ]
    },
    {
     "data": {
      "text/plain": "<Figure size 640x480 with 1 Axes>",
      "image/png": "[encoded data removed]"
     },
     "metadata": {},
     "output_type": "display_data"
    }
   ],
   "source": [
    "import numpy as np\n",
    "\n",
    "# 为每种分类创建一个列表来存储计数\n",
    "yes_counts = []\n",
    "tend_to_be_counts = []\n",
    "no_counts = []\n",
    "\n",
    "for col in df2.columns:\n",
    "    value_counts = df2[col].value_counts()\n",
    "    yes_counts.append(value_counts['是'])\n",
    "    tend_to_be_counts.append(value_counts['倾向是'])\n",
    "    no_counts.append(value_counts['否'])\n",
    "\n",
    "\n",
    "# 体质类型的列表\n",
    "constitution_types = [n[:3] for n in['平和质（是/否）','气虚质（是/否）','阳虚质（是/否）', '阴虚质（是/否）', '痰湿质（是/否）', '湿热质（是/否）', '淤血质（是/否）', '气郁质（是/否）', '特禀质（是/否）']]\n",
    "\n",
    "# 设置条形图的宽度\n",
    "bar_width = 0.25\n",
    "\n",
    "# 设置条形图的索引位置\n",
    "index = np.arange(len(constitution_types))\n",
    "\n",
    "# 绘制“是”的条形图\n",
    "plt.bar(index, yes_counts, bar_width, label=\"是\")\n",
    "\n",
    "# 绘制“倾向是”的条形图，注意这里的index+bar_width是为了让条形图稍微偏移，以便更清晰地显示\n",
    "plt.bar([i + bar_width for i in index], tend_to_be_counts, bar_width, label=\"倾向是\")\n",
    "\n",
    "# 绘制“否”的条形图，同样地，偏移index+2*bar_width\n",
    "plt.bar([i + 2*bar_width for i in index], no_counts, bar_width, label=\"否\")\n",
    "\n",
    "# 设置x轴的标签\n",
    "plt.xlabel('体质类型')\n",
    "# 设置y轴的标签\n",
    "plt.ylabel('人数')\n",
    "# 设置图例\n",
    "plt.legend()\n",
    "# 设置x轴的刻度标签\n",
    "plt.xticks([i + bar_width for i in index], constitution_types)\n",
    "# 显示图形\n",
    "plt.show()"
   ],
   "metadata": {
    "collapsed": false,
    "ExecuteTime": {
     "start_time": "2024-06-02T12:24:42.572650Z",
     "end_time": "2024-06-02T12:24:42.764613Z"
    }
   }
  },
  {
   "cell_type": "markdown",
   "metadata": {
    "collapsed": false,
    "jupyter": {
     "outputs_hidden": false
    }
   },
   "source": [
    "### （4）全班不同性别同学9种体质类型（是、倾向是、否）的频数分布；"
   ]
  },
  {
   "cell_type": "code",
   "execution_count": 10,
   "metadata": {
    "ExecuteTime": {
     "start_time": "2024-06-02T12:24:42.690716Z",
     "end_time": "2024-06-02T12:24:42.796328Z"
    },
    "collapsed": false,
    "jupyter": {
     "outputs_hidden": false
    }
   },
   "outputs": [
    {
     "name": "stdout",
     "output_type": "stream",
     "text": [
      "性别  平和质（是/否）\n",
      "1   否           15\n",
      "    是            9\n",
      "    倾向是          3\n",
      "2   否           20\n",
      "    倾向是          4\n",
      "Name: count, dtype: int64\n",
      "性别  气虚质（是/否）\n",
      "1   否           16\n",
      "    是            9\n",
      "    倾向是          2\n",
      "2   是           11\n",
      "    倾向是          8\n",
      "    否            5\n",
      "Name: count, dtype: int64\n",
      "性别  阳虚质（是/否）\n",
      "1   否           19\n",
      "    是            5\n",
      "    倾向是          3\n",
      "2   是           13\n",
      "    否            6\n",
      "    倾向是          5\n",
      "Name: count, dtype: int64\n",
      "性别  阴虚质（是/否）\n",
      "1   否           15\n",
      "    倾向是          6\n",
      "    是            6\n",
      "2   是           11\n",
      "    倾向是          8\n",
      "    否            5\n",
      "Name: count, dtype: int64\n",
      "性别  痰湿质（是/否）\n",
      "1   否           18\n",
      "    是            6\n",
      "    倾向是          3\n",
      "2   否           14\n",
      "    倾向是          7\n",
      "    是            3\n",
      "Name: count, dtype: int64\n",
      "性别  湿热质（是/否）\n",
      "1   否           18\n",
      "    倾向是          5\n",
      "    是            4\n",
      "2   倾向是         12\n",
      "    否            8\n",
      "    是            4\n",
      "Name: count, dtype: int64\n",
      "性别  淤血质（是/否）\n",
      "1   否           17\n",
      "    倾向是          5\n",
      "    是            5\n",
      "2   是           13\n",
      "    倾向是          9\n",
      "    否            2\n",
      "Name: count, dtype: int64\n",
      "性别  气郁质（是/否）\n",
      "1   否           17\n",
      "    是            6\n",
      "    倾向是          4\n",
      "2   是           10\n",
      "    倾向是          7\n",
      "    否            7\n",
      "Name: count, dtype: int64\n",
      "性别  特禀质（是/否）\n",
      "1   否           21\n",
      "    倾向是          3\n",
      "    是            3\n",
      "2   否           12\n",
      "    倾向是          9\n",
      "    是            3\n",
      "Name: count, dtype: int64\n",
      "性别  性别\n",
      "1   1     27\n",
      "2   2     24\n",
      "Name: count, dtype: int64\n"
     ]
    }
   ],
   "source": [
    "# df2表添加一列性别信息，用于分组统计\n",
    "df2['性别'] = df['4、性别']\n",
    "\n",
    "# 分组统计\n",
    "for col in df2.columns:\n",
    "    group = df2[col].groupby(df2['性别'])\n",
    "    print(group.value_counts())"
   ]
  },
  {
   "cell_type": "markdown",
   "metadata": {
    "collapsed": false,
    "jupyter": {
     "outputs_hidden": false
    }
   },
   "source": [
    "### （5）统计所有体质类型判定为“是”的情况，每位同学有可能有多个体质类型判定为“是”，需要增加一列“兼杂体质数”，统计全班兼杂体质的频数分布。\n",
    "#### 首先统计所有体质判定为”是“的计数，并新增“兼杂体质数”列，统计分布\n"
   ]
  },
  {
   "cell_type": "code",
   "execution_count": 11,
   "metadata": {
    "ExecuteTime": {
     "start_time": "2024-06-02T12:24:42.708065Z",
     "end_time": "2024-06-02T12:24:42.843199Z"
    },
    "collapsed": false,
    "jupyter": {
     "outputs_hidden": false
    }
   },
   "outputs": [
    {
     "name": "stdout",
     "output_type": "stream",
     "text": [
      "所有体质中判定为“是”的个数：121\n"
     ]
    }
   ],
   "source": [
    "count = 0\n",
    "# 遍历值，判断是否为“是”\n",
    "for col in df2.columns:\n",
    "    num = (df2[col] == '是').sum()\n",
    "    count += num\n",
    "print(f'所有体质中判定为“是”的个数：{count}')"
   ]
  },
  {
   "cell_type": "markdown",
   "metadata": {
    "collapsed": false,
    "jupyter": {
     "outputs_hidden": false
    }
   },
   "source": [
    "### 添加一列“兼杂体质数”"
   ]
  },
  {
   "cell_type": "code",
   "execution_count": 12,
   "metadata": {
    "ExecuteTime": {
     "start_time": "2024-06-02T12:24:42.713868Z",
     "end_time": "2024-06-02T12:24:42.843199Z"
    },
    "collapsed": false,
    "jupyter": {
     "outputs_hidden": false
    }
   },
   "outputs": [
    {
     "name": "stdout",
     "output_type": "stream",
     "text": [
      "兼杂体质数为:25\n",
      "参与统计的同学中，兼杂体质的同学占比：0.49019607843137253\n"
     ]
    }
   ],
   "source": [
    "# 使用apply()函数和lambda表达式计算每行中值为“是”的个数\n",
    "df2['兼杂体质数'] = df.apply(lambda row: row.eq('是').sum(), axis=1)\n",
    "count_j = (df2['兼杂体质数'] > 1).sum()\n",
    "print(f'兼杂体质数为:{count_j}')\n",
    "print(f'参与统计的同学中，兼杂体质的同学占比：{count_j/len(df2)}')"
   ]
  },
  {
   "cell_type": "code",
   "execution_count": 13,
   "metadata": {
    "ExecuteTime": {
     "start_time": "2024-06-02T12:24:42.721615Z",
     "end_time": "2024-06-02T12:24:42.843199Z"
    },
    "collapsed": false,
    "jupyter": {
     "outputs_hidden": false
    }
   },
   "outputs": [],
   "source": [
    "plt.rcParams['font.sans-serif'] = ['SimHei']    # 设置可显示中文，不出现乱码,字体为黑体\n",
    "plt.rcParams['axes.unicode_minus'] = False  # 设置可显示负号"
   ]
  },
  {
   "cell_type": "markdown",
   "metadata": {
    "collapsed": false,
    "jupyter": {
     "outputs_hidden": false
    }
   },
   "source": [
    "### 绘制关于我班“兼杂体质数”的饼图"
   ]
  },
  {
   "cell_type": "code",
   "execution_count": 14,
   "metadata": {
    "ExecuteTime": {
     "start_time": "2024-06-02T12:24:42.724857Z",
     "end_time": "2024-06-02T12:24:42.968185Z"
    },
    "collapsed": false,
    "jupyter": {
     "outputs_hidden": false
    }
   },
   "outputs": [
    {
     "data": {
      "text/plain": "<Figure size 640x480 with 1 Axes>",
      "image/png": "[encoded data removed]"
     },
     "metadata": {},
     "output_type": "display_data"
    }
   ],
   "source": [
    "# 定义数据和标签\n",
    "labels = ['兼杂体质', '非兼杂体质']\n",
    "is_jz = count_j/len(df2)\n",
    "sizes = [is_jz, 1-is_jz] # 这些数字代表每个部分在整体中的比例或数量\n",
    "\n",
    "# 创建饼图\n",
    "fig1, ax1 = plt.subplots()\n",
    "ax1.pie(sizes, labels=labels, autopct='%1.1f%%', startangle=90)\n",
    "\n",
    "ax1.axis('equal')\n",
    "\n",
    "plt.show()"
   ]
  },
  {
   "cell_type": "markdown",
   "metadata": {
    "collapsed": false,
    "jupyter": {
     "outputs_hidden": false
    }
   },
   "source": [
    "### 对比上次的统计数据来看，本学期数据质量较高，能更好的反应同学的体质状况，数据可信度高，有约一半的同学为兼杂体制，符合客观认知。\n",
    "### 下面进行T检验或非参数检验进行\n",
    "### 原假设：男女不同性别各体质积分之间无差异"
   ]
  },
  {
   "cell_type": "code",
   "execution_count": 15,
   "outputs": [
    {
     "name": "stdout",
     "output_type": "stream",
     "text": [
      "本次采用T检验,体质 平和质转化分 的p-value: 0.026630300362636247\n",
      "本次采用T检验,体质 气虚质转化分 的p-value: 0.008096874724466668\n",
      "本次采用T检验,体质 阳虚质转化分 的p-value: 0.00019312115193565374\n",
      "本次采用T检验,体质 阴虚质转化分 的p-value: 0.004003273778126042\n",
      "本次采用T检验,体质 痰湿质转化分 的p-value: 0.3139754606958909\n",
      "本次采用T检验,体质 湿热质转化分 的p-value: 0.03194872164790534\n",
      "本次采用T检验,体质 瘀血质转化分 的p-value: 8.534998135802277e-05\n",
      "本次采用T检验,体质 气郁质转化分 的p-value: 0.006367987560610045\n",
      "本次采用T检验,体质 特禀质转化分 的p-value: 0.10414206480925974\n"
     ]
    }
   ],
   "source": [
    "import scipy.stats as stats\n",
    "\n",
    "# 截取包含9种体质得分的数据及对应性别信息\n",
    "df3 = df[['4、性别', '平和质转化分', '气虚质转化分', '阳虚质转化分', '阴虚质转化分', '痰湿质转化分', '湿热质转化分', '瘀血质转化分', '气郁质转化分', '特禀质转化分']]\n",
    "\n",
    "\n",
    "alpha = 0.05  # 设定显著性水平\n",
    "\n",
    "# 对每一种体质进行假设检验\n",
    "for col in df3.columns[1:]:\n",
    "    # 将数据分为两组\n",
    "    group1 = df[df['4、性别'] == 1][col]\n",
    "    group2 = df[df['4、性别'] == 2][col]\n",
    "    if len(group1) < 8 or len(group2) < 8:\n",
    "        print(len(group1))\n",
    "        print(len(group2))\n",
    "        print('样本量不足')\n",
    "        continue\n",
    "    # 检查每组是否服从正态分布\n",
    "    k1, p1 = stats.normaltest(group1)\n",
    "    k2, p2 = stats.normaltest(group2)\n",
    "\n",
    "    if p1 > alpha and p2 > alpha:\n",
    "        # 如果两组都服从正态分布，使用T检验\n",
    "        print('本次采用T检验,', end='')\n",
    "        t, p = stats.ttest_ind(group1, group2, equal_var=False)  # 使用Welch's T检验，不假设方差齐性\n",
    "    else:\n",
    "        # 如果有任意一组不服从正态分布，使用Mann-Whitney U检验\n",
    "        print('采用Mann-Whitney U检验')\n",
    "        u, p = stats.mannwhitneyu(group1, group2)\n",
    "\n",
    "    print('体质 ' + col + ' 的p-value:', p)# p值若小于0.05，拒绝原假设\n"
   ],
   "metadata": {
    "collapsed": false,
    "ExecuteTime": {
     "start_time": "2024-06-02T12:24:42.771196Z",
     "end_time": "2024-06-02T12:24:55.230159Z"
    }
   }
  },
  {
   "cell_type": "markdown",
   "source": [
    "### 显然，除痰湿质、特禀质外，所有体质的p值都小于0.05，因此，拒绝原假设，认为男女不同性别各体质积分之间有显著差异，男女的分差异显著。\n",
    "### 痰湿质、特禀质对应的p值分别为0.31和0.10，均大于0.05，可以认为男女不同性别各体质积分之间无显著差异。\n",
    "### 综上，由于9种体质中只有两种的男女体质积分平均值无显著差异，而有7组都有显著差异，因此可以认为，在少量样本中，即在21信管班级中，男女之间的体质存在较大的差异。当然，p值只是一个统计工具，它并不能完全确定男女体质是否真的存在差异，也不能确定这种差异的实际意义或重要性，更不能由小样本去得出男女总体间的体质差异。\n"
   ],
   "metadata": {
    "collapsed": false
   }
  },
  {
   "cell_type": "code",
   "execution_count": 16,
   "outputs": [
    {
     "name": "stderr",
     "output_type": "stream",
     "text": [
      "C:\\Users\\32858\\AppData\\Local\\Temp\\ipykernel_15552\\607513047.py:4: SettingWithCopyWarning: \n",
      "A value is trying to be set on a copy of a slice from a DataFrame.\n",
      "Try using .loc[row_indexer,col_indexer] = value instead\n",
      "\n",
      "See the caveats in the documentation: https://pandas.pydata.org/pandas-docs/stable/user_guide/indexing.html#returning-a-view-versus-a-copy\n",
      "  df4['性别'] = df['4、性别']\n"
     ]
    }
   ],
   "source": [
    "# 提取相关的体质信息df4\n",
    "df4 = df[['平和质（是/否）','气虚质（是/否）','阳虚质（是/否）', '阴虚质（是/否）', '痰湿质（是/否）', '湿热质（是/否）', '淤血质（是/否）', '气郁质（是/否）', '特禀质（是/否）']]\n",
    "# df2表添加一列性别信息，用于分组统计\n",
    "df4['性别'] = df['4、性别']\n",
    "\n"
   ],
   "metadata": {
    "collapsed": false,
    "ExecuteTime": {
     "start_time": "2024-06-02T12:24:55.230159Z",
     "end_time": "2024-06-02T12:24:55.234451Z"
    }
   }
  },
  {
   "cell_type": "code",
   "execution_count": 17,
   "outputs": [
    {
     "name": "stdout",
     "output_type": "stream",
     "text": [
      "男生中“是”的相对数：0.21810699588477367\n",
      "男生中“倾向是”的相对数：0.13991769547325103\n",
      "男生中“否”的相对数：0.6419753086419753\n",
      "\n",
      "女生中“是”的相对数：0.3148148148148148\n",
      "女生中“倾向是”的相对数：0.3194444444444444\n",
      "女生中“否”的相对数：0.36574074074074076\n"
     ]
    }
   ],
   "source": [
    "# 分组统计\n",
    "male_yes_counts = 0\n",
    "male_tend_to_be_counts = 0\n",
    "male_no_counts = 0\n",
    "\n",
    "female_yes_counts = 0\n",
    "female_tend_to_be_counts = 0\n",
    "female_no_counts = 0\n",
    "\n",
    "for col in df4.columns:\n",
    "    group = df2[col].groupby(df4['性别'])\n",
    "    value_counts = group.value_counts()\n",
    "    # 统计男生中各种类次数\n",
    "    try:\n",
    "        male_yes_counts += value_counts[1]['是']\n",
    "    except:\n",
    "        male_yes_counts += 0\n",
    "    try:\n",
    "        male_tend_to_be_counts += value_counts[1]['倾向是']\n",
    "    except:\n",
    "        male_tend_to_be_counts += 0\n",
    "    try:\n",
    "        male_no_counts += value_counts[1]['否']\n",
    "    except:\n",
    "        male_no_counts += 0\n",
    "\n",
    "    # 统计女生中各种类次数\n",
    "    try:\n",
    "        female_yes_counts += value_counts[2]['是']\n",
    "    except:\n",
    "        female_yes_counts += 0\n",
    "    try:\n",
    "        female_tend_to_be_counts += value_counts[2]['倾向是']\n",
    "    except:\n",
    "        female_tend_to_be_counts += 0\n",
    "    try:\n",
    "        female_no_counts += value_counts[2]['否']\n",
    "    except:\n",
    "        female_no_counts += 0\n",
    "\n",
    "# 计算、输出相对数\n",
    "male_sum = male_no_counts + male_tend_to_be_counts + male_yes_counts\n",
    "female_sum = female_no_counts + female_tend_to_be_counts + female_yes_counts\n",
    "\n",
    "print(f'男生中“是”的相对数：{male_yes_counts/male_sum}')\n",
    "print(f'男生中“倾向是”的相对数：{male_tend_to_be_counts/male_sum}')\n",
    "print(f'男生中“否”的相对数：{male_no_counts/male_sum}')\n",
    "print('')\n",
    "print(f'女生中“是”的相对数：{female_yes_counts/female_sum}')\n",
    "print(f'女生中“倾向是”的相对数：{female_tend_to_be_counts/female_sum}')\n",
    "print(f'女生中“否”的相对数：{female_no_counts/female_sum}')"
   ],
   "metadata": {
    "collapsed": false,
    "ExecuteTime": {
     "start_time": "2024-06-02T12:24:55.234451Z",
     "end_time": "2024-06-02T12:24:55.286855Z"
    }
   }
  },
  {
   "cell_type": "markdown",
   "source": [
    "### 由上述相对数统计结果可见，男生中，“否”的占比约为0.64，远超其他两项的占比，由此推测，此问卷对应的体质检测，在此问卷调查结果及其对应体质判断准则下，在21信管班男生群体中，逻辑是/否之间分界较为明显，可推断出，在此论文判断体系下，男生的体质倾向更明显。\n",
    "### 而女生中，三种判断结果占比基本相同，可基本推测出，在此问卷调查结果及其对应体质判断准则下，在21信管班女生群体中，边界相对模糊不清，即一人倾向于多种体质。"
   ],
   "metadata": {
    "collapsed": false
   }
  },
  {
   "cell_type": "code",
   "execution_count": 18,
   "outputs": [
    {
     "name": "stderr",
     "output_type": "stream",
     "text": [
      "C:\\Users\\32858\\AppData\\Local\\Temp\\ipykernel_15552\\3247905855.py:2: SettingWithCopyWarning: \n",
      "A value is trying to be set on a copy of a slice from a DataFrame.\n",
      "Try using .loc[row_indexer,col_indexer] = value instead\n",
      "\n",
      "See the caveats in the documentation: https://pandas.pydata.org/pandas-docs/stable/user_guide/indexing.html#returning-a-view-versus-a-copy\n",
      "  df4[f'{col}_num'] = df4[col].map({'是': 2, '倾向是': 1, '否': 0})\n",
      "C:\\Users\\32858\\AppData\\Local\\Temp\\ipykernel_15552\\3247905855.py:2: SettingWithCopyWarning: \n",
      "A value is trying to be set on a copy of a slice from a DataFrame.\n",
      "Try using .loc[row_indexer,col_indexer] = value instead\n",
      "\n",
      "See the caveats in the documentation: https://pandas.pydata.org/pandas-docs/stable/user_guide/indexing.html#returning-a-view-versus-a-copy\n",
      "  df4[f'{col}_num'] = df4[col].map({'是': 2, '倾向是': 1, '否': 0})\n",
      "C:\\Users\\32858\\AppData\\Local\\Temp\\ipykernel_15552\\3247905855.py:2: SettingWithCopyWarning: \n",
      "A value is trying to be set on a copy of a slice from a DataFrame.\n",
      "Try using .loc[row_indexer,col_indexer] = value instead\n",
      "\n",
      "See the caveats in the documentation: https://pandas.pydata.org/pandas-docs/stable/user_guide/indexing.html#returning-a-view-versus-a-copy\n",
      "  df4[f'{col}_num'] = df4[col].map({'是': 2, '倾向是': 1, '否': 0})\n",
      "C:\\Users\\32858\\AppData\\Local\\Temp\\ipykernel_15552\\3247905855.py:2: SettingWithCopyWarning: \n",
      "A value is trying to be set on a copy of a slice from a DataFrame.\n",
      "Try using .loc[row_indexer,col_indexer] = value instead\n",
      "\n",
      "See the caveats in the documentation: https://pandas.pydata.org/pandas-docs/stable/user_guide/indexing.html#returning-a-view-versus-a-copy\n",
      "  df4[f'{col}_num'] = df4[col].map({'是': 2, '倾向是': 1, '否': 0})\n",
      "C:\\Users\\32858\\AppData\\Local\\Temp\\ipykernel_15552\\3247905855.py:2: SettingWithCopyWarning: \n",
      "A value is trying to be set on a copy of a slice from a DataFrame.\n",
      "Try using .loc[row_indexer,col_indexer] = value instead\n",
      "\n",
      "See the caveats in the documentation: https://pandas.pydata.org/pandas-docs/stable/user_guide/indexing.html#returning-a-view-versus-a-copy\n",
      "  df4[f'{col}_num'] = df4[col].map({'是': 2, '倾向是': 1, '否': 0})\n",
      "C:\\Users\\32858\\AppData\\Local\\Temp\\ipykernel_15552\\3247905855.py:2: SettingWithCopyWarning: \n",
      "A value is trying to be set on a copy of a slice from a DataFrame.\n",
      "Try using .loc[row_indexer,col_indexer] = value instead\n",
      "\n",
      "See the caveats in the documentation: https://pandas.pydata.org/pandas-docs/stable/user_guide/indexing.html#returning-a-view-versus-a-copy\n",
      "  df4[f'{col}_num'] = df4[col].map({'是': 2, '倾向是': 1, '否': 0})\n",
      "C:\\Users\\32858\\AppData\\Local\\Temp\\ipykernel_15552\\3247905855.py:2: SettingWithCopyWarning: \n",
      "A value is trying to be set on a copy of a slice from a DataFrame.\n",
      "Try using .loc[row_indexer,col_indexer] = value instead\n",
      "\n",
      "See the caveats in the documentation: https://pandas.pydata.org/pandas-docs/stable/user_guide/indexing.html#returning-a-view-versus-a-copy\n",
      "  df4[f'{col}_num'] = df4[col].map({'是': 2, '倾向是': 1, '否': 0})\n",
      "C:\\Users\\32858\\AppData\\Local\\Temp\\ipykernel_15552\\3247905855.py:2: SettingWithCopyWarning: \n",
      "A value is trying to be set on a copy of a slice from a DataFrame.\n",
      "Try using .loc[row_indexer,col_indexer] = value instead\n",
      "\n",
      "See the caveats in the documentation: https://pandas.pydata.org/pandas-docs/stable/user_guide/indexing.html#returning-a-view-versus-a-copy\n",
      "  df4[f'{col}_num'] = df4[col].map({'是': 2, '倾向是': 1, '否': 0})\n",
      "C:\\Users\\32858\\AppData\\Local\\Temp\\ipykernel_15552\\3247905855.py:2: SettingWithCopyWarning: \n",
      "A value is trying to be set on a copy of a slice from a DataFrame.\n",
      "Try using .loc[row_indexer,col_indexer] = value instead\n",
      "\n",
      "See the caveats in the documentation: https://pandas.pydata.org/pandas-docs/stable/user_guide/indexing.html#returning-a-view-versus-a-copy\n",
      "  df4[f'{col}_num'] = df4[col].map({'是': 2, '倾向是': 1, '否': 0})\n"
     ]
    },
    {
     "data": {
      "text/plain": "   平和质（是/否） 气虚质（是/否） 阳虚质（是/否） 阴虚质（是/否） 痰湿质（是/否） 湿热质（是/否） 淤血质（是/否） 气郁质（是/否）  \\\n0         否        是      倾向是      倾向是      倾向是      倾向是        否      倾向是   \n1         否      倾向是      倾向是        是        否        否        否        否   \n2         否        是        否      倾向是        否        否      倾向是        是   \n3         是        否        否        否        否        否        否        否   \n4         否        是        是        是        是      倾向是        是        是   \n5         否        是        否        否        否        否        否        否   \n6         是        否        否        否        否        否        否        否   \n7         否        否        是        否        否        是        是        否   \n8         是        否        否        否        否        否        否        否   \n9         否      倾向是        否      倾向是        否      倾向是      倾向是        否   \n10      倾向是        否        否        否        否        否        否      倾向是   \n11        是        否        否        否        否        否        否        否   \n12        否        否        否        否        否        否        否        否   \n13      倾向是        否        否      倾向是        否        否        否        否   \n14        是        否        否        否        否        否        否        否   \n15        否        是        否        否      倾向是        否        否        否   \n16        否        否        否      倾向是      倾向是      倾向是        是        否   \n17        是        否        否        否        否        否        否        否   \n18        否        是        是        是        是        是        是        是   \n19        否        是        是        是        是        否      倾向是        是   \n20        是        否        否        否        否        否        否        否   \n21        否        否        否        是        是      倾向是      倾向是        是   \n22        是        否        否        否        否        否        否        否   \n23        否        是      倾向是      倾向是        是        是        否        是   \n24      倾向是        否        否        否        否        否      倾向是      倾向是   \n25        是        否        否        否        否        否        否        否   \n26        否        是        是        是        是        是        是      倾向是   \n27        否        是        是        是        否      倾向是        是        是   \n28        否        是        是        是      倾向是      倾向是        是        是   \n29        否      倾向是        否        否        是        是      倾向是        是   \n30      倾向是      倾向是      倾向是        否        否      倾向是      倾向是        否   \n31        否        是        是        是      倾向是      倾向是        是      倾向是   \n32        否      倾向是        是      倾向是        否      倾向是        是        是   \n33      倾向是        否        否        否        否        否      倾向是        否   \n34        否        否        否        是        否      倾向是      倾向是      倾向是   \n35        否      倾向是      倾向是        是        否        否        是      倾向是   \n36        否        是        是      倾向是        否      倾向是        是      倾向是   \n37        否        是        否        是        否        否        是        是   \n38        否      倾向是        是      倾向是        否        否      倾向是        否   \n39        否        是        否        是        否        否        是        是   \n40        否      倾向是        是        是      倾向是        是        是      倾向是   \n41      倾向是        否      倾向是        否        否      倾向是      倾向是        否   \n42        否        是        是      倾向是      倾向是        否      倾向是      倾向是   \n43      倾向是        否        否      倾向是        否      倾向是        否        否   \n44        否        否        是        否        否        否        否        否   \n45        否        是      倾向是        是      倾向是        否        是      倾向是   \n46        否      倾向是        是      倾向是        否        是      倾向是        否   \n47        否      倾向是      倾向是      倾向是        是      倾向是      倾向是        是   \n48        否        是        是      倾向是        是      倾向是        是        是   \n49        否        是        是        是      倾向是      倾向是        是        是   \n50        否        是        是        是      倾向是        是        是        是   \n\n   特禀质（是/否）  性别  平和质（是/否）_num  气虚质（是/否）_num  阳虚质（是/否）_num  阴虚质（是/否）_num  \\\n0         否   1             0             2             1             1   \n1         否   1             0             1             1             2   \n2         否   1             0             2             0             1   \n3         否   1             2             0             0             0   \n4         否   1             0             2             2             2   \n5         否   1             0             2             0             0   \n6         否   1             2             0             0             0   \n7         否   1             0             0             2             0   \n8         否   1             2             0             0             0   \n9         是   1             0             1             0             1   \n10        否   1             1             0             0             0   \n11        否   1             2             0             0             0   \n12        否   1             0             0             0             0   \n13        否   1             1             0             0             1   \n14        否   1             2             0             0             0   \n15        否   1             0             2             0             0   \n16      倾向是   1             0             0             0             1   \n17        否   1             2             0             0             0   \n18        是   1             0             2             2             2   \n19        否   1             0             2             2             2   \n20        否   1             2             0             0             0   \n21        否   1             0             0             0             2   \n22        否   1             2             0             0             0   \n23        是   1             0             2             1             1   \n24      倾向是   1             1             0             0             0   \n25        否   1             2             0             0             0   \n26      倾向是   1             0             2             2             2   \n27        否   2             0             2             2             2   \n28        是   2             0             2             2             2   \n29      倾向是   2             0             1             0             0   \n30        否   2             1             1             1             0   \n31        否   2             0             2             2             2   \n32      倾向是   2             0             1             2             1   \n33      倾向是   2             1             0             0             0   \n34      倾向是   2             0             0             0             2   \n35        否   2             0             1             1             2   \n36        是   2             0             2             2             1   \n37      倾向是   2             0             2             0             2   \n38        否   2             0             1             2             1   \n39      倾向是   2             0             2             0             2   \n40        否   2             0             1             2             2   \n41        否   2             1             0             1             0   \n42        否   2             0             2             2             1   \n43        否   2             1             0             0             1   \n44        否   2             0             0             2             0   \n45        否   2             0             2             1             2   \n46      倾向是   2             0             1             2             1   \n47        否   2             0             1             1             1   \n48      倾向是   2             0             2             2             1   \n49        是   2             0             2             2             2   \n50      倾向是   2             0             2             2             2   \n\n    痰湿质（是/否）_num  湿热质（是/否）_num  淤血质（是/否）_num  气郁质（是/否）_num  特禀质（是/否）_num  \n0              1             1             0             1             0  \n1              0             0             0             0             0  \n2              0             0             1             2             0  \n3              0             0             0             0             0  \n4              2             1             2             2             0  \n5              0             0             0             0             0  \n6              0             0             0             0             0  \n7              0             2             2             0             0  \n8              0             0             0             0             0  \n9              0             1             1             0             2  \n10             0             0             0             1             0  \n11             0             0             0             0             0  \n12             0             0             0             0             0  \n13             0             0             0             0             0  \n14             0             0             0             0             0  \n15             1             0             0             0             0  \n16             1             1             2             0             1  \n17             0             0             0             0             0  \n18             2             2             2             2             2  \n19             2             0             1             2             0  \n20             0             0             0             0             0  \n21             2             1             1             2             0  \n22             0             0             0             0             0  \n23             2             2             0             2             2  \n24             0             0             1             1             1  \n25             0             0             0             0             0  \n26             2             2             2             1             1  \n27             0             1             2             2             0  \n28             1             1             2             2             2  \n29             2             2             1             2             1  \n30             0             1             1             0             0  \n31             1             1             2             1             0  \n32             0             1             2             2             1  \n33             0             0             1             0             1  \n34             0             1             1             1             1  \n35             0             0             2             1             0  \n36             0             1             2             1             2  \n37             0             0             2             2             1  \n38             0             0             1             0             0  \n39             0             0             2             2             1  \n40             1             2             2             1             0  \n41             0             1             1             0             0  \n42             1             0             1             1             0  \n43             0             1             0             0             0  \n44             0             0             0             0             0  \n45             1             0             2             1             0  \n46             0             2             1             0             1  \n47             2             1             1             2             0  \n48             2             1             2             2             1  \n49             1             1             2             2             2  \n50             1             2             2             2             1  ",
      "text/html": "<div>\n<style scoped>\n    .dataframe tbody tr th:only-of-type {\n        vertical-align: middle;\n    }\n\n    .dataframe tbody tr th {\n        vertical-align: top;\n    }\n\n    .dataframe thead th {\n        text-align: right;\n    }\n</style>\n<table border=\"1\" class=\"dataframe\">\n  <thead>\n    <tr style=\"text-align: right;\">\n      <th></th>\n      <th>平和质（是/否）</th>\n      <th>气虚质（是/否）</th>\n      <th>阳虚质（是/否）</th>\n      <th>阴虚质（是/否）</th>\n      <th>痰湿质（是/否）</th>\n      <th>湿热质（是/否）</th>\n      <th>淤血质（是/否）</th>\n      <th>气郁质（是/否）</th>\n      <th>特禀质（是/否）</th>\n      <th>性别</th>\n      <th>平和质（是/否）_num</th>\n      <th>气虚质（是/否）_num</th>\n      <th>阳虚质（是/否）_num</th>\n      <th>阴虚质（是/否）_num</th>\n      <th>痰湿质（是/否）_num</th>\n      <th>湿热质（是/否）_num</th>\n      <th>淤血质（是/否）_num</th>\n      <th>气郁质（是/否）_num</th>\n      <th>特禀质（是/否）_num</th>\n    </tr>\n  </thead>\n  <tbody>\n    <tr>\n      <th>0</th>\n      <td>否</td>\n      <td>是</td>\n      <td>倾向是</td>\n      <td>倾向是</td>\n      <td>倾向是</td>\n      <td>倾向是</td>\n      <td>否</td>\n      <td>倾向是</td>\n      <td>否</td>\n      <td>1</td>\n      <td>0</td>\n      <td>2</td>\n      <td>1</td>\n      <td>1</td>\n      <td>1</td>\n      <td>1</td>\n      <td>0</td>\n      <td>1</td>\n      <td>0</td>\n    </tr>\n    <tr>\n      <th>1</th>\n      <td>否</td>\n      <td>倾向是</td>\n      <td>倾向是</td>\n      <td>是</td>\n      <td>否</td>\n      <td>否</td>\n      <td>否</td>\n      <td>否</td>\n      <td>否</td>\n      <td>1</td>\n      <td>0</td>\n      <td>1</td>\n      <td>1</td>\n      <td>2</td>\n      <td>0</td>\n      <td>0</td>\n      <td>0</td>\n      <td>0</td>\n      <td>0</td>\n    </tr>\n    <tr>\n      <th>2</th>\n      <td>否</td>\n      <td>是</td>\n      <td>否</td>\n      <td>倾向是</td>\n      <td>否</td>\n      <td>否</td>\n      <td>倾向是</td>\n      <td>是</td>\n      <td>否</td>\n      <td>1</td>\n      <td>0</td>\n      <td>2</td>\n      <td>0</td>\n      <td>1</td>\n      <td>0</td>\n      <td>0</td>\n      <td>1</td>\n      <td>2</td>\n      <td>0</td>\n    </tr>\n    <tr>\n      <th>3</th>\n      <td>是</td>\n      <td>否</td>\n      <td>否</td>\n      <td>否</td>\n      <td>否</td>\n      <td>否</td>\n      <td>否</td>\n      <td>否</td>\n      <td>否</td>\n      <td>1</td>\n      <td>2</td>\n      <td>0</td>\n      <td>0</td>\n      <td>0</td>\n      <td>0</td>\n      <td>0</td>\n      <td>0</td>\n      <td>0</td>\n      <td>0</td>\n    </tr>\n    <tr>\n      <th>4</th>\n      <td>否</td>\n      <td>是</td>\n      <td>是</td>\n      <td>是</td>\n      <td>是</td>\n      <td>倾向是</td>\n      <td>是</td>\n      <td>是</td>\n      <td>否</td>\n      <td>1</td>\n      <td>0</td>\n      <td>2</td>\n      <td>2</td>\n      <td>2</td>\n      <td>2</td>\n      <td>1</td>\n      <td>2</td>\n      <td>2</td>\n      <td>0</td>\n    </tr>\n    <tr>\n      <th>5</th>\n      <td>否</td>\n      <td>是</td>\n      <td>否</td>\n      <td>否</td>\n      <td>否</td>\n      <td>否</td>\n      <td>否</td>\n      <td>否</td>\n      <td>否</td>\n      <td>1</td>\n      <td>0</td>\n      <td>2</td>\n      <td>0</td>\n      <td>0</td>\n      <td>0</td>\n      <td>0</td>\n      <td>0</td>\n      <td>0</td>\n      <td>0</td>\n    </tr>\n    <tr>\n      <th>6</th>\n      <td>是</td>\n      <td>否</td>\n      <td>否</td>\n      <td>否</td>\n      <td>否</td>\n      <td>否</td>\n      <td>否</td>\n      <td>否</td>\n      <td>否</td>\n      <td>1</td>\n      <td>2</td>\n      <td>0</td>\n      <td>0</td>\n      <td>0</td>\n      <td>0</td>\n      <td>0</td>\n      <td>0</td>\n      <td>0</td>\n      <td>0</td>\n    </tr>\n    <tr>\n      <th>7</th>\n      <td>否</td>\n      <td>否</td>\n      <td>是</td>\n      <td>否</td>\n      <td>否</td>\n      <td>是</td>\n      <td>是</td>\n      <td>否</td>\n      <td>否</td>\n      <td>1</td>\n      <td>0</td>\n      <td>0</td>\n      <td>2</td>\n      <td>0</td>\n      <td>0</td>\n      <td>2</td>\n      <td>2</td>\n      <td>0</td>\n      <td>0</td>\n    </tr>\n    <tr>\n      <th>8</th>\n      <td>是</td>\n      <td>否</td>\n      <td>否</td>\n      <td>否</td>\n      <td>否</td>\n      <td>否</td>\n      <td>否</td>\n      <td>否</td>\n      <td>否</td>\n      <td>1</td>\n      <td>2</td>\n      <td>0</td>\n      <td>0</td>\n      <td>0</td>\n      <td>0</td>\n      <td>0</td>\n      <td>0</td>\n      <td>0</td>\n      <td>0</td>\n    </tr>\n    <tr>\n      <th>9</th>\n      <td>否</td>\n      <td>倾向是</td>\n      <td>否</td>\n      <td>倾向是</td>\n      <td>否</td>\n      <td>倾向是</td>\n      <td>倾向是</td>\n      <td>否</td>\n      <td>是</td>\n      <td>1</td>\n      <td>0</td>\n      <td>1</td>\n      <td>0</td>\n      <td>1</td>\n      <td>0</td>\n      <td>1</td>\n      <td>1</td>\n      <td>0</td>\n      <td>2</td>\n    </tr>\n    <tr>\n      <th>10</th>\n      <td>倾向是</td>\n      <td>否</td>\n      <td>否</td>\n      <td>否</td>\n      <td>否</td>\n      <td>否</td>\n      <td>否</td>\n      <td>倾向是</td>\n      <td>否</td>\n      <td>1</td>\n      <td>1</td>\n      <td>0</td>\n      <td>0</td>\n      <td>0</td>\n      <td>0</td>\n      <td>0</td>\n      <td>0</td>\n      <td>1</td>\n      <td>0</td>\n    </tr>\n    <tr>\n      <th>11</th>\n      <td>是</td>\n      <td>否</td>\n      <td>否</td>\n      <td>否</td>\n      <td>否</td>\n      <td>否</td>\n      <td>否</td>\n      <td>否</td>\n      <td>否</td>\n      <td>1</td>\n      <td>2</td>\n      <td>0</td>\n      <td>0</td>\n      <td>0</td>\n      <td>0</td>\n      <td>0</td>\n      <td>0</td>\n      <td>0</td>\n      <td>0</td>\n    </tr>\n    <tr>\n      <th>12</th>\n      <td>否</td>\n      <td>否</td>\n      <td>否</td>\n      <td>否</td>\n      <td>否</td>\n      <td>否</td>\n      <td>否</td>\n      <td>否</td>\n      <td>否</td>\n      <td>1</td>\n      <td>0</td>\n      <td>0</td>\n      <td>0</td>\n      <td>0</td>\n      <td>0</td>\n      <td>0</td>\n      <td>0</td>\n      <td>0</td>\n      <td>0</td>\n    </tr>\n    <tr>\n      <th>13</th>\n      <td>倾向是</td>\n      <td>否</td>\n      <td>否</td>\n      <td>倾向是</td>\n      <td>否</td>\n      <td>否</td>\n      <td>否</td>\n      <td>否</td>\n      <td>否</td>\n      <td>1</td>\n      <td>1</td>\n      <td>0</td>\n      <td>0</td>\n      <td>1</td>\n      <td>0</td>\n      <td>0</td>\n      <td>0</td>\n      <td>0</td>\n      <td>0</td>\n    </tr>\n    <tr>\n      <th>14</th>\n      <td>是</td>\n      <td>否</td>\n      <td>否</td>\n      <td>否</td>\n      <td>否</td>\n      <td>否</td>\n      <td>否</td>\n      <td>否</td>\n      <td>否</td>\n      <td>1</td>\n      <td>2</td>\n      <td>0</td>\n      <td>0</td>\n      <td>0</td>\n      <td>0</td>\n      <td>0</td>\n      <td>0</td>\n      <td>0</td>\n      <td>0</td>\n    </tr>\n    <tr>\n      <th>15</th>\n      <td>否</td>\n      <td>是</td>\n      <td>否</td>\n      <td>否</td>\n      <td>倾向是</td>\n      <td>否</td>\n      <td>否</td>\n      <td>否</td>\n      <td>否</td>\n      <td>1</td>\n      <td>0</td>\n      <td>2</td>\n      <td>0</td>\n      <td>0</td>\n      <td>1</td>\n      <td>0</td>\n      <td>0</td>\n      <td>0</td>\n      <td>0</td>\n    </tr>\n    <tr>\n      <th>16</th>\n      <td>否</td>\n      <td>否</td>\n      <td>否</td>\n      <td>倾向是</td>\n      <td>倾向是</td>\n      <td>倾向是</td>\n      <td>是</td>\n      <td>否</td>\n      <td>倾向是</td>\n      <td>1</td>\n      <td>0</td>\n      <td>0</td>\n      <td>0</td>\n      <td>1</td>\n      <td>1</td>\n      <td>1</td>\n      <td>2</td>\n      <td>0</td>\n      <td>1</td>\n    </tr>\n    <tr>\n      <th>17</th>\n      <td>是</td>\n      <td>否</td>\n      <td>否</td>\n      <td>否</td>\n      <td>否</td>\n      <td>否</td>\n      <td>否</td>\n      <td>否</td>\n      <td>否</td>\n      <td>1</td>\n      <td>2</td>\n      <td>0</td>\n      <td>0</td>\n      <td>0</td>\n      <td>0</td>\n      <td>0</td>\n      <td>0</td>\n      <td>0</td>\n      <td>0</td>\n    </tr>\n    <tr>\n      <th>18</th>\n      <td>否</td>\n      <td>是</td>\n      <td>是</td>\n      <td>是</td>\n      <td>是</td>\n      <td>是</td>\n      <td>是</td>\n      <td>是</td>\n      <td>是</td>\n      <td>1</td>\n      <td>0</td>\n      <td>2</td>\n      <td>2</td>\n      <td>2</td>\n      <td>2</td>\n      <td>2</td>\n      <td>2</td>\n      <td>2</td>\n      <td>2</td>\n    </tr>\n    <tr>\n      <th>19</th>\n      <td>否</td>\n      <td>是</td>\n      <td>是</td>\n      <td>是</td>\n      <td>是</td>\n      <td>否</td>\n      <td>倾向是</td>\n      <td>是</td>\n      <td>否</td>\n      <td>1</td>\n      <td>0</td>\n      <td>2</td>\n      <td>2</td>\n      <td>2</td>\n      <td>2</td>\n      <td>0</td>\n      <td>1</td>\n      <td>2</td>\n      <td>0</td>\n    </tr>\n    <tr>\n      <th>20</th>\n      <td>是</td>\n      <td>否</td>\n      <td>否</td>\n      <td>否</td>\n      <td>否</td>\n      <td>否</td>\n      <td>否</td>\n      <td>否</td>\n      <td>否</td>\n      <td>1</td>\n      <td>2</td>\n      <td>0</td>\n      <td>0</td>\n      <td>0</td>\n      <td>0</td>\n      <td>0</td>\n      <td>0</td>\n      <td>0</td>\n      <td>0</td>\n    </tr>\n    <tr>\n      <th>21</th>\n      <td>否</td>\n      <td>否</td>\n      <td>否</td>\n      <td>是</td>\n      <td>是</td>\n      <td>倾向是</td>\n      <td>倾向是</td>\n      <td>是</td>\n      <td>否</td>\n      <td>1</td>\n      <td>0</td>\n      <td>0</td>\n      <td>0</td>\n      <td>2</td>\n      <td>2</td>\n      <td>1</td>\n      <td>1</td>\n      <td>2</td>\n      <td>0</td>\n    </tr>\n    <tr>\n      <th>22</th>\n      <td>是</td>\n      <td>否</td>\n      <td>否</td>\n      <td>否</td>\n      <td>否</td>\n      <td>否</td>\n      <td>否</td>\n      <td>否</td>\n      <td>否</td>\n      <td>1</td>\n      <td>2</td>\n      <td>0</td>\n      <td>0</td>\n      <td>0</td>\n      <td>0</td>\n      <td>0</td>\n      <td>0</td>\n      <td>0</td>\n      <td>0</td>\n    </tr>\n    <tr>\n      <th>23</th>\n      <td>否</td>\n      <td>是</td>\n      <td>倾向是</td>\n      <td>倾向是</td>\n      <td>是</td>\n      <td>是</td>\n      <td>否</td>\n      <td>是</td>\n      <td>是</td>\n      <td>1</td>\n      <td>0</td>\n      <td>2</td>\n      <td>1</td>\n      <td>1</td>\n      <td>2</td>\n      <td>2</td>\n      <td>0</td>\n      <td>2</td>\n      <td>2</td>\n    </tr>\n    <tr>\n      <th>24</th>\n      <td>倾向是</td>\n      <td>否</td>\n      <td>否</td>\n      <td>否</td>\n      <td>否</td>\n      <td>否</td>\n      <td>倾向是</td>\n      <td>倾向是</td>\n      <td>倾向是</td>\n      <td>1</td>\n      <td>1</td>\n      <td>0</td>\n      <td>0</td>\n      <td>0</td>\n      <td>0</td>\n      <td>0</td>\n      <td>1</td>\n      <td>1</td>\n      <td>1</td>\n    </tr>\n    <tr>\n      <th>25</th>\n      <td>是</td>\n      <td>否</td>\n      <td>否</td>\n      <td>否</td>\n      <td>否</td>\n      <td>否</td>\n      <td>否</td>\n      <td>否</td>\n      <td>否</td>\n      <td>1</td>\n      <td>2</td>\n      <td>0</td>\n      <td>0</td>\n      <td>0</td>\n      <td>0</td>\n      <td>0</td>\n      <td>0</td>\n      <td>0</td>\n      <td>0</td>\n    </tr>\n    <tr>\n      <th>26</th>\n      <td>否</td>\n      <td>是</td>\n      <td>是</td>\n      <td>是</td>\n      <td>是</td>\n      <td>是</td>\n      <td>是</td>\n      <td>倾向是</td>\n      <td>倾向是</td>\n      <td>1</td>\n      <td>0</td>\n      <td>2</td>\n      <td>2</td>\n      <td>2</td>\n      <td>2</td>\n      <td>2</td>\n      <td>2</td>\n      <td>1</td>\n      <td>1</td>\n    </tr>\n    <tr>\n      <th>27</th>\n      <td>否</td>\n      <td>是</td>\n      <td>是</td>\n      <td>是</td>\n      <td>否</td>\n      <td>倾向是</td>\n      <td>是</td>\n      <td>是</td>\n      <td>否</td>\n      <td>2</td>\n      <td>0</td>\n      <td>2</td>\n      <td>2</td>\n      <td>2</td>\n      <td>0</td>\n      <td>1</td>\n      <td>2</td>\n      <td>2</td>\n      <td>0</td>\n    </tr>\n    <tr>\n      <th>28</th>\n      <td>否</td>\n      <td>是</td>\n      <td>是</td>\n      <td>是</td>\n      <td>倾向是</td>\n      <td>倾向是</td>\n      <td>是</td>\n      <td>是</td>\n      <td>是</td>\n      <td>2</td>\n      <td>0</td>\n      <td>2</td>\n      <td>2</td>\n      <td>2</td>\n      <td>1</td>\n      <td>1</td>\n      <td>2</td>\n      <td>2</td>\n      <td>2</td>\n    </tr>\n    <tr>\n      <th>29</th>\n      <td>否</td>\n      <td>倾向是</td>\n      <td>否</td>\n      <td>否</td>\n      <td>是</td>\n      <td>是</td>\n      <td>倾向是</td>\n      <td>是</td>\n      <td>倾向是</td>\n      <td>2</td>\n      <td>0</td>\n      <td>1</td>\n      <td>0</td>\n      <td>0</td>\n      <td>2</td>\n      <td>2</td>\n      <td>1</td>\n      <td>2</td>\n      <td>1</td>\n    </tr>\n    <tr>\n      <th>30</th>\n      <td>倾向是</td>\n      <td>倾向是</td>\n      <td>倾向是</td>\n      <td>否</td>\n      <td>否</td>\n      <td>倾向是</td>\n      <td>倾向是</td>\n      <td>否</td>\n      <td>否</td>\n      <td>2</td>\n      <td>1</td>\n      <td>1</td>\n      <td>1</td>\n      <td>0</td>\n      <td>0</td>\n      <td>1</td>\n      <td>1</td>\n      <td>0</td>\n      <td>0</td>\n    </tr>\n    <tr>\n      <th>31</th>\n      <td>否</td>\n      <td>是</td>\n      <td>是</td>\n      <td>是</td>\n      <td>倾向是</td>\n      <td>倾向是</td>\n      <td>是</td>\n      <td>倾向是</td>\n      <td>否</td>\n      <td>2</td>\n      <td>0</td>\n      <td>2</td>\n      <td>2</td>\n      <td>2</td>\n      <td>1</td>\n      <td>1</td>\n      <td>2</td>\n      <td>1</td>\n      <td>0</td>\n    </tr>\n    <tr>\n      <th>32</th>\n      <td>否</td>\n      <td>倾向是</td>\n      <td>是</td>\n      <td>倾向是</td>\n      <td>否</td>\n      <td>倾向是</td>\n      <td>是</td>\n      <td>是</td>\n      <td>倾向是</td>\n      <td>2</td>\n      <td>0</td>\n      <td>1</td>\n      <td>2</td>\n      <td>1</td>\n      <td>0</td>\n      <td>1</td>\n      <td>2</td>\n      <td>2</td>\n      <td>1</td>\n    </tr>\n    <tr>\n      <th>33</th>\n      <td>倾向是</td>\n      <td>否</td>\n      <td>否</td>\n      <td>否</td>\n      <td>否</td>\n      <td>否</td>\n      <td>倾向是</td>\n      <td>否</td>\n      <td>倾向是</td>\n      <td>2</td>\n      <td>1</td>\n      <td>0</td>\n      <td>0</td>\n      <td>0</td>\n      <td>0</td>\n      <td>0</td>\n      <td>1</td>\n      <td>0</td>\n      <td>1</td>\n    </tr>\n    <tr>\n      <th>34</th>\n      <td>否</td>\n      <td>否</td>\n      <td>否</td>\n      <td>是</td>\n      <td>否</td>\n      <td>倾向是</td>\n      <td>倾向是</td>\n      <td>倾向是</td>\n      <td>倾向是</td>\n      <td>2</td>\n      <td>0</td>\n      <td>0</td>\n      <td>0</td>\n      <td>2</td>\n      <td>0</td>\n      <td>1</td>\n      <td>1</td>\n      <td>1</td>\n      <td>1</td>\n    </tr>\n    <tr>\n      <th>35</th>\n      <td>否</td>\n      <td>倾向是</td>\n      <td>倾向是</td>\n      <td>是</td>\n      <td>否</td>\n      <td>否</td>\n      <td>是</td>\n      <td>倾向是</td>\n      <td>否</td>\n      <td>2</td>\n      <td>0</td>\n      <td>1</td>\n      <td>1</td>\n      <td>2</td>\n      <td>0</td>\n      <td>0</td>\n      <td>2</td>\n      <td>1</td>\n      <td>0</td>\n    </tr>\n    <tr>\n      <th>36</th>\n      <td>否</td>\n      <td>是</td>\n      <td>是</td>\n      <td>倾向是</td>\n      <td>否</td>\n      <td>倾向是</td>\n      <td>是</td>\n      <td>倾向是</td>\n      <td>是</td>\n      <td>2</td>\n      <td>0</td>\n      <td>2</td>\n      <td>2</td>\n      <td>1</td>\n      <td>0</td>\n      <td>1</td>\n      <td>2</td>\n      <td>1</td>\n      <td>2</td>\n    </tr>\n    <tr>\n      <th>37</th>\n      <td>否</td>\n      <td>是</td>\n      <td>否</td>\n      <td>是</td>\n      <td>否</td>\n      <td>否</td>\n      <td>是</td>\n      <td>是</td>\n      <td>倾向是</td>\n      <td>2</td>\n      <td>0</td>\n      <td>2</td>\n      <td>0</td>\n      <td>2</td>\n      <td>0</td>\n      <td>0</td>\n      <td>2</td>\n      <td>2</td>\n      <td>1</td>\n    </tr>\n    <tr>\n      <th>38</th>\n      <td>否</td>\n      <td>倾向是</td>\n      <td>是</td>\n      <td>倾向是</td>\n      <td>否</td>\n      <td>否</td>\n      <td>倾向是</td>\n      <td>否</td>\n      <td>否</td>\n      <td>2</td>\n      <td>0</td>\n      <td>1</td>\n      <td>2</td>\n      <td>1</td>\n      <td>0</td>\n      <td>0</td>\n      <td>1</td>\n      <td>0</td>\n      <td>0</td>\n    </tr>\n    <tr>\n      <th>39</th>\n      <td>否</td>\n      <td>是</td>\n      <td>否</td>\n      <td>是</td>\n      <td>否</td>\n      <td>否</td>\n      <td>是</td>\n      <td>是</td>\n      <td>倾向是</td>\n      <td>2</td>\n      <td>0</td>\n      <td>2</td>\n      <td>0</td>\n      <td>2</td>\n      <td>0</td>\n      <td>0</td>\n      <td>2</td>\n      <td>2</td>\n      <td>1</td>\n    </tr>\n    <tr>\n      <th>40</th>\n      <td>否</td>\n      <td>倾向是</td>\n      <td>是</td>\n      <td>是</td>\n      <td>倾向是</td>\n      <td>是</td>\n      <td>是</td>\n      <td>倾向是</td>\n      <td>否</td>\n      <td>2</td>\n      <td>0</td>\n      <td>1</td>\n      <td>2</td>\n      <td>2</td>\n      <td>1</td>\n      <td>2</td>\n      <td>2</td>\n      <td>1</td>\n      <td>0</td>\n    </tr>\n    <tr>\n      <th>41</th>\n      <td>倾向是</td>\n      <td>否</td>\n      <td>倾向是</td>\n      <td>否</td>\n      <td>否</td>\n      <td>倾向是</td>\n      <td>倾向是</td>\n      <td>否</td>\n      <td>否</td>\n      <td>2</td>\n      <td>1</td>\n      <td>0</td>\n      <td>1</td>\n      <td>0</td>\n      <td>0</td>\n      <td>1</td>\n      <td>1</td>\n      <td>0</td>\n      <td>0</td>\n    </tr>\n    <tr>\n      <th>42</th>\n      <td>否</td>\n      <td>是</td>\n      <td>是</td>\n      <td>倾向是</td>\n      <td>倾向是</td>\n      <td>否</td>\n      <td>倾向是</td>\n      <td>倾向是</td>\n      <td>否</td>\n      <td>2</td>\n      <td>0</td>\n      <td>2</td>\n      <td>2</td>\n      <td>1</td>\n      <td>1</td>\n      <td>0</td>\n      <td>1</td>\n      <td>1</td>\n      <td>0</td>\n    </tr>\n    <tr>\n      <th>43</th>\n      <td>倾向是</td>\n      <td>否</td>\n      <td>否</td>\n      <td>倾向是</td>\n      <td>否</td>\n      <td>倾向是</td>\n      <td>否</td>\n      <td>否</td>\n      <td>否</td>\n      <td>2</td>\n      <td>1</td>\n      <td>0</td>\n      <td>0</td>\n      <td>1</td>\n      <td>0</td>\n      <td>1</td>\n      <td>0</td>\n      <td>0</td>\n      <td>0</td>\n    </tr>\n    <tr>\n      <th>44</th>\n      <td>否</td>\n      <td>否</td>\n      <td>是</td>\n      <td>否</td>\n      <td>否</td>\n      <td>否</td>\n      <td>否</td>\n      <td>否</td>\n      <td>否</td>\n      <td>2</td>\n      <td>0</td>\n      <td>0</td>\n      <td>2</td>\n      <td>0</td>\n      <td>0</td>\n      <td>0</td>\n      <td>0</td>\n      <td>0</td>\n      <td>0</td>\n    </tr>\n    <tr>\n      <th>45</th>\n      <td>否</td>\n      <td>是</td>\n      <td>倾向是</td>\n      <td>是</td>\n      <td>倾向是</td>\n      <td>否</td>\n      <td>是</td>\n      <td>倾向是</td>\n      <td>否</td>\n      <td>2</td>\n      <td>0</td>\n      <td>2</td>\n      <td>1</td>\n      <td>2</td>\n      <td>1</td>\n      <td>0</td>\n      <td>2</td>\n      <td>1</td>\n      <td>0</td>\n    </tr>\n    <tr>\n      <th>46</th>\n      <td>否</td>\n      <td>倾向是</td>\n      <td>是</td>\n      <td>倾向是</td>\n      <td>否</td>\n      <td>是</td>\n      <td>倾向是</td>\n      <td>否</td>\n      <td>倾向是</td>\n      <td>2</td>\n      <td>0</td>\n      <td>1</td>\n      <td>2</td>\n      <td>1</td>\n      <td>0</td>\n      <td>2</td>\n      <td>1</td>\n      <td>0</td>\n      <td>1</td>\n    </tr>\n    <tr>\n      <th>47</th>\n      <td>否</td>\n      <td>倾向是</td>\n      <td>倾向是</td>\n      <td>倾向是</td>\n      <td>是</td>\n      <td>倾向是</td>\n      <td>倾向是</td>\n      <td>是</td>\n      <td>否</td>\n      <td>2</td>\n      <td>0</td>\n      <td>1</td>\n      <td>1</td>\n      <td>1</td>\n      <td>2</td>\n      <td>1</td>\n      <td>1</td>\n      <td>2</td>\n      <td>0</td>\n    </tr>\n    <tr>\n      <th>48</th>\n      <td>否</td>\n      <td>是</td>\n      <td>是</td>\n      <td>倾向是</td>\n      <td>是</td>\n      <td>倾向是</td>\n      <td>是</td>\n      <td>是</td>\n      <td>倾向是</td>\n      <td>2</td>\n      <td>0</td>\n      <td>2</td>\n      <td>2</td>\n      <td>1</td>\n      <td>2</td>\n      <td>1</td>\n      <td>2</td>\n      <td>2</td>\n      <td>1</td>\n    </tr>\n    <tr>\n      <th>49</th>\n      <td>否</td>\n      <td>是</td>\n      <td>是</td>\n      <td>是</td>\n      <td>倾向是</td>\n      <td>倾向是</td>\n      <td>是</td>\n      <td>是</td>\n      <td>是</td>\n      <td>2</td>\n      <td>0</td>\n      <td>2</td>\n      <td>2</td>\n      <td>2</td>\n      <td>1</td>\n      <td>1</td>\n      <td>2</td>\n      <td>2</td>\n      <td>2</td>\n    </tr>\n    <tr>\n      <th>50</th>\n      <td>否</td>\n      <td>是</td>\n      <td>是</td>\n      <td>是</td>\n      <td>倾向是</td>\n      <td>是</td>\n      <td>是</td>\n      <td>是</td>\n      <td>倾向是</td>\n      <td>2</td>\n      <td>0</td>\n      <td>2</td>\n      <td>2</td>\n      <td>2</td>\n      <td>1</td>\n      <td>2</td>\n      <td>2</td>\n      <td>2</td>\n      <td>1</td>\n    </tr>\n  </tbody>\n</table>\n</div>"
     },
     "execution_count": 18,
     "metadata": {},
     "output_type": "execute_result"
    }
   ],
   "source": [
    "for col in df4.columns[:len(df4.columns)-1]:\n",
    "    df4[f'{col}_num'] = df4[col].map({'是': 2, '倾向是': 1, '否': 0})\n",
    "df4"
   ],
   "metadata": {
    "collapsed": false,
    "ExecuteTime": {
     "start_time": "2024-06-02T12:24:55.255591Z",
     "end_time": "2024-06-02T12:24:55.286855Z"
    }
   }
  },
  {
   "cell_type": "markdown",
   "source": [
    "### 对不同性别各体质判定结果（是、倾向是、否）进行非参数检验（Kruskal-Wallis H检验）"
   ],
   "metadata": {
    "collapsed": false
   }
  },
  {
   "cell_type": "code",
   "execution_count": 19,
   "outputs": [
    {
     "name": "stdout",
     "output_type": "stream",
     "text": [
      "性别：1, 统计量：5.571198683001944, p值：0.6951396553972631\n",
      "性别：2, 统计量：52.4526554802232, p值：1.3761427310610312e-08\n"
     ]
    }
   ],
   "source": [
    "from scipy.stats import kruskal\n",
    "# 对每个性别和每种体质进行Kruskal-Wallis H检验\n",
    "genders = df4['性别'].unique()\n",
    "body_types = df4.columns[-9:]\n",
    "\n",
    "for gender in genders:\n",
    "    data = df4[df4['性别'] == gender][body_types]\n",
    "    stat, p = kruskal(*[data[col] for col in data])\n",
    "    print(f'性别：{gender}, 统计量：{stat}, p值：{p}')\n"
   ],
   "metadata": {
    "collapsed": false,
    "ExecuteTime": {
     "start_time": "2024-06-02T12:24:55.273688Z",
     "end_time": "2024-06-02T12:24:55.286855Z"
    }
   }
  },
  {
   "cell_type": "markdown",
   "source": [
    "### 由H检验结果可知，男生的p值为0.69，大于0.05，认为女生的9种体质之间三种判断对应结果的中位数无显著差距。女生的p值则为1.37e-8，小于0.05，拒绝原假设，认为女生的9种体质之间三种判断结果对应的中位数有显著差距。\n",
    "### 这种统计其实并无意义，首先样本量太少，结果缺乏普适性，其次，对男、女不同体质之间诊断的三种结果中位数是否有显著性差异进行判断，并无实际意义，因为我们现有认知无法得知人群中各种体质的分布情况，以及兼杂体质的占比情况，因而无法通过此调查分析结果推断同学是否认真填写问卷、以及此问卷的有效性。"
   ],
   "metadata": {
    "collapsed": false
   }
  }
 ],
 "metadata": {
  "kernelspec": {
   "display_name": "Python 3 (ipykernel)",
   "language": "python",
   "name": "python3"
  },
  "language_info": {
   "codemirror_mode": {
    "name": "ipython",
    "version": 3
   },
   "file_extension": ".py",
   "mimetype": "text/x-python",
   "name": "python",
   "nbconvert_exporter": "python",
   "pygments_lexer": "ipython3",
   "version": "3.11.5"
  }
 },
 "nbformat": 4,
 "nbformat_minor": 4
}
