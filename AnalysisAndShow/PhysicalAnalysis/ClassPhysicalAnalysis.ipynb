{
 "cells": [
  {
   "cell_type": "code",
   "execution_count": 2,
   "metadata": {
    "ExecuteTime": {
     "start_time": "2024-06-02T12:24:32.123339Z",
     "end_time": "2024-06-02T12:24:32.814475Z"
    },
    "collapsed": true,
    "jupyter": {
     "outputs_hidden": true
    }
   },
   "outputs": [],
   "source": [
    "import pandas as pd\n",
    "import matplotlib.pyplot as plt"
   ]
  },
  {
   "cell_type": "code",
   "execution_count": 3,
   "metadata": {
    "ExecuteTime": {
     "start_time": "2024-06-02T12:24:32.816411Z",
     "end_time": "2024-06-02T12:24:33.072068Z"
    },
    "collapsed": false,
    "jupyter": {
     "outputs_hidden": false
    }
   },
   "outputs": [
    {
     "data": {
      "text/plain": "    序号        1、学号 2、姓名  3、年龄  4、性别  5、身高（cm）  6、体重（kg）  7、你每个月的平均生活费大概是多少？  \\\n0    1  3210707043  马海鹏    19     1       173      70.0                 2.0   \n1    2  3210707028  黄梅娟    19     2       165      54.0                 2.0   \n2    3  3210707041  蔡洲鹏    18     1       175      62.0                 1.0   \n3    4  3210707008  刘浩雄    20     1       178      64.0                 1.0   \n4    5  3210707021   陈红    20     2       156      56.0                 2.0   \n5    6  3210707033  郑婉玲    19     2       165      53.0                 3.0   \n6    7  3210707025  赖朔玉    20     2       155      44.0                 2.0   \n7    8  3210707019  李海智    18     1       178      65.0                 3.0   \n8    9  3210707002   刘兰    20     2       161      44.0                 2.0   \n9   10  3210707026  黄建锐    20     1       170     120.0                 2.0   \n10  11  3210707051   俞琪    19     2       159      60.0                 2.0   \n11  12  3210707027  王嘉欣    19     2       158      59.0                 2.0   \n12  13  3210707053   焦航    20     1       178      68.0                 2.0   \n13  14  3210707017  张丽瑄    19     2       160      44.0                 3.0   \n14  15  3210707040   何伟    19     1       161      49.0                 2.0   \n15  16  3210707030  郑美珠    19     2       165      54.0                 2.0   \n16  17  3210707016  吴煜城    20     1       170      60.0                 2.0   \n17  18  3210707010  李健铭    20     1       172      76.0                 2.0   \n18  19  3210707046  郝怡容    21     2       167      58.0                 1.0   \n19  20  3210707056  黎东康    20     1       175      56.0                 2.0   \n20  21  3210707052   杨铝    20     1       170      60.0                 2.0   \n21  22  3210707055  王耀鹏    20     1       175      90.0                 2.0   \n22  23  3210707057  王益民    18     1       183     138.0                 4.0   \n23  24  3210707013  李佳佳    19     2       167     128.0                 2.0   \n24  25  3210707059  冯子斌    20     1       175      67.0                 3.0   \n25  26  3210707007  谢晓丹    20     2       167      46.0                 3.0   \n26  27  3210707034  陈海林    21     1       171      53.0                 2.0   \n27  28  3210707020  余昕玥    19     2       170      63.0                 2.0   \n28  29  3210707047  张轶文    21     1       162      75.0                 2.0   \n29  30  3210707022  侯晨露    20     2       165      95.0                 3.0   \n30  31  3210707004  廖丽珍    20     2       160      47.0                 2.0   \n31  32         (空)  (空)    19     2       160       NaN                 2.0   \n32  33  3210707018  蔡世鹏    19     1       160      58.0                 2.0   \n33  34  3210707014  钟稚琴    21     2       162      48.0                 2.0   \n34  35  3210707060  陈剑峰    20     1       170      54.0                 2.0   \n35  36  3210707006  罗清香    19     2       161      53.0                 2.0   \n36  37  3210707012  胡羽心    19     2       155      44.0                 3.0   \n37  38  3210707015  官祥杰    20     1       177      76.0                 2.0   \n38  39   321707029  杜思婷    19     2       168      63.0                 2.0   \n39  40  3210707023  刘远龙    20     1       180      55.0                 2.0   \n40  41  3210707001  田杰红    21     2       155      57.0                 2.0   \n41  42  3210707005  王诗琴    19     2       165      50.0                 2.0   \n42  43  3210707031  何端锴    20     1       172      57.0                 3.0   \n43  44  3210707024  胡远媛    20     2       156      49.0                 2.0   \n44  45  3210707049   朱康    20     1       180      72.0                 2.0   \n45  46  3210707044  许雪敏    19     2       170      56.0                 2.0   \n46  47  3210707038   陈俊    20     1       170      55.0                 NaN   \n\n    8、您精力充沛吗？  9、您容易疲劳吗？  ...  特禀质转化分  平和质（是/否）  气虚质（是/否）  阳虚质（是/否）  阴虚质（是/否）  \\\n0         3.0        3.0  ...      11         否         是       倾向是         否   \n1         3.0        4.0  ...      43         否         是       倾向是         是   \n2         3.0        3.0  ...      50         否         是         是         是   \n3         5.0        1.0  ...       0         是         否         否         否   \n4         4.0        3.0  ...      11         是         否         否         否   \n5         3.0        3.0  ...      14         是         否         否         否   \n6         4.0        3.0  ...      46         否         是         是       倾向是   \n7         3.0        2.0  ...      46         否       倾向是       倾向是       倾向是   \n8         4.0        3.0  ...       4       倾向是       倾向是         否       倾向是   \n9         3.0        3.0  ...      14         否         是         是         是   \n10        3.0        3.0  ...      11         否         否       倾向是         否   \n11        4.0        2.0  ...      36         否       倾向是         是         是   \n12        3.0        3.0  ...      25         否       倾向是         否         否   \n13        3.0        3.0  ...      14         否         是       倾向是       倾向是   \n14        5.0        2.0  ...       7         是         否         否         否   \n15        4.0        2.0  ...      25         否         否       倾向是         是   \n16        4.0        4.0  ...      11       倾向是       倾向是         否         否   \n17        4.0        3.0  ...      29       倾向是         否         否         否   \n18        3.0        3.0  ...      21         否         是         是         是   \n19        3.0        3.0  ...      21         否         是         是         是   \n20        3.0        3.0  ...      39       倾向是       倾向是       倾向是         否   \n21        3.0        3.0  ...      14         否         是         否         否   \n22        4.0        3.0  ...      29         否         是         是         是   \n23        3.0        3.0  ...      36         否       倾向是         是       倾向是   \n24        5.0        1.0  ...      14         是         否         否         否   \n25        4.0        4.0  ...      43         否         是         是         是   \n26        4.0        3.0  ...      14         是         否         否         否   \n27        3.0        3.0  ...      21         否         是       倾向是         是   \n28        4.0        3.0  ...       4       倾向是         否         否         否   \n29        3.0        4.0  ...      46         否         是         是         是   \n30        3.0        2.0  ...      21         是         否         否         否   \n31        4.0        3.0  ...      25       倾向是         否         否       倾向是   \n32        1.0        3.0  ...      25         是         否         否         否   \n33        4.0        3.0  ...      32         否       倾向是       倾向是         否   \n34        4.0        4.0  ...      14         是         否         否         否   \n35        5.0        2.0  ...      29         否       倾向是         否         否   \n36        3.0        3.0  ...      46         否       倾向是         否         否   \n37        4.0        2.0  ...      29         否       倾向是         否       倾向是   \n38        3.0        3.0  ...      29         否         否         否         是   \n39        4.0        2.0  ...       7         否         否         否         否   \n40        3.0        3.0  ...       7       倾向是         否         否         否   \n41        4.0        3.0  ...       0         是         否         否         否   \n42        4.0        4.0  ...      36       倾向是       倾向是         否       倾向是   \n43        3.0        3.0  ...      43         否         是         是         是   \n44        3.0        3.0  ...      39       倾向是         否         否         否   \n45        4.0        3.0  ...       7         否       倾向是         是       倾向是   \n46        NaN        NaN  ...      25         否         是         否       倾向是   \n\n    痰湿质（是/否）  湿热质（是/否）  淤血质（是/否）  气郁质（是/否）  特禀质（是/否）  \n0          否         否         否         是         否  \n1        倾向是       倾向是       倾向是       倾向是         是  \n2        倾向是       倾向是         是         是         是  \n3          否         否         否         否         否  \n4          否         否         否         否         否  \n5          否         否         否         否         否  \n6          是         否         是         是         是  \n7        倾向是         否         否       倾向是         是  \n8          否         否         否         否         否  \n9          是       倾向是         否       倾向是         否  \n10         否         否         是         否         否  \n11         否         是         是       倾向是       倾向是  \n12         否         否         否       倾向是         否  \n13         否       倾向是         是         是         否  \n14         否         否         否         否         否  \n15         否         否       倾向是       倾向是         否  \n16         否       倾向是         否         否         否  \n17         否         否       倾向是         否         否  \n18       倾向是         是         是         是         否  \n19         是       倾向是         否         是         否  \n20         否       倾向是         否         否       倾向是  \n21         否       倾向是         否       倾向是         否  \n22         否         是       倾向是         否         否  \n23         否         是         是         否       倾向是  \n24         否         否         否         否         否  \n25       倾向是       倾向是       倾向是       倾向是         是  \n26         否         否         否         否         否  \n27         否         是       倾向是         是         否  \n28         否         否       倾向是         否         否  \n29       倾向是         是         是         是         是  \n30         否         否         否         否         否  \n31         否         否         否         否         否  \n32         否         否         否         否         否  \n33         否         是         是       倾向是       倾向是  \n34         否         否         否         否         否  \n35         否         否         是       倾向是         否  \n36         是       倾向是       倾向是       倾向是         是  \n37       倾向是       倾向是         是       倾向是         否  \n38         否       倾向是       倾向是         否         否  \n39         否         否         否         否         否  \n40         否       倾向是       倾向是         否         否  \n41         否         否         否         否         否  \n42         否         否         否       倾向是       倾向是  \n43         否         否         否       倾向是         是  \n44         否         否         否         否       倾向是  \n45         是       倾向是         否         是         否  \n46         否       倾向是         否         否         否  \n\n[47 rows x 86 columns]",
      "text/html": "<div>\n<style scoped>\n    .dataframe tbody tr th:only-of-type {\n        vertical-align: middle;\n    }\n\n    .dataframe tbody tr th {\n        vertical-align: top;\n    }\n\n    .dataframe thead th {\n        text-align: right;\n    }\n</style>\n<table border=\"1\" class=\"dataframe\">\n  <thead>\n    <tr style=\"text-align: right;\">\n      <th></th>\n      <th>序号</th>\n      <th>1、学号</th>\n      <th>2、姓名</th>\n      <th>3、年龄</th>\n      <th>4、性别</th>\n      <th>5、身高（cm）</th>\n      <th>6、体重（kg）</th>\n      <th>7、你每个月的平均生活费大概是多少？</th>\n      <th>8、您精力充沛吗？</th>\n      <th>9、您容易疲劳吗？</th>\n      <th>...</th>\n      <th>特禀质转化分</th>\n      <th>平和质（是/否）</th>\n      <th>气虚质（是/否）</th>\n      <th>阳虚质（是/否）</th>\n      <th>阴虚质（是/否）</th>\n      <th>痰湿质（是/否）</th>\n      <th>湿热质（是/否）</th>\n      <th>淤血质（是/否）</th>\n      <th>气郁质（是/否）</th>\n      <th>特禀质（是/否）</th>\n    </tr>\n  </thead>\n  <tbody>\n    <tr>\n      <th>0</th>\n      <td>1</td>\n      <td>3210707043</td>\n      <td>马海鹏</td>\n      <td>19</td>\n      <td>1</td>\n      <td>173</td>\n      <td>70.0</td>\n      <td>2.0</td>\n      <td>3.0</td>\n      <td>3.0</td>\n      <td>...</td>\n      <td>11</td>\n      <td>否</td>\n      <td>是</td>\n      <td>倾向是</td>\n      <td>否</td>\n      <td>否</td>\n      <td>否</td>\n      <td>否</td>\n      <td>是</td>\n      <td>否</td>\n    </tr>\n    <tr>\n      <th>1</th>\n      <td>2</td>\n      <td>3210707028</td>\n      <td>黄梅娟</td>\n      <td>19</td>\n      <td>2</td>\n      <td>165</td>\n      <td>54.0</td>\n      <td>2.0</td>\n      <td>3.0</td>\n      <td>4.0</td>\n      <td>...</td>\n      <td>43</td>\n      <td>否</td>\n      <td>是</td>\n      <td>倾向是</td>\n      <td>是</td>\n      <td>倾向是</td>\n      <td>倾向是</td>\n      <td>倾向是</td>\n      <td>倾向是</td>\n      <td>是</td>\n    </tr>\n    <tr>\n      <th>2</th>\n      <td>3</td>\n      <td>3210707041</td>\n      <td>蔡洲鹏</td>\n      <td>18</td>\n      <td>1</td>\n      <td>175</td>\n      <td>62.0</td>\n      <td>1.0</td>\n      <td>3.0</td>\n      <td>3.0</td>\n      <td>...</td>\n      <td>50</td>\n      <td>否</td>\n      <td>是</td>\n      <td>是</td>\n      <td>是</td>\n      <td>倾向是</td>\n      <td>倾向是</td>\n      <td>是</td>\n      <td>是</td>\n      <td>是</td>\n    </tr>\n    <tr>\n      <th>3</th>\n      <td>4</td>\n      <td>3210707008</td>\n      <td>刘浩雄</td>\n      <td>20</td>\n      <td>1</td>\n      <td>178</td>\n      <td>64.0</td>\n      <td>1.0</td>\n      <td>5.0</td>\n      <td>1.0</td>\n      <td>...</td>\n      <td>0</td>\n      <td>是</td>\n      <td>否</td>\n      <td>否</td>\n      <td>否</td>\n      <td>否</td>\n      <td>否</td>\n      <td>否</td>\n      <td>否</td>\n      <td>否</td>\n    </tr>\n    <tr>\n      <th>4</th>\n      <td>5</td>\n      <td>3210707021</td>\n      <td>陈红</td>\n      <td>20</td>\n      <td>2</td>\n      <td>156</td>\n      <td>56.0</td>\n      <td>2.0</td>\n      <td>4.0</td>\n      <td>3.0</td>\n      <td>...</td>\n      <td>11</td>\n      <td>是</td>\n      <td>否</td>\n      <td>否</td>\n      <td>否</td>\n      <td>否</td>\n      <td>否</td>\n      <td>否</td>\n      <td>否</td>\n      <td>否</td>\n    </tr>\n    <tr>\n      <th>5</th>\n      <td>6</td>\n      <td>3210707033</td>\n      <td>郑婉玲</td>\n      <td>19</td>\n      <td>2</td>\n      <td>165</td>\n      <td>53.0</td>\n      <td>3.0</td>\n      <td>3.0</td>\n      <td>3.0</td>\n      <td>...</td>\n      <td>14</td>\n      <td>是</td>\n      <td>否</td>\n      <td>否</td>\n      <td>否</td>\n      <td>否</td>\n      <td>否</td>\n      <td>否</td>\n      <td>否</td>\n      <td>否</td>\n    </tr>\n    <tr>\n      <th>6</th>\n      <td>7</td>\n      <td>3210707025</td>\n      <td>赖朔玉</td>\n      <td>20</td>\n      <td>2</td>\n      <td>155</td>\n      <td>44.0</td>\n      <td>2.0</td>\n      <td>4.0</td>\n      <td>3.0</td>\n      <td>...</td>\n      <td>46</td>\n      <td>否</td>\n      <td>是</td>\n      <td>是</td>\n      <td>倾向是</td>\n      <td>是</td>\n      <td>否</td>\n      <td>是</td>\n      <td>是</td>\n      <td>是</td>\n    </tr>\n    <tr>\n      <th>7</th>\n      <td>8</td>\n      <td>3210707019</td>\n      <td>李海智</td>\n      <td>18</td>\n      <td>1</td>\n      <td>178</td>\n      <td>65.0</td>\n      <td>3.0</td>\n      <td>3.0</td>\n      <td>2.0</td>\n      <td>...</td>\n      <td>46</td>\n      <td>否</td>\n      <td>倾向是</td>\n      <td>倾向是</td>\n      <td>倾向是</td>\n      <td>倾向是</td>\n      <td>否</td>\n      <td>否</td>\n      <td>倾向是</td>\n      <td>是</td>\n    </tr>\n    <tr>\n      <th>8</th>\n      <td>9</td>\n      <td>3210707002</td>\n      <td>刘兰</td>\n      <td>20</td>\n      <td>2</td>\n      <td>161</td>\n      <td>44.0</td>\n      <td>2.0</td>\n      <td>4.0</td>\n      <td>3.0</td>\n      <td>...</td>\n      <td>4</td>\n      <td>倾向是</td>\n      <td>倾向是</td>\n      <td>否</td>\n      <td>倾向是</td>\n      <td>否</td>\n      <td>否</td>\n      <td>否</td>\n      <td>否</td>\n      <td>否</td>\n    </tr>\n    <tr>\n      <th>9</th>\n      <td>10</td>\n      <td>3210707026</td>\n      <td>黄建锐</td>\n      <td>20</td>\n      <td>1</td>\n      <td>170</td>\n      <td>120.0</td>\n      <td>2.0</td>\n      <td>3.0</td>\n      <td>3.0</td>\n      <td>...</td>\n      <td>14</td>\n      <td>否</td>\n      <td>是</td>\n      <td>是</td>\n      <td>是</td>\n      <td>是</td>\n      <td>倾向是</td>\n      <td>否</td>\n      <td>倾向是</td>\n      <td>否</td>\n    </tr>\n    <tr>\n      <th>10</th>\n      <td>11</td>\n      <td>3210707051</td>\n      <td>俞琪</td>\n      <td>19</td>\n      <td>2</td>\n      <td>159</td>\n      <td>60.0</td>\n      <td>2.0</td>\n      <td>3.0</td>\n      <td>3.0</td>\n      <td>...</td>\n      <td>11</td>\n      <td>否</td>\n      <td>否</td>\n      <td>倾向是</td>\n      <td>否</td>\n      <td>否</td>\n      <td>否</td>\n      <td>是</td>\n      <td>否</td>\n      <td>否</td>\n    </tr>\n    <tr>\n      <th>11</th>\n      <td>12</td>\n      <td>3210707027</td>\n      <td>王嘉欣</td>\n      <td>19</td>\n      <td>2</td>\n      <td>158</td>\n      <td>59.0</td>\n      <td>2.0</td>\n      <td>4.0</td>\n      <td>2.0</td>\n      <td>...</td>\n      <td>36</td>\n      <td>否</td>\n      <td>倾向是</td>\n      <td>是</td>\n      <td>是</td>\n      <td>否</td>\n      <td>是</td>\n      <td>是</td>\n      <td>倾向是</td>\n      <td>倾向是</td>\n    </tr>\n    <tr>\n      <th>12</th>\n      <td>13</td>\n      <td>3210707053</td>\n      <td>焦航</td>\n      <td>20</td>\n      <td>1</td>\n      <td>178</td>\n      <td>68.0</td>\n      <td>2.0</td>\n      <td>3.0</td>\n      <td>3.0</td>\n      <td>...</td>\n      <td>25</td>\n      <td>否</td>\n      <td>倾向是</td>\n      <td>否</td>\n      <td>否</td>\n      <td>否</td>\n      <td>否</td>\n      <td>否</td>\n      <td>倾向是</td>\n      <td>否</td>\n    </tr>\n    <tr>\n      <th>13</th>\n      <td>14</td>\n      <td>3210707017</td>\n      <td>张丽瑄</td>\n      <td>19</td>\n      <td>2</td>\n      <td>160</td>\n      <td>44.0</td>\n      <td>3.0</td>\n      <td>3.0</td>\n      <td>3.0</td>\n      <td>...</td>\n      <td>14</td>\n      <td>否</td>\n      <td>是</td>\n      <td>倾向是</td>\n      <td>倾向是</td>\n      <td>否</td>\n      <td>倾向是</td>\n      <td>是</td>\n      <td>是</td>\n      <td>否</td>\n    </tr>\n    <tr>\n      <th>14</th>\n      <td>15</td>\n      <td>3210707040</td>\n      <td>何伟</td>\n      <td>19</td>\n      <td>1</td>\n      <td>161</td>\n      <td>49.0</td>\n      <td>2.0</td>\n      <td>5.0</td>\n      <td>2.0</td>\n      <td>...</td>\n      <td>7</td>\n      <td>是</td>\n      <td>否</td>\n      <td>否</td>\n      <td>否</td>\n      <td>否</td>\n      <td>否</td>\n      <td>否</td>\n      <td>否</td>\n      <td>否</td>\n    </tr>\n    <tr>\n      <th>15</th>\n      <td>16</td>\n      <td>3210707030</td>\n      <td>郑美珠</td>\n      <td>19</td>\n      <td>2</td>\n      <td>165</td>\n      <td>54.0</td>\n      <td>2.0</td>\n      <td>4.0</td>\n      <td>2.0</td>\n      <td>...</td>\n      <td>25</td>\n      <td>否</td>\n      <td>否</td>\n      <td>倾向是</td>\n      <td>是</td>\n      <td>否</td>\n      <td>否</td>\n      <td>倾向是</td>\n      <td>倾向是</td>\n      <td>否</td>\n    </tr>\n    <tr>\n      <th>16</th>\n      <td>17</td>\n      <td>3210707016</td>\n      <td>吴煜城</td>\n      <td>20</td>\n      <td>1</td>\n      <td>170</td>\n      <td>60.0</td>\n      <td>2.0</td>\n      <td>4.0</td>\n      <td>4.0</td>\n      <td>...</td>\n      <td>11</td>\n      <td>倾向是</td>\n      <td>倾向是</td>\n      <td>否</td>\n      <td>否</td>\n      <td>否</td>\n      <td>倾向是</td>\n      <td>否</td>\n      <td>否</td>\n      <td>否</td>\n    </tr>\n    <tr>\n      <th>17</th>\n      <td>18</td>\n      <td>3210707010</td>\n      <td>李健铭</td>\n      <td>20</td>\n      <td>1</td>\n      <td>172</td>\n      <td>76.0</td>\n      <td>2.0</td>\n      <td>4.0</td>\n      <td>3.0</td>\n      <td>...</td>\n      <td>29</td>\n      <td>倾向是</td>\n      <td>否</td>\n      <td>否</td>\n      <td>否</td>\n      <td>否</td>\n      <td>否</td>\n      <td>倾向是</td>\n      <td>否</td>\n      <td>否</td>\n    </tr>\n    <tr>\n      <th>18</th>\n      <td>19</td>\n      <td>3210707046</td>\n      <td>郝怡容</td>\n      <td>21</td>\n      <td>2</td>\n      <td>167</td>\n      <td>58.0</td>\n      <td>1.0</td>\n      <td>3.0</td>\n      <td>3.0</td>\n      <td>...</td>\n      <td>21</td>\n      <td>否</td>\n      <td>是</td>\n      <td>是</td>\n      <td>是</td>\n      <td>倾向是</td>\n      <td>是</td>\n      <td>是</td>\n      <td>是</td>\n      <td>否</td>\n    </tr>\n    <tr>\n      <th>19</th>\n      <td>20</td>\n      <td>3210707056</td>\n      <td>黎东康</td>\n      <td>20</td>\n      <td>1</td>\n      <td>175</td>\n      <td>56.0</td>\n      <td>2.0</td>\n      <td>3.0</td>\n      <td>3.0</td>\n      <td>...</td>\n      <td>21</td>\n      <td>否</td>\n      <td>是</td>\n      <td>是</td>\n      <td>是</td>\n      <td>是</td>\n      <td>倾向是</td>\n      <td>否</td>\n      <td>是</td>\n      <td>否</td>\n    </tr>\n    <tr>\n      <th>20</th>\n      <td>21</td>\n      <td>3210707052</td>\n      <td>杨铝</td>\n      <td>20</td>\n      <td>1</td>\n      <td>170</td>\n      <td>60.0</td>\n      <td>2.0</td>\n      <td>3.0</td>\n      <td>3.0</td>\n      <td>...</td>\n      <td>39</td>\n      <td>倾向是</td>\n      <td>倾向是</td>\n      <td>倾向是</td>\n      <td>否</td>\n      <td>否</td>\n      <td>倾向是</td>\n      <td>否</td>\n      <td>否</td>\n      <td>倾向是</td>\n    </tr>\n    <tr>\n      <th>21</th>\n      <td>22</td>\n      <td>3210707055</td>\n      <td>王耀鹏</td>\n      <td>20</td>\n      <td>1</td>\n      <td>175</td>\n      <td>90.0</td>\n      <td>2.0</td>\n      <td>3.0</td>\n      <td>3.0</td>\n      <td>...</td>\n      <td>14</td>\n      <td>否</td>\n      <td>是</td>\n      <td>否</td>\n      <td>否</td>\n      <td>否</td>\n      <td>倾向是</td>\n      <td>否</td>\n      <td>倾向是</td>\n      <td>否</td>\n    </tr>\n    <tr>\n      <th>22</th>\n      <td>23</td>\n      <td>3210707057</td>\n      <td>王益民</td>\n      <td>18</td>\n      <td>1</td>\n      <td>183</td>\n      <td>138.0</td>\n      <td>4.0</td>\n      <td>4.0</td>\n      <td>3.0</td>\n      <td>...</td>\n      <td>29</td>\n      <td>否</td>\n      <td>是</td>\n      <td>是</td>\n      <td>是</td>\n      <td>否</td>\n      <td>是</td>\n      <td>倾向是</td>\n      <td>否</td>\n      <td>否</td>\n    </tr>\n    <tr>\n      <th>23</th>\n      <td>24</td>\n      <td>3210707013</td>\n      <td>李佳佳</td>\n      <td>19</td>\n      <td>2</td>\n      <td>167</td>\n      <td>128.0</td>\n      <td>2.0</td>\n      <td>3.0</td>\n      <td>3.0</td>\n      <td>...</td>\n      <td>36</td>\n      <td>否</td>\n      <td>倾向是</td>\n      <td>是</td>\n      <td>倾向是</td>\n      <td>否</td>\n      <td>是</td>\n      <td>是</td>\n      <td>否</td>\n      <td>倾向是</td>\n    </tr>\n    <tr>\n      <th>24</th>\n      <td>25</td>\n      <td>3210707059</td>\n      <td>冯子斌</td>\n      <td>20</td>\n      <td>1</td>\n      <td>175</td>\n      <td>67.0</td>\n      <td>3.0</td>\n      <td>5.0</td>\n      <td>1.0</td>\n      <td>...</td>\n      <td>14</td>\n      <td>是</td>\n      <td>否</td>\n      <td>否</td>\n      <td>否</td>\n      <td>否</td>\n      <td>否</td>\n      <td>否</td>\n      <td>否</td>\n      <td>否</td>\n    </tr>\n    <tr>\n      <th>25</th>\n      <td>26</td>\n      <td>3210707007</td>\n      <td>谢晓丹</td>\n      <td>20</td>\n      <td>2</td>\n      <td>167</td>\n      <td>46.0</td>\n      <td>3.0</td>\n      <td>4.0</td>\n      <td>4.0</td>\n      <td>...</td>\n      <td>43</td>\n      <td>否</td>\n      <td>是</td>\n      <td>是</td>\n      <td>是</td>\n      <td>倾向是</td>\n      <td>倾向是</td>\n      <td>倾向是</td>\n      <td>倾向是</td>\n      <td>是</td>\n    </tr>\n    <tr>\n      <th>26</th>\n      <td>27</td>\n      <td>3210707034</td>\n      <td>陈海林</td>\n      <td>21</td>\n      <td>1</td>\n      <td>171</td>\n      <td>53.0</td>\n      <td>2.0</td>\n      <td>4.0</td>\n      <td>3.0</td>\n      <td>...</td>\n      <td>14</td>\n      <td>是</td>\n      <td>否</td>\n      <td>否</td>\n      <td>否</td>\n      <td>否</td>\n      <td>否</td>\n      <td>否</td>\n      <td>否</td>\n      <td>否</td>\n    </tr>\n    <tr>\n      <th>27</th>\n      <td>28</td>\n      <td>3210707020</td>\n      <td>余昕玥</td>\n      <td>19</td>\n      <td>2</td>\n      <td>170</td>\n      <td>63.0</td>\n      <td>2.0</td>\n      <td>3.0</td>\n      <td>3.0</td>\n      <td>...</td>\n      <td>21</td>\n      <td>否</td>\n      <td>是</td>\n      <td>倾向是</td>\n      <td>是</td>\n      <td>否</td>\n      <td>是</td>\n      <td>倾向是</td>\n      <td>是</td>\n      <td>否</td>\n    </tr>\n    <tr>\n      <th>28</th>\n      <td>29</td>\n      <td>3210707047</td>\n      <td>张轶文</td>\n      <td>21</td>\n      <td>1</td>\n      <td>162</td>\n      <td>75.0</td>\n      <td>2.0</td>\n      <td>4.0</td>\n      <td>3.0</td>\n      <td>...</td>\n      <td>4</td>\n      <td>倾向是</td>\n      <td>否</td>\n      <td>否</td>\n      <td>否</td>\n      <td>否</td>\n      <td>否</td>\n      <td>倾向是</td>\n      <td>否</td>\n      <td>否</td>\n    </tr>\n    <tr>\n      <th>29</th>\n      <td>30</td>\n      <td>3210707022</td>\n      <td>侯晨露</td>\n      <td>20</td>\n      <td>2</td>\n      <td>165</td>\n      <td>95.0</td>\n      <td>3.0</td>\n      <td>3.0</td>\n      <td>4.0</td>\n      <td>...</td>\n      <td>46</td>\n      <td>否</td>\n      <td>是</td>\n      <td>是</td>\n      <td>是</td>\n      <td>倾向是</td>\n      <td>是</td>\n      <td>是</td>\n      <td>是</td>\n      <td>是</td>\n    </tr>\n    <tr>\n      <th>30</th>\n      <td>31</td>\n      <td>3210707004</td>\n      <td>廖丽珍</td>\n      <td>20</td>\n      <td>2</td>\n      <td>160</td>\n      <td>47.0</td>\n      <td>2.0</td>\n      <td>3.0</td>\n      <td>2.0</td>\n      <td>...</td>\n      <td>21</td>\n      <td>是</td>\n      <td>否</td>\n      <td>否</td>\n      <td>否</td>\n      <td>否</td>\n      <td>否</td>\n      <td>否</td>\n      <td>否</td>\n      <td>否</td>\n    </tr>\n    <tr>\n      <th>31</th>\n      <td>32</td>\n      <td>(空)</td>\n      <td>(空)</td>\n      <td>19</td>\n      <td>2</td>\n      <td>160</td>\n      <td>NaN</td>\n      <td>2.0</td>\n      <td>4.0</td>\n      <td>3.0</td>\n      <td>...</td>\n      <td>25</td>\n      <td>倾向是</td>\n      <td>否</td>\n      <td>否</td>\n      <td>倾向是</td>\n      <td>否</td>\n      <td>否</td>\n      <td>否</td>\n      <td>否</td>\n      <td>否</td>\n    </tr>\n    <tr>\n      <th>32</th>\n      <td>33</td>\n      <td>3210707018</td>\n      <td>蔡世鹏</td>\n      <td>19</td>\n      <td>1</td>\n      <td>160</td>\n      <td>58.0</td>\n      <td>2.0</td>\n      <td>1.0</td>\n      <td>3.0</td>\n      <td>...</td>\n      <td>25</td>\n      <td>是</td>\n      <td>否</td>\n      <td>否</td>\n      <td>否</td>\n      <td>否</td>\n      <td>否</td>\n      <td>否</td>\n      <td>否</td>\n      <td>否</td>\n    </tr>\n    <tr>\n      <th>33</th>\n      <td>34</td>\n      <td>3210707014</td>\n      <td>钟稚琴</td>\n      <td>21</td>\n      <td>2</td>\n      <td>162</td>\n      <td>48.0</td>\n      <td>2.0</td>\n      <td>4.0</td>\n      <td>3.0</td>\n      <td>...</td>\n      <td>32</td>\n      <td>否</td>\n      <td>倾向是</td>\n      <td>倾向是</td>\n      <td>否</td>\n      <td>否</td>\n      <td>是</td>\n      <td>是</td>\n      <td>倾向是</td>\n      <td>倾向是</td>\n    </tr>\n    <tr>\n      <th>34</th>\n      <td>35</td>\n      <td>3210707060</td>\n      <td>陈剑峰</td>\n      <td>20</td>\n      <td>1</td>\n      <td>170</td>\n      <td>54.0</td>\n      <td>2.0</td>\n      <td>4.0</td>\n      <td>4.0</td>\n      <td>...</td>\n      <td>14</td>\n      <td>是</td>\n      <td>否</td>\n      <td>否</td>\n      <td>否</td>\n      <td>否</td>\n      <td>否</td>\n      <td>否</td>\n      <td>否</td>\n      <td>否</td>\n    </tr>\n    <tr>\n      <th>35</th>\n      <td>36</td>\n      <td>3210707006</td>\n      <td>罗清香</td>\n      <td>19</td>\n      <td>2</td>\n      <td>161</td>\n      <td>53.0</td>\n      <td>2.0</td>\n      <td>5.0</td>\n      <td>2.0</td>\n      <td>...</td>\n      <td>29</td>\n      <td>否</td>\n      <td>倾向是</td>\n      <td>否</td>\n      <td>否</td>\n      <td>否</td>\n      <td>否</td>\n      <td>是</td>\n      <td>倾向是</td>\n      <td>否</td>\n    </tr>\n    <tr>\n      <th>36</th>\n      <td>37</td>\n      <td>3210707012</td>\n      <td>胡羽心</td>\n      <td>19</td>\n      <td>2</td>\n      <td>155</td>\n      <td>44.0</td>\n      <td>3.0</td>\n      <td>3.0</td>\n      <td>3.0</td>\n      <td>...</td>\n      <td>46</td>\n      <td>否</td>\n      <td>倾向是</td>\n      <td>否</td>\n      <td>否</td>\n      <td>是</td>\n      <td>倾向是</td>\n      <td>倾向是</td>\n      <td>倾向是</td>\n      <td>是</td>\n    </tr>\n    <tr>\n      <th>37</th>\n      <td>38</td>\n      <td>3210707015</td>\n      <td>官祥杰</td>\n      <td>20</td>\n      <td>1</td>\n      <td>177</td>\n      <td>76.0</td>\n      <td>2.0</td>\n      <td>4.0</td>\n      <td>2.0</td>\n      <td>...</td>\n      <td>29</td>\n      <td>否</td>\n      <td>倾向是</td>\n      <td>否</td>\n      <td>倾向是</td>\n      <td>倾向是</td>\n      <td>倾向是</td>\n      <td>是</td>\n      <td>倾向是</td>\n      <td>否</td>\n    </tr>\n    <tr>\n      <th>38</th>\n      <td>39</td>\n      <td>321707029</td>\n      <td>杜思婷</td>\n      <td>19</td>\n      <td>2</td>\n      <td>168</td>\n      <td>63.0</td>\n      <td>2.0</td>\n      <td>3.0</td>\n      <td>3.0</td>\n      <td>...</td>\n      <td>29</td>\n      <td>否</td>\n      <td>否</td>\n      <td>否</td>\n      <td>是</td>\n      <td>否</td>\n      <td>倾向是</td>\n      <td>倾向是</td>\n      <td>否</td>\n      <td>否</td>\n    </tr>\n    <tr>\n      <th>39</th>\n      <td>40</td>\n      <td>3210707023</td>\n      <td>刘远龙</td>\n      <td>20</td>\n      <td>1</td>\n      <td>180</td>\n      <td>55.0</td>\n      <td>2.0</td>\n      <td>4.0</td>\n      <td>2.0</td>\n      <td>...</td>\n      <td>7</td>\n      <td>否</td>\n      <td>否</td>\n      <td>否</td>\n      <td>否</td>\n      <td>否</td>\n      <td>否</td>\n      <td>否</td>\n      <td>否</td>\n      <td>否</td>\n    </tr>\n    <tr>\n      <th>40</th>\n      <td>41</td>\n      <td>3210707001</td>\n      <td>田杰红</td>\n      <td>21</td>\n      <td>2</td>\n      <td>155</td>\n      <td>57.0</td>\n      <td>2.0</td>\n      <td>3.0</td>\n      <td>3.0</td>\n      <td>...</td>\n      <td>7</td>\n      <td>倾向是</td>\n      <td>否</td>\n      <td>否</td>\n      <td>否</td>\n      <td>否</td>\n      <td>倾向是</td>\n      <td>倾向是</td>\n      <td>否</td>\n      <td>否</td>\n    </tr>\n    <tr>\n      <th>41</th>\n      <td>42</td>\n      <td>3210707005</td>\n      <td>王诗琴</td>\n      <td>19</td>\n      <td>2</td>\n      <td>165</td>\n      <td>50.0</td>\n      <td>2.0</td>\n      <td>4.0</td>\n      <td>3.0</td>\n      <td>...</td>\n      <td>0</td>\n      <td>是</td>\n      <td>否</td>\n      <td>否</td>\n      <td>否</td>\n      <td>否</td>\n      <td>否</td>\n      <td>否</td>\n      <td>否</td>\n      <td>否</td>\n    </tr>\n    <tr>\n      <th>42</th>\n      <td>43</td>\n      <td>3210707031</td>\n      <td>何端锴</td>\n      <td>20</td>\n      <td>1</td>\n      <td>172</td>\n      <td>57.0</td>\n      <td>3.0</td>\n      <td>4.0</td>\n      <td>4.0</td>\n      <td>...</td>\n      <td>36</td>\n      <td>倾向是</td>\n      <td>倾向是</td>\n      <td>否</td>\n      <td>倾向是</td>\n      <td>否</td>\n      <td>否</td>\n      <td>否</td>\n      <td>倾向是</td>\n      <td>倾向是</td>\n    </tr>\n    <tr>\n      <th>43</th>\n      <td>44</td>\n      <td>3210707024</td>\n      <td>胡远媛</td>\n      <td>20</td>\n      <td>2</td>\n      <td>156</td>\n      <td>49.0</td>\n      <td>2.0</td>\n      <td>3.0</td>\n      <td>3.0</td>\n      <td>...</td>\n      <td>43</td>\n      <td>否</td>\n      <td>是</td>\n      <td>是</td>\n      <td>是</td>\n      <td>否</td>\n      <td>否</td>\n      <td>否</td>\n      <td>倾向是</td>\n      <td>是</td>\n    </tr>\n    <tr>\n      <th>44</th>\n      <td>45</td>\n      <td>3210707049</td>\n      <td>朱康</td>\n      <td>20</td>\n      <td>1</td>\n      <td>180</td>\n      <td>72.0</td>\n      <td>2.0</td>\n      <td>3.0</td>\n      <td>3.0</td>\n      <td>...</td>\n      <td>39</td>\n      <td>倾向是</td>\n      <td>否</td>\n      <td>否</td>\n      <td>否</td>\n      <td>否</td>\n      <td>否</td>\n      <td>否</td>\n      <td>否</td>\n      <td>倾向是</td>\n    </tr>\n    <tr>\n      <th>45</th>\n      <td>46</td>\n      <td>3210707044</td>\n      <td>许雪敏</td>\n      <td>19</td>\n      <td>2</td>\n      <td>170</td>\n      <td>56.0</td>\n      <td>2.0</td>\n      <td>4.0</td>\n      <td>3.0</td>\n      <td>...</td>\n      <td>7</td>\n      <td>否</td>\n      <td>倾向是</td>\n      <td>是</td>\n      <td>倾向是</td>\n      <td>是</td>\n      <td>倾向是</td>\n      <td>否</td>\n      <td>是</td>\n      <td>否</td>\n    </tr>\n    <tr>\n      <th>46</th>\n      <td>47</td>\n      <td>3210707038</td>\n      <td>陈俊</td>\n      <td>20</td>\n      <td>1</td>\n      <td>170</td>\n      <td>55.0</td>\n      <td>NaN</td>\n      <td>NaN</td>\n      <td>NaN</td>\n      <td>...</td>\n      <td>25</td>\n      <td>否</td>\n      <td>是</td>\n      <td>否</td>\n      <td>倾向是</td>\n      <td>否</td>\n      <td>倾向是</td>\n      <td>否</td>\n      <td>否</td>\n      <td>否</td>\n    </tr>\n  </tbody>\n</table>\n<p>47 rows × 86 columns</p>\n</div>"
     },
     "execution_count": 3,
     "metadata": {},
     "output_type": "execute_result"
    }
   ],
   "source": [
    "# 读取经过处理的体质表（已经过去重处理，并计算出相应的体质信息）\n",
    "df = pd.read_excel(r\"C:\\Users\\32858\\Desktop\\中医体质问卷分析\\中医体质问卷_21信管_第一轮 .xlsx\")\n",
    "df"
   ]
  },
  {
   "cell_type": "markdown",
   "metadata": {
    "collapsed": false,
    "jupyter": {
     "outputs_hidden": false
    }
   },
   "source": [
    "## 检查数据是否有缺失值，由于有缺失值无法获得正确的体质信息，故直接舍去"
   ]
  },
  {
   "cell_type": "code",
   "execution_count": 4,
   "metadata": {
    "ExecuteTime": {
     "start_time": "2024-06-02T12:24:33.072068Z",
     "end_time": "2024-06-02T12:24:33.076052Z"
    },
    "collapsed": false,
    "jupyter": {
     "outputs_hidden": false
    }
   },
   "outputs": [
    {
     "name": "stdout",
     "output_type": "stream",
     "text": [
      "len_df=47\n",
      "len_df=47\n"
     ]
    }
   ],
   "source": [
    "# 截取包含9中体质得分的数据\n",
    "df1 = df[['平和质转化分', '气虚质转化分', '阳虚质转化分', '阴虚质转化分', '痰湿质转化分', '湿热质转化分', '瘀血质转化分', '气郁质转化分', '特禀质转化分']]\n",
    "\n",
    "# 检查、处理缺失值\n",
    "print(f'len_df={len(df)}')\n",
    "df1 = df1.dropna()\n",
    "print(f'len_df={len(df)}')"
   ]
  },
  {
   "cell_type": "markdown",
   "metadata": {
    "collapsed": false,
    "jupyter": {
     "outputs_hidden": false
    }
   },
   "source": [
    "### （1）计算全班9种体质类型的平均分、标准差等基础数据\n",
    "#### count:计数（数据条数）\n",
    "#### mean:均值\n",
    "#### std:标准差\n",
    "#### min:最小值\n",
    "#### 25%:下四分位数\n",
    "#### 50%:中分位数\n",
    "#### 75%:上四分位数\n",
    "#### max:最大值"
   ]
  },
  {
   "cell_type": "code",
   "execution_count": 5,
   "metadata": {
    "ExecuteTime": {
     "start_time": "2024-06-02T12:24:33.076052Z",
     "end_time": "2024-06-02T12:24:33.092563Z"
    },
    "collapsed": false,
    "jupyter": {
     "outputs_hidden": false
    }
   },
   "outputs": [
    {
     "data": {
      "text/plain": "           平和质转化分     气虚质转化分     阳虚质转化分     阴虚质转化分     痰湿质转化分     湿热质转化分  \\\ncount   47.000000  47.000000  47.000000  47.000000  47.000000  47.000000   \nmean    62.361702  33.510638  30.382979  30.000000  21.702128  27.361702   \nstd     12.513342  14.141939  16.271545  12.692004  12.741433  13.713569   \nmin     32.000000   0.000000   0.000000   0.000000   0.000000   0.000000   \n25%     55.500000  23.500000  21.000000  22.000000  13.000000  18.000000   \n50%     61.000000  31.000000  29.000000  28.000000  22.000000  29.000000   \n75%     68.000000  44.000000  41.000000  41.000000  29.500000  36.000000   \nmax    100.000000  72.000000  71.000000  56.000000  50.000000  61.000000   \n\n          瘀血质转化分     气郁质转化分     特禀质转化分  \ncount  47.000000  47.000000  47.000000  \nmean   28.851064  28.574468  23.680851  \nstd    14.449280  13.882652  14.208244  \nmin     0.000000   0.000000   0.000000  \n25%    18.000000  18.000000  12.500000  \n50%    29.000000  29.000000  25.000000  \n75%    39.000000  39.000000  36.000000  \nmax    71.000000  54.000000  50.000000  ",
      "text/html": "<div>\n<style scoped>\n    .dataframe tbody tr th:only-of-type {\n        vertical-align: middle;\n    }\n\n    .dataframe tbody tr th {\n        vertical-align: top;\n    }\n\n    .dataframe thead th {\n        text-align: right;\n    }\n</style>\n<table border=\"1\" class=\"dataframe\">\n  <thead>\n    <tr style=\"text-align: right;\">\n      <th></th>\n      <th>平和质转化分</th>\n      <th>气虚质转化分</th>\n      <th>阳虚质转化分</th>\n      <th>阴虚质转化分</th>\n      <th>痰湿质转化分</th>\n      <th>湿热质转化分</th>\n      <th>瘀血质转化分</th>\n      <th>气郁质转化分</th>\n      <th>特禀质转化分</th>\n    </tr>\n  </thead>\n  <tbody>\n    <tr>\n      <th>count</th>\n      <td>47.000000</td>\n      <td>47.000000</td>\n      <td>47.000000</td>\n      <td>47.000000</td>\n      <td>47.000000</td>\n      <td>47.000000</td>\n      <td>47.000000</td>\n      <td>47.000000</td>\n      <td>47.000000</td>\n    </tr>\n    <tr>\n      <th>mean</th>\n      <td>62.361702</td>\n      <td>33.510638</td>\n      <td>30.382979</td>\n      <td>30.000000</td>\n      <td>21.702128</td>\n      <td>27.361702</td>\n      <td>28.851064</td>\n      <td>28.574468</td>\n      <td>23.680851</td>\n    </tr>\n    <tr>\n      <th>std</th>\n      <td>12.513342</td>\n      <td>14.141939</td>\n      <td>16.271545</td>\n      <td>12.692004</td>\n      <td>12.741433</td>\n      <td>13.713569</td>\n      <td>14.449280</td>\n      <td>13.882652</td>\n      <td>14.208244</td>\n    </tr>\n    <tr>\n      <th>min</th>\n      <td>32.000000</td>\n      <td>0.000000</td>\n      <td>0.000000</td>\n      <td>0.000000</td>\n      <td>0.000000</td>\n      <td>0.000000</td>\n      <td>0.000000</td>\n      <td>0.000000</td>\n      <td>0.000000</td>\n    </tr>\n    <tr>\n      <th>25%</th>\n      <td>55.500000</td>\n      <td>23.500000</td>\n      <td>21.000000</td>\n      <td>22.000000</td>\n      <td>13.000000</td>\n      <td>18.000000</td>\n      <td>18.000000</td>\n      <td>18.000000</td>\n      <td>12.500000</td>\n    </tr>\n    <tr>\n      <th>50%</th>\n      <td>61.000000</td>\n      <td>31.000000</td>\n      <td>29.000000</td>\n      <td>28.000000</td>\n      <td>22.000000</td>\n      <td>29.000000</td>\n      <td>29.000000</td>\n      <td>29.000000</td>\n      <td>25.000000</td>\n    </tr>\n    <tr>\n      <th>75%</th>\n      <td>68.000000</td>\n      <td>44.000000</td>\n      <td>41.000000</td>\n      <td>41.000000</td>\n      <td>29.500000</td>\n      <td>36.000000</td>\n      <td>39.000000</td>\n      <td>39.000000</td>\n      <td>36.000000</td>\n    </tr>\n    <tr>\n      <th>max</th>\n      <td>100.000000</td>\n      <td>72.000000</td>\n      <td>71.000000</td>\n      <td>56.000000</td>\n      <td>50.000000</td>\n      <td>61.000000</td>\n      <td>71.000000</td>\n      <td>54.000000</td>\n      <td>50.000000</td>\n    </tr>\n  </tbody>\n</table>\n</div>"
     },
     "execution_count": 5,
     "metadata": {},
     "output_type": "execute_result"
    }
   ],
   "source": [
    "df1.describe()"
   ]
  },
  {
   "cell_type": "markdown",
   "metadata": {
    "collapsed": false,
    "jupyter": {
     "outputs_hidden": false
    }
   },
   "source": [
    "### 由上述分析结果可知，“平和质转化分”中最大值为100，远超上四分位数及其均值，判断为填写时被调查者未认真填写，故在研究总体体质分布时，应舍去该值所在的那条信息；\n",
    "### 各体质方差分布于[10.688112，16.450027],分布相对集中"
   ]
  },
  {
   "cell_type": "markdown",
   "metadata": {
    "collapsed": false,
    "jupyter": {
     "outputs_hidden": false
    }
   },
   "source": [
    "### （2）计算全班不同性别同学9种体质类型的平均分、标准差；\n",
    "#### 按性别分组，后计算题均值、方差\n",
    "#### 1:男\n",
    "#### 2:女"
   ]
  },
  {
   "cell_type": "code",
   "execution_count": 6,
   "metadata": {
    "ExecuteTime": {
     "start_time": "2024-06-02T12:24:33.092563Z",
     "end_time": "2024-06-02T12:24:33.101096Z"
    },
    "collapsed": false,
    "jupyter": {
     "outputs_hidden": false
    }
   },
   "outputs": [
    {
     "name": "stdout",
     "output_type": "stream",
     "text": [
      "均值如下：\n",
      "       平和质转化分     气虚质转化分     阳虚质转化分     阴虚质转化分     痰湿质转化分     湿热质转化分  \\\n",
      "性别                                                                     \n",
      "1   65.478261  31.565217  23.565217  26.347826  20.956522  23.695652   \n",
      "2   59.375000  35.375000  36.916667  33.500000  22.416667  30.875000   \n",
      "\n",
      "       瘀血质转化分     气郁质转化分     特禀质转化分  \n",
      "性别                                   \n",
      "1   21.608696  25.347826  21.869565  \n",
      "2   35.791667  31.666667  25.416667  \n",
      "方差如下：\n",
      "       平和质转化分     气虚质转化分     阳虚质转化分     阴虚质转化分     痰湿质转化分     湿热质转化分  \\\n",
      "性别                                                                     \n",
      "1   13.300272  13.006383  14.390104  12.201374  12.779523  12.433221   \n",
      "2   11.177666  15.190994  15.505726  12.395651  12.937699  14.210567   \n",
      "\n",
      "       瘀血质转化分     气郁质转化分     特禀质转化分  \n",
      "性别                                   \n",
      "1   11.987642  15.537663  13.699052  \n",
      "2   13.318765  11.582095  14.758687  \n"
     ]
    }
   ],
   "source": [
    "# df1表添加一列性别信息，用于分组统计\n",
    "df1['性别'] = df['4、性别']\n",
    "\n",
    "# 分组统计\n",
    "group = df1.groupby(df1['性别'])\n",
    "print('均值如下：')\n",
    "print(f'{group.mean()}')\n",
    "print('方差如下：')\n",
    "print(f'{group.std()}')"
   ]
  },
  {
   "cell_type": "markdown",
   "metadata": {
    "collapsed": false,
    "jupyter": {
     "outputs_hidden": false
    }
   },
   "source": [
    "### (3)全班9种体质类型（是、倾向是、否）的频数分布；\n",
    "#### 先从df表中提取有用列，再统计频率"
   ]
  },
  {
   "cell_type": "code",
   "execution_count": 7,
   "metadata": {
    "ExecuteTime": {
     "start_time": "2024-06-02T12:24:33.101096Z",
     "end_time": "2024-06-02T12:24:33.135610Z"
    },
    "collapsed": false,
    "jupyter": {
     "outputs_hidden": false
    }
   },
   "outputs": [
    {
     "name": "stdout",
     "output_type": "stream",
     "text": [
      "len_df=47\n",
      "len_df=47\n"
     ]
    }
   ],
   "source": [
    "# 提取相关的体质信息df2\n",
    "df2 = df[['平和质（是/否）','气虚质（是/否）','阳虚质（是/否）', '阴虚质（是/否）', '痰湿质（是/否）', '湿热质（是/否）', '淤血质（是/否）', '气郁质（是/否）', '特禀质（是/否）']]\n",
    "\n",
    "# 检查、处理缺失值\n",
    "print(f'len_df={len(df)}')\n",
    "df2 = df2.dropna()\n",
    "print(f'len_df={len(df)}')"
   ]
  },
  {
   "cell_type": "markdown",
   "metadata": {
    "collapsed": false,
    "jupyter": {
     "outputs_hidden": false
    }
   },
   "source": [
    "### 数据中的“否”等信息可能末尾或首部有空格，导致分组时分为多组，故下面要处理首位的空格"
   ]
  },
  {
   "cell_type": "code",
   "execution_count": 8,
   "metadata": {
    "ExecuteTime": {
     "start_time": "2024-06-02T12:24:33.105255Z",
     "end_time": "2024-06-02T12:24:33.182445Z"
    },
    "collapsed": false,
    "jupyter": {
     "outputs_hidden": false
    }
   },
   "outputs": [
    {
     "data": {
      "text/plain": "   平和质（是/否） 气虚质（是/否） 阳虚质（是/否） 阴虚质（是/否） 痰湿质（是/否） 湿热质（是/否） 淤血质（是/否） 气郁质（是/否）  \\\n0         否        是      倾向是        否        否        否        否        是   \n1         否        是      倾向是        是      倾向是      倾向是      倾向是      倾向是   \n2         否        是        是        是      倾向是      倾向是        是        是   \n3         是        否        否        否        否        否        否        否   \n4         是        否        否        否        否        否        否        否   \n5         是        否        否        否        否        否        否        否   \n6         否        是        是      倾向是        是        否        是        是   \n7         否      倾向是      倾向是      倾向是      倾向是        否        否      倾向是   \n8       倾向是      倾向是        否      倾向是        否        否        否        否   \n9         否        是        是        是        是      倾向是        否      倾向是   \n10        否        否      倾向是        否        否        否        是        否   \n11        否      倾向是        是        是        否        是        是      倾向是   \n12        否      倾向是        否        否        否        否        否      倾向是   \n13        否        是      倾向是      倾向是        否      倾向是        是        是   \n14        是        否        否        否        否        否        否        否   \n15        否        否      倾向是        是        否        否      倾向是      倾向是   \n16      倾向是      倾向是        否        否        否      倾向是        否        否   \n17      倾向是        否        否        否        否        否      倾向是        否   \n18        否        是        是        是      倾向是        是        是        是   \n19        否        是        是        是        是      倾向是        否        是   \n20      倾向是      倾向是      倾向是        否        否      倾向是        否        否   \n21        否        是        否        否        否      倾向是        否      倾向是   \n22        否        是        是        是        否        是      倾向是        否   \n23        否      倾向是        是      倾向是        否        是        是        否   \n24        是        否        否        否        否        否        否        否   \n25        否        是        是        是      倾向是      倾向是      倾向是      倾向是   \n26        是        否        否        否        否        否        否        否   \n27        否        是      倾向是        是        否        是      倾向是        是   \n28      倾向是        否        否        否        否        否      倾向是        否   \n29        否        是        是        是      倾向是        是        是        是   \n30        是        否        否        否        否        否        否        否   \n31      倾向是        否        否      倾向是        否        否        否        否   \n32        是        否        否        否        否        否        否        否   \n33        否      倾向是      倾向是        否        否        是        是      倾向是   \n34        是        否        否        否        否        否        否        否   \n35        否      倾向是        否        否        否        否        是      倾向是   \n36        否      倾向是        否        否        是      倾向是      倾向是      倾向是   \n37        否      倾向是        否      倾向是      倾向是      倾向是        是      倾向是   \n38        否        否        否        是        否      倾向是      倾向是        否   \n39        否        否        否        否        否        否        否        否   \n40      倾向是        否        否        否        否      倾向是      倾向是        否   \n41        是        否        否        否        否        否        否        否   \n42      倾向是      倾向是        否      倾向是        否        否        否      倾向是   \n43        否        是        是        是        否        否        否      倾向是   \n44      倾向是        否        否        否        否        否        否        否   \n45        否      倾向是        是      倾向是        是      倾向是        否        是   \n46        否        是        否      倾向是        否      倾向是        否        否   \n\n   特禀质（是/否）  \n0         否  \n1         是  \n2         是  \n3         否  \n4         否  \n5         否  \n6         是  \n7         是  \n8         否  \n9         否  \n10        否  \n11      倾向是  \n12        否  \n13        否  \n14        否  \n15        否  \n16        否  \n17        否  \n18        否  \n19        否  \n20      倾向是  \n21        否  \n22        否  \n23      倾向是  \n24        否  \n25        是  \n26        否  \n27        否  \n28        否  \n29        是  \n30        否  \n31        否  \n32        否  \n33      倾向是  \n34        否  \n35        否  \n36        是  \n37        否  \n38        否  \n39        否  \n40        否  \n41        否  \n42      倾向是  \n43        是  \n44      倾向是  \n45        否  \n46        否  ",
      "text/html": "<div>\n<style scoped>\n    .dataframe tbody tr th:only-of-type {\n        vertical-align: middle;\n    }\n\n    .dataframe tbody tr th {\n        vertical-align: top;\n    }\n\n    .dataframe thead th {\n        text-align: right;\n    }\n</style>\n<table border=\"1\" class=\"dataframe\">\n  <thead>\n    <tr style=\"text-align: right;\">\n      <th></th>\n      <th>平和质（是/否）</th>\n      <th>气虚质（是/否）</th>\n      <th>阳虚质（是/否）</th>\n      <th>阴虚质（是/否）</th>\n      <th>痰湿质（是/否）</th>\n      <th>湿热质（是/否）</th>\n      <th>淤血质（是/否）</th>\n      <th>气郁质（是/否）</th>\n      <th>特禀质（是/否）</th>\n    </tr>\n  </thead>\n  <tbody>\n    <tr>\n      <th>0</th>\n      <td>否</td>\n      <td>是</td>\n      <td>倾向是</td>\n      <td>否</td>\n      <td>否</td>\n      <td>否</td>\n      <td>否</td>\n      <td>是</td>\n      <td>否</td>\n    </tr>\n    <tr>\n      <th>1</th>\n      <td>否</td>\n      <td>是</td>\n      <td>倾向是</td>\n      <td>是</td>\n      <td>倾向是</td>\n      <td>倾向是</td>\n      <td>倾向是</td>\n      <td>倾向是</td>\n      <td>是</td>\n    </tr>\n    <tr>\n      <th>2</th>\n      <td>否</td>\n      <td>是</td>\n      <td>是</td>\n      <td>是</td>\n      <td>倾向是</td>\n      <td>倾向是</td>\n      <td>是</td>\n      <td>是</td>\n      <td>是</td>\n    </tr>\n    <tr>\n      <th>3</th>\n      <td>是</td>\n      <td>否</td>\n      <td>否</td>\n      <td>否</td>\n      <td>否</td>\n      <td>否</td>\n      <td>否</td>\n      <td>否</td>\n      <td>否</td>\n    </tr>\n    <tr>\n      <th>4</th>\n      <td>是</td>\n      <td>否</td>\n      <td>否</td>\n      <td>否</td>\n      <td>否</td>\n      <td>否</td>\n      <td>否</td>\n      <td>否</td>\n      <td>否</td>\n    </tr>\n    <tr>\n      <th>5</th>\n      <td>是</td>\n      <td>否</td>\n      <td>否</td>\n      <td>否</td>\n      <td>否</td>\n      <td>否</td>\n      <td>否</td>\n      <td>否</td>\n      <td>否</td>\n    </tr>\n    <tr>\n      <th>6</th>\n      <td>否</td>\n      <td>是</td>\n      <td>是</td>\n      <td>倾向是</td>\n      <td>是</td>\n      <td>否</td>\n      <td>是</td>\n      <td>是</td>\n      <td>是</td>\n    </tr>\n    <tr>\n      <th>7</th>\n      <td>否</td>\n      <td>倾向是</td>\n      <td>倾向是</td>\n      <td>倾向是</td>\n      <td>倾向是</td>\n      <td>否</td>\n      <td>否</td>\n      <td>倾向是</td>\n      <td>是</td>\n    </tr>\n    <tr>\n      <th>8</th>\n      <td>倾向是</td>\n      <td>倾向是</td>\n      <td>否</td>\n      <td>倾向是</td>\n      <td>否</td>\n      <td>否</td>\n      <td>否</td>\n      <td>否</td>\n      <td>否</td>\n    </tr>\n    <tr>\n      <th>9</th>\n      <td>否</td>\n      <td>是</td>\n      <td>是</td>\n      <td>是</td>\n      <td>是</td>\n      <td>倾向是</td>\n      <td>否</td>\n      <td>倾向是</td>\n      <td>否</td>\n    </tr>\n    <tr>\n      <th>10</th>\n      <td>否</td>\n      <td>否</td>\n      <td>倾向是</td>\n      <td>否</td>\n      <td>否</td>\n      <td>否</td>\n      <td>是</td>\n      <td>否</td>\n      <td>否</td>\n    </tr>\n    <tr>\n      <th>11</th>\n      <td>否</td>\n      <td>倾向是</td>\n      <td>是</td>\n      <td>是</td>\n      <td>否</td>\n      <td>是</td>\n      <td>是</td>\n      <td>倾向是</td>\n      <td>倾向是</td>\n    </tr>\n    <tr>\n      <th>12</th>\n      <td>否</td>\n      <td>倾向是</td>\n      <td>否</td>\n      <td>否</td>\n      <td>否</td>\n      <td>否</td>\n      <td>否</td>\n      <td>倾向是</td>\n      <td>否</td>\n    </tr>\n    <tr>\n      <th>13</th>\n      <td>否</td>\n      <td>是</td>\n      <td>倾向是</td>\n      <td>倾向是</td>\n      <td>否</td>\n      <td>倾向是</td>\n      <td>是</td>\n      <td>是</td>\n      <td>否</td>\n    </tr>\n    <tr>\n      <th>14</th>\n      <td>是</td>\n      <td>否</td>\n      <td>否</td>\n      <td>否</td>\n      <td>否</td>\n      <td>否</td>\n      <td>否</td>\n      <td>否</td>\n      <td>否</td>\n    </tr>\n    <tr>\n      <th>15</th>\n      <td>否</td>\n      <td>否</td>\n      <td>倾向是</td>\n      <td>是</td>\n      <td>否</td>\n      <td>否</td>\n      <td>倾向是</td>\n      <td>倾向是</td>\n      <td>否</td>\n    </tr>\n    <tr>\n      <th>16</th>\n      <td>倾向是</td>\n      <td>倾向是</td>\n      <td>否</td>\n      <td>否</td>\n      <td>否</td>\n      <td>倾向是</td>\n      <td>否</td>\n      <td>否</td>\n      <td>否</td>\n    </tr>\n    <tr>\n      <th>17</th>\n      <td>倾向是</td>\n      <td>否</td>\n      <td>否</td>\n      <td>否</td>\n      <td>否</td>\n      <td>否</td>\n      <td>倾向是</td>\n      <td>否</td>\n      <td>否</td>\n    </tr>\n    <tr>\n      <th>18</th>\n      <td>否</td>\n      <td>是</td>\n      <td>是</td>\n      <td>是</td>\n      <td>倾向是</td>\n      <td>是</td>\n      <td>是</td>\n      <td>是</td>\n      <td>否</td>\n    </tr>\n    <tr>\n      <th>19</th>\n      <td>否</td>\n      <td>是</td>\n      <td>是</td>\n      <td>是</td>\n      <td>是</td>\n      <td>倾向是</td>\n      <td>否</td>\n      <td>是</td>\n      <td>否</td>\n    </tr>\n    <tr>\n      <th>20</th>\n      <td>倾向是</td>\n      <td>倾向是</td>\n      <td>倾向是</td>\n      <td>否</td>\n      <td>否</td>\n      <td>倾向是</td>\n      <td>否</td>\n      <td>否</td>\n      <td>倾向是</td>\n    </tr>\n    <tr>\n      <th>21</th>\n      <td>否</td>\n      <td>是</td>\n      <td>否</td>\n      <td>否</td>\n      <td>否</td>\n      <td>倾向是</td>\n      <td>否</td>\n      <td>倾向是</td>\n      <td>否</td>\n    </tr>\n    <tr>\n      <th>22</th>\n      <td>否</td>\n      <td>是</td>\n      <td>是</td>\n      <td>是</td>\n      <td>否</td>\n      <td>是</td>\n      <td>倾向是</td>\n      <td>否</td>\n      <td>否</td>\n    </tr>\n    <tr>\n      <th>23</th>\n      <td>否</td>\n      <td>倾向是</td>\n      <td>是</td>\n      <td>倾向是</td>\n      <td>否</td>\n      <td>是</td>\n      <td>是</td>\n      <td>否</td>\n      <td>倾向是</td>\n    </tr>\n    <tr>\n      <th>24</th>\n      <td>是</td>\n      <td>否</td>\n      <td>否</td>\n      <td>否</td>\n      <td>否</td>\n      <td>否</td>\n      <td>否</td>\n      <td>否</td>\n      <td>否</td>\n    </tr>\n    <tr>\n      <th>25</th>\n      <td>否</td>\n      <td>是</td>\n      <td>是</td>\n      <td>是</td>\n      <td>倾向是</td>\n      <td>倾向是</td>\n      <td>倾向是</td>\n      <td>倾向是</td>\n      <td>是</td>\n    </tr>\n    <tr>\n      <th>26</th>\n      <td>是</td>\n      <td>否</td>\n      <td>否</td>\n      <td>否</td>\n      <td>否</td>\n      <td>否</td>\n      <td>否</td>\n      <td>否</td>\n      <td>否</td>\n    </tr>\n    <tr>\n      <th>27</th>\n      <td>否</td>\n      <td>是</td>\n      <td>倾向是</td>\n      <td>是</td>\n      <td>否</td>\n      <td>是</td>\n      <td>倾向是</td>\n      <td>是</td>\n      <td>否</td>\n    </tr>\n    <tr>\n      <th>28</th>\n      <td>倾向是</td>\n      <td>否</td>\n      <td>否</td>\n      <td>否</td>\n      <td>否</td>\n      <td>否</td>\n      <td>倾向是</td>\n      <td>否</td>\n      <td>否</td>\n    </tr>\n    <tr>\n      <th>29</th>\n      <td>否</td>\n      <td>是</td>\n      <td>是</td>\n      <td>是</td>\n      <td>倾向是</td>\n      <td>是</td>\n      <td>是</td>\n      <td>是</td>\n      <td>是</td>\n    </tr>\n    <tr>\n      <th>30</th>\n      <td>是</td>\n      <td>否</td>\n      <td>否</td>\n      <td>否</td>\n      <td>否</td>\n      <td>否</td>\n      <td>否</td>\n      <td>否</td>\n      <td>否</td>\n    </tr>\n    <tr>\n      <th>31</th>\n      <td>倾向是</td>\n      <td>否</td>\n      <td>否</td>\n      <td>倾向是</td>\n      <td>否</td>\n      <td>否</td>\n      <td>否</td>\n      <td>否</td>\n      <td>否</td>\n    </tr>\n    <tr>\n      <th>32</th>\n      <td>是</td>\n      <td>否</td>\n      <td>否</td>\n      <td>否</td>\n      <td>否</td>\n      <td>否</td>\n      <td>否</td>\n      <td>否</td>\n      <td>否</td>\n    </tr>\n    <tr>\n      <th>33</th>\n      <td>否</td>\n      <td>倾向是</td>\n      <td>倾向是</td>\n      <td>否</td>\n      <td>否</td>\n      <td>是</td>\n      <td>是</td>\n      <td>倾向是</td>\n      <td>倾向是</td>\n    </tr>\n    <tr>\n      <th>34</th>\n      <td>是</td>\n      <td>否</td>\n      <td>否</td>\n      <td>否</td>\n      <td>否</td>\n      <td>否</td>\n      <td>否</td>\n      <td>否</td>\n      <td>否</td>\n    </tr>\n    <tr>\n      <th>35</th>\n      <td>否</td>\n      <td>倾向是</td>\n      <td>否</td>\n      <td>否</td>\n      <td>否</td>\n      <td>否</td>\n      <td>是</td>\n      <td>倾向是</td>\n      <td>否</td>\n    </tr>\n    <tr>\n      <th>36</th>\n      <td>否</td>\n      <td>倾向是</td>\n      <td>否</td>\n      <td>否</td>\n      <td>是</td>\n      <td>倾向是</td>\n      <td>倾向是</td>\n      <td>倾向是</td>\n      <td>是</td>\n    </tr>\n    <tr>\n      <th>37</th>\n      <td>否</td>\n      <td>倾向是</td>\n      <td>否</td>\n      <td>倾向是</td>\n      <td>倾向是</td>\n      <td>倾向是</td>\n      <td>是</td>\n      <td>倾向是</td>\n      <td>否</td>\n    </tr>\n    <tr>\n      <th>38</th>\n      <td>否</td>\n      <td>否</td>\n      <td>否</td>\n      <td>是</td>\n      <td>否</td>\n      <td>倾向是</td>\n      <td>倾向是</td>\n      <td>否</td>\n      <td>否</td>\n    </tr>\n    <tr>\n      <th>39</th>\n      <td>否</td>\n      <td>否</td>\n      <td>否</td>\n      <td>否</td>\n      <td>否</td>\n      <td>否</td>\n      <td>否</td>\n      <td>否</td>\n      <td>否</td>\n    </tr>\n    <tr>\n      <th>40</th>\n      <td>倾向是</td>\n      <td>否</td>\n      <td>否</td>\n      <td>否</td>\n      <td>否</td>\n      <td>倾向是</td>\n      <td>倾向是</td>\n      <td>否</td>\n      <td>否</td>\n    </tr>\n    <tr>\n      <th>41</th>\n      <td>是</td>\n      <td>否</td>\n      <td>否</td>\n      <td>否</td>\n      <td>否</td>\n      <td>否</td>\n      <td>否</td>\n      <td>否</td>\n      <td>否</td>\n    </tr>\n    <tr>\n      <th>42</th>\n      <td>倾向是</td>\n      <td>倾向是</td>\n      <td>否</td>\n      <td>倾向是</td>\n      <td>否</td>\n      <td>否</td>\n      <td>否</td>\n      <td>倾向是</td>\n      <td>倾向是</td>\n    </tr>\n    <tr>\n      <th>43</th>\n      <td>否</td>\n      <td>是</td>\n      <td>是</td>\n      <td>是</td>\n      <td>否</td>\n      <td>否</td>\n      <td>否</td>\n      <td>倾向是</td>\n      <td>是</td>\n    </tr>\n    <tr>\n      <th>44</th>\n      <td>倾向是</td>\n      <td>否</td>\n      <td>否</td>\n      <td>否</td>\n      <td>否</td>\n      <td>否</td>\n      <td>否</td>\n      <td>否</td>\n      <td>倾向是</td>\n    </tr>\n    <tr>\n      <th>45</th>\n      <td>否</td>\n      <td>倾向是</td>\n      <td>是</td>\n      <td>倾向是</td>\n      <td>是</td>\n      <td>倾向是</td>\n      <td>否</td>\n      <td>是</td>\n      <td>否</td>\n    </tr>\n    <tr>\n      <th>46</th>\n      <td>否</td>\n      <td>是</td>\n      <td>否</td>\n      <td>倾向是</td>\n      <td>否</td>\n      <td>倾向是</td>\n      <td>否</td>\n      <td>否</td>\n      <td>否</td>\n    </tr>\n  </tbody>\n</table>\n</div>"
     },
     "execution_count": 8,
     "metadata": {},
     "output_type": "execute_result"
    }
   ],
   "source": [
    "for col in df2.columns:\n",
    "    df2[col] = df2[col].str.strip()\n",
    "df2"
   ]
  },
  {
   "cell_type": "code",
   "execution_count": 9,
   "metadata": {
    "ExecuteTime": {
     "start_time": "2024-06-02T12:24:33.122890Z",
     "end_time": "2024-06-02T12:24:33.182445Z"
    },
    "collapsed": false,
    "jupyter": {
     "outputs_hidden": false
    }
   },
   "outputs": [],
   "source": [
    "### 再次进行计数统计"
   ]
  },
  {
   "cell_type": "code",
   "execution_count": 10,
   "metadata": {
    "ExecuteTime": {
     "start_time": "2024-06-02T12:24:33.127082Z",
     "end_time": "2024-06-02T12:24:33.182445Z"
    },
    "collapsed": false,
    "jupyter": {
     "outputs_hidden": false
    }
   },
   "outputs": [
    {
     "name": "stdout",
     "output_type": "stream",
     "text": [
      "平和质（是/否） 的频数统计如下：\n",
      "平和质（是/否）\n",
      "否      28\n",
      "是      10\n",
      "倾向是     9\n",
      "Name: count, dtype: int64\n",
      "气虚质（是/否） 的频数统计如下：\n",
      "气虚质（是/否）\n",
      "否      19\n",
      "是      15\n",
      "倾向是    13\n",
      "Name: count, dtype: int64\n",
      "阳虚质（是/否） 的频数统计如下：\n",
      "阳虚质（是/否）\n",
      "否      26\n",
      "是      12\n",
      "倾向是     9\n",
      "Name: count, dtype: int64\n",
      "阴虚质（是/否） 的频数统计如下：\n",
      "阴虚质（是/否）\n",
      "否      24\n",
      "是      13\n",
      "倾向是    10\n",
      "Name: count, dtype: int64\n",
      "痰湿质（是/否） 的频数统计如下：\n",
      "痰湿质（是/否）\n",
      "否      35\n",
      "倾向是     7\n",
      "是       5\n",
      "Name: count, dtype: int64\n",
      "湿热质（是/否） 的频数统计如下：\n",
      "湿热质（是/否）\n",
      "否      25\n",
      "倾向是    15\n",
      "是       7\n",
      "Name: count, dtype: int64\n",
      "淤血质（是/否） 的频数统计如下：\n",
      "淤血质（是/否）\n",
      "否      26\n",
      "是      11\n",
      "倾向是    10\n",
      "Name: count, dtype: int64\n",
      "气郁质（是/否） 的频数统计如下：\n",
      "气郁质（是/否）\n",
      "否      24\n",
      "倾向是    14\n",
      "是       9\n",
      "Name: count, dtype: int64\n",
      "特禀质（是/否） 的频数统计如下：\n",
      "特禀质（是/否）\n",
      "否      33\n",
      "是       8\n",
      "倾向是     6\n",
      "Name: count, dtype: int64\n"
     ]
    }
   ],
   "source": [
    "for col in df2.columns:\n",
    "    value_counts = df2[col].value_counts()\n",
    "    print(f'{col} 的频数统计如下：\\n{value_counts}')\n"
   ]
  },
  {
   "cell_type": "markdown",
   "metadata": {
    "collapsed": false,
    "jupyter": {
     "outputs_hidden": false
    }
   },
   "source": [
    "### （4）全班不同性别同学9种体质类型（是、倾向是、否）的频数分布；"
   ]
  },
  {
   "cell_type": "code",
   "execution_count": 11,
   "metadata": {
    "ExecuteTime": {
     "start_time": "2024-06-02T12:24:33.135610Z",
     "end_time": "2024-06-02T12:24:33.182445Z"
    },
    "collapsed": false,
    "jupyter": {
     "outputs_hidden": false
    }
   },
   "outputs": [
    {
     "name": "stdout",
     "output_type": "stream",
     "text": [
      "性别  平和质（是/否）\n",
      "1   否           11\n",
      "    倾向是          6\n",
      "    是            6\n",
      "2   否           17\n",
      "    是            4\n",
      "    倾向是          3\n",
      "Name: count, dtype: int64\n",
      "性别  气虚质（是/否）\n",
      "1   否           10\n",
      "    是            7\n",
      "    倾向是          6\n",
      "2   否            9\n",
      "    是            8\n",
      "    倾向是          7\n",
      "Name: count, dtype: int64\n",
      "性别  阳虚质（是/否）\n",
      "1   否           16\n",
      "    是            4\n",
      "    倾向是          3\n",
      "2   否           10\n",
      "    是            8\n",
      "    倾向是          6\n",
      "Name: count, dtype: int64\n",
      "性别  阴虚质（是/否）\n",
      "1   否           15\n",
      "    倾向是          4\n",
      "    是            4\n",
      "2   否            9\n",
      "    是            9\n",
      "    倾向是          6\n",
      "Name: count, dtype: int64\n",
      "性别  痰湿质（是/否）\n",
      "1   否           18\n",
      "    倾向是          3\n",
      "    是            2\n",
      "2   否           17\n",
      "    倾向是          4\n",
      "    是            3\n",
      "Name: count, dtype: int64\n",
      "性别  湿热质（是/否）\n",
      "1   否           14\n",
      "    倾向是          8\n",
      "    是            1\n",
      "2   否           11\n",
      "    倾向是          7\n",
      "    是            6\n",
      "Name: count, dtype: int64\n",
      "性别  淤血质（是/否）\n",
      "1   否           18\n",
      "    倾向是          3\n",
      "    是            2\n",
      "2   是            9\n",
      "    否            8\n",
      "    倾向是          7\n",
      "Name: count, dtype: int64\n",
      "性别  气郁质（是/否）\n",
      "1   否           14\n",
      "    倾向是          6\n",
      "    是            3\n",
      "2   否           10\n",
      "    倾向是          8\n",
      "    是            6\n",
      "Name: count, dtype: int64\n",
      "性别  特禀质（是/否）\n",
      "1   否           18\n",
      "    倾向是          3\n",
      "    是            2\n",
      "2   否           15\n",
      "    是            6\n",
      "    倾向是          3\n",
      "Name: count, dtype: int64\n",
      "性别  性别\n",
      "1   1     23\n",
      "2   2     24\n",
      "Name: count, dtype: int64\n"
     ]
    }
   ],
   "source": [
    "# df2表添加一列性别信息，用于分组统计\n",
    "df2['性别'] = df['4、性别']\n",
    "\n",
    "# 分组统计\n",
    "for col in df2.columns:\n",
    "    group = df2[col].groupby(df2['性别'])\n",
    "    print(group.value_counts())"
   ]
  },
  {
   "cell_type": "markdown",
   "metadata": {
    "collapsed": false,
    "jupyter": {
     "outputs_hidden": false
    }
   },
   "source": [
    "### （5）统计所有体质类型判定为“是”的情况，每位同学有可能有多个体质类型判定为“是”，需要增加一列“兼杂体质数”，统计全班兼杂体质的频数分布。\n",
    "#### 首先统计所有体质判定为”是“的计数，并新增“兼杂体质数”列，统计分布\n"
   ]
  },
  {
   "cell_type": "code",
   "execution_count": 12,
   "metadata": {
    "ExecuteTime": {
     "start_time": "2024-06-02T12:24:33.150952Z",
     "end_time": "2024-06-02T12:24:33.182445Z"
    },
    "collapsed": false,
    "jupyter": {
     "outputs_hidden": false
    }
   },
   "outputs": [
    {
     "name": "stdout",
     "output_type": "stream",
     "text": [
      "所有体质中判定为“是”的个数：90\n"
     ]
    }
   ],
   "source": [
    "count = 0\n",
    "# 遍历值，判断是否为“是”\n",
    "for col in df2.columns:\n",
    "    num = (df2[col] == '是').sum()\n",
    "    count += num\n",
    "print(f'所有体质中判定为“是”的个数：{count}')"
   ]
  },
  {
   "cell_type": "markdown",
   "metadata": {
    "collapsed": false,
    "jupyter": {
     "outputs_hidden": false
    }
   },
   "source": [
    "### 添加一列“兼杂体质数”"
   ]
  },
  {
   "cell_type": "code",
   "execution_count": 13,
   "metadata": {
    "ExecuteTime": {
     "start_time": "2024-06-02T12:24:33.155440Z",
     "end_time": "2024-06-02T12:24:33.198068Z"
    },
    "collapsed": false,
    "jupyter": {
     "outputs_hidden": false
    }
   },
   "outputs": [
    {
     "name": "stdout",
     "output_type": "stream",
     "text": [
      "参与统计的同学中，兼杂体质的同学占比：0.3829787234042553\n"
     ]
    }
   ],
   "source": [
    "# 使用apply()函数和lambda表达式计算每行中值为“是”的个数\n",
    "df2['兼杂体质数'] = df.apply(lambda row: row.eq('是').sum(), axis=1)\n",
    "count_j = (df2['兼杂体质数'] > 1).sum()\n",
    "print(f'参与统计的同学中，兼杂体质的同学占比：{count_j/len(df2)}')"
   ]
  },
  {
   "cell_type": "code",
   "execution_count": 14,
   "metadata": {
    "ExecuteTime": {
     "start_time": "2024-06-02T12:24:33.162405Z",
     "end_time": "2024-06-02T12:24:33.198068Z"
    },
    "collapsed": false,
    "jupyter": {
     "outputs_hidden": false
    }
   },
   "outputs": [],
   "source": [
    "plt.rcParams['font.sans-serif'] = ['SimHei']    # 设置可显示中文，不出现乱码,字体为黑体\n",
    "plt.rcParams['axes.unicode_minus'] = False  # 设置可显示负号"
   ]
  },
  {
   "cell_type": "markdown",
   "metadata": {
    "collapsed": false,
    "jupyter": {
     "outputs_hidden": false
    }
   },
   "source": [
    "### 绘制关于我班“兼杂体质数”的饼图"
   ]
  },
  {
   "cell_type": "code",
   "execution_count": 15,
   "metadata": {
    "ExecuteTime": {
     "start_time": "2024-06-02T12:24:33.166819Z",
     "end_time": "2024-06-02T12:24:33.276658Z"
    },
    "collapsed": false,
    "jupyter": {
     "outputs_hidden": false
    }
   },
   "outputs": [
    {
     "data": {
      "text/plain": "<Figure size 640x480 with 1 Axes>",
      "image/png": "[encoded data removed]"
     },
     "metadata": {},
     "output_type": "display_data"
    }
   ],
   "source": [
    "# 定义数据和标签\n",
    "labels = ['兼杂体质', '非兼杂体质']\n",
    "is_jz = count_j/len(df2)\n",
    "sizes = [is_jz, 1-is_jz] # 这些数字代表每个部分在整体中的比例或数量\n",
    "\n",
    "# 创建饼图\n",
    "fig1, ax1 = plt.subplots()\n",
    "ax1.pie(sizes, labels=labels, autopct='%1.1f%%', startangle=90)\n",
    "\n",
    "ax1.axis('equal')\n",
    "\n",
    "plt.show()"
   ]
  },
  {
   "cell_type": "code",
   "execution_count": 15,
   "outputs": [],
   "source": [],
   "metadata": {
    "collapsed": false,
    "ExecuteTime": {
     "start_time": "2024-06-02T12:24:33.238408Z",
     "end_time": "2024-06-02T12:24:33.276658Z"
    }
   }
  }
 ],
 "metadata": {
  "kernelspec": {
   "display_name": "Python 3 (ipykernel)",
   "language": "python",
   "name": "python3"
  },
  "language_info": {
   "codemirror_mode": {
    "name": "ipython",
    "version": 3
   },
   "file_extension": ".py",
   "mimetype": "text/x-python",
   "name": "python",
   "nbconvert_exporter": "python",
   "pygments_lexer": "ipython3",
   "version": "3.11.5"
  }
 },
 "nbformat": 4,
 "nbformat_minor": 4
}
